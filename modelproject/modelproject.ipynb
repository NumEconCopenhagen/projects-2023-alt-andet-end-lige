{
 "cells": [
  {
   "attachments": {},
   "cell_type": "markdown",
   "metadata": {},
   "source": [
    "# YOUR PROJECT TITLE"
   ]
  },
  {
   "attachments": {},
   "cell_type": "markdown",
   "metadata": {},
   "source": [
    "> **Note the following:** \n",
    "> 1. This is *not* meant to be an example of an actual **model analysis project**, just an example of how to structure such a project.\n",
    "> 1. Remember the general advice on structuring and commenting your code\n",
    "> 1. The `modelproject.py` file includes a function which could be used multiple times in this notebook."
   ]
  },
  {
   "attachments": {},
   "cell_type": "markdown",
   "metadata": {},
   "source": [
    "Imports and set magics:"
   ]
  },
  {
   "cell_type": "code",
   "execution_count": 285,
   "metadata": {},
   "outputs": [
    {
     "name": "stdout",
     "output_type": "stream",
     "text": [
      "The autoreload extension is already loaded. To reload it, use:\n",
      "  %reload_ext autoreload\n"
     ]
    }
   ],
   "source": [
    "import numpy as np\n",
    "from scipy import optimize\n",
    "import sympy as sm\n",
    "from types import SimpleNamespace\n",
    "\n",
    "\n",
    "import pandas as pd \n",
    "import matplotlib.pyplot as plt\n",
    "\n",
    "# autoreload modules when code is run\n",
    "%load_ext autoreload\n",
    "%autoreload 2\n",
    "\n",
    "# local modules\n",
    "from modelproject import PrincipalAgent"
   ]
  },
  {
   "attachments": {},
   "cell_type": "markdown",
   "metadata": {},
   "source": [
    "# Principal Agent Model\n"
   ]
  },
  {
   "attachments": {},
   "cell_type": "markdown",
   "metadata": {},
   "source": [
    "Consider an economy that consists of a principal that wish to hire workers. There are two types of workers, resepctivly high and low productivity workers. The principal faces the following maximization problem: \n",
    "$$\n",
    "\\begin{align*}\n",
    "\\max_{w_H,e_H,w_L,e_l} \\pi  & = q(R_H - w_h)+(1-q)(R_L - w_L)\\\\\n",
    "& \\text{s.t.} \\\\\n",
    "\\tag{$IR_H$}u_H(w_h,e_H) & \\ge r_H \\\\ \n",
    "\\tag{$IR_L$}u_L(w_L,e_L) & \\ge r_L \\\\ \n",
    "\\tag{$IC_H$}u_H(w_H,e_H) & \\ge u(w_L,e_L)\\\\\n",
    "\\tag{$IC_L$}u_L(w_L,e_L) & \\ge u_L(w_H,e_H)\n",
    "\\end{align*}\n",
    "$$\n",
    "where $w_i$ is the wage rate, $e_i$ is the level of education, $r_i$ is the outside utility, $u_i$ is the utility function and $R_i$ is the revenue added by worker i to the total firm revenue. The subscript $i$ of either L or H denotes if the agent has high ($H$) or low productivity ($L$).\n",
    "\n",
    "\n",
    "The individual rationality constraints ($IR_H$/$IR_L$) ensures that the agents accept the offered contract. This implies that the utility of accepting the contract is higher than the outside utility. The incentive compatible constraints ($IC_H$/$IC_L$) ensures that the workers only accept the contract that is meant for them, i.e low productivity workers don't accept the contract meant for high productivity workers (and in principle also vise versa). "
   ]
  },
  {
   "attachments": {},
   "cell_type": "markdown",
   "metadata": {},
   "source": [
    "We have assumed the functional forms of the various functions given below:\n",
    "\n",
    "$$\n",
    "\\begin{align*}\n",
    "u_H & = w - b_H * e_H \\\\\n",
    "u_L & = w - b_L * e_L \\\\\n",
    "R_H & = y_H + \\alpha * e_H \\\\\n",
    "R_L & = y_L + \\alpha * e_L \\\\\n",
    "\\end{align*}\n",
    "$$\n",
    "\n",
    "where the variables are defined as above and $b_i$ is a scalar that denotes the size of the utility cost the agent i faces when taking an education. $\\alpha$ is the effect of education on the firm revenue."
   ]
  },
  {
   "cell_type": "code",
   "execution_count": null,
   "metadata": {},
   "outputs": [],
   "source": []
  },
  {
   "attachments": {},
   "cell_type": "markdown",
   "metadata": {},
   "source": [
    "## Analytical solution"
   ]
  },
  {
   "attachments": {},
   "cell_type": "markdown",
   "metadata": {},
   "source": [
    "If your model allows for an analytical solution, you should provide here.\n",
    "\n",
    "You may use Sympy for this. Then you can characterize the solution as a function of a parameter of the model.\n",
    "\n",
    "To characterize the solution, first derive a steady state equation as a function of a parameter using Sympy.solve and then turn it into a python function by Sympy.lambdify. See the lecture notes for details. "
   ]
  },
  {
   "attachments": {},
   "cell_type": "markdown",
   "metadata": {},
   "source": [
    "## Numerical solution"
   ]
  },
  {
   "attachments": {},
   "cell_type": "markdown",
   "metadata": {},
   "source": [
    "You can always solve a model numerically. \n",
    "\n",
    "Define first the set of parameters you need. \n",
    "\n",
    "Then choose one of the optimization algorithms that we have gone through in the lectures based on what you think is most fitting for your model.\n",
    "\n",
    "Are there any problems with convergence? Does the model converge for all starting values? Make a lot of testing to figure these things out. "
   ]
  },
  {
   "cell_type": "code",
   "execution_count": 286,
   "metadata": {},
   "outputs": [
    {
     "name": "stdout",
     "output_type": "stream",
     "text": [
      "(w_L,e_L,w_H,e_H)=(25.690,3.034,40.000, 12.302)\n"
     ]
    }
   ],
   "source": [
    "model = PrincipalAgent()\n",
    "model.solve()\n",
    "print(f'(w_L,e_L,w_H,e_H)=({model.sol.w_L:.3f},{model.sol.e_L:.3f},{model.sol.w_H:.3f}, {model.sol.e_H:.3f})')"
   ]
  },
  {
   "cell_type": "code",
   "execution_count": 287,
   "metadata": {},
   "outputs": [
    {
     "name": "stdout",
     "output_type": "stream",
     "text": [
      "(w_L,e_L,w_H,e_H)=(25.690,3.034,40.000, 12.302)\n"
     ]
    }
   ],
   "source": [
    "model.par.q = 0.5\n",
    "model.solve()\n",
    "print(f'(w_L,e_L,w_H,e_H)=({model.sol.w_L:.3f},{model.sol.e_L:.3f},{model.sol.w_H:.3f}, {model.sol.e_H:.3f})')"
   ]
  },
  {
   "cell_type": "code",
   "execution_count": 288,
   "metadata": {},
   "outputs": [
    {
     "name": "stdout",
     "output_type": "stream",
     "text": [
      "[1.00000000e-08 2.02020212e-01 4.04040414e-01 6.06060616e-01\n",
      " 8.08080818e-01 1.01010102e+00 1.21212122e+00 1.41414142e+00\n",
      " 1.61616163e+00 1.81818183e+00 2.02020203e+00 2.22222223e+00\n",
      " 2.42424243e+00 2.62626263e+00 2.82828284e+00 3.03030304e+00\n",
      " 3.23232324e+00 3.43434344e+00 3.63636364e+00 3.83838385e+00\n",
      " 4.04040405e+00 4.24242425e+00 4.44444445e+00 4.64646465e+00\n",
      " 4.84848486e+00 5.05050506e+00 5.25252526e+00 5.45454546e+00\n",
      " 5.65656566e+00 5.85858587e+00 6.06060607e+00 6.26262627e+00\n",
      " 6.46464647e+00 6.66666667e+00 6.86868688e+00 7.07070708e+00\n",
      " 7.27272728e+00 7.47474748e+00 7.67676768e+00 7.87878788e+00\n",
      " 8.08080809e+00 8.28282829e+00 8.48484849e+00 8.68686869e+00\n",
      " 8.88888889e+00 9.09090910e+00 9.29292930e+00 9.49494950e+00\n",
      " 9.69696970e+00 9.89898990e+00 1.01010101e+01 1.03030303e+01\n",
      " 1.05050505e+01 1.07070707e+01 1.09090909e+01 1.11111111e+01\n",
      " 1.13131313e+01 1.15151515e+01 1.17171717e+01 1.19191919e+01\n",
      " 1.21212121e+01 1.23232323e+01 1.25252525e+01 1.27272727e+01\n",
      " 1.29292929e+01 1.31313131e+01 1.33333333e+01 1.35353535e+01\n",
      " 1.37373737e+01 1.39393939e+01 1.41414141e+01 1.43434343e+01\n",
      " 1.45454545e+01 1.47474748e+01 1.49494950e+01 1.51515152e+01\n",
      " 1.53535354e+01 1.55555556e+01 1.57575758e+01 1.59595960e+01\n",
      " 1.61616162e+01 1.63636364e+01 1.65656566e+01 1.67676768e+01\n",
      " 1.69696970e+01 1.71717172e+01 1.73737374e+01 1.75757576e+01\n",
      " 1.77777778e+01 1.79797980e+01 1.81818182e+01 1.83838384e+01\n",
      " 1.85858586e+01 1.87878788e+01 1.89898990e+01 1.91919192e+01\n",
      " 1.93939394e+01 1.95959596e+01 1.97979798e+01 2.00000000e+01]\n"
     ]
    }
   ],
   "source": [
    "model.find_indifference_curves()\n",
    "print(model.e_vec)"
   ]
  },
  {
   "cell_type": "code",
   "execution_count": 289,
   "metadata": {},
   "outputs": [
    {
     "data": {
      "image/png": "[encoded data removed]",
      "text/plain": [
       "<Figure size 700x500 with 1 Axes>"
      ]
     },
     "metadata": {},
     "output_type": "display_data"
    }
   ],
   "source": [
    "model.solve()\n",
    "model.find_indifference_curves()\n",
    "model.plot_everything()"
   ]
  },
  {
   "attachments": {},
   "cell_type": "markdown",
   "metadata": {},
   "source": [
    "# Further analysis"
   ]
  },
  {
   "attachments": {},
   "cell_type": "markdown",
   "metadata": {},
   "source": [
    "Make detailed vizualizations of how your model changes with parameter values. \n",
    "\n",
    "Try to make an extension of the model. "
   ]
  },
  {
   "attachments": {},
   "cell_type": "markdown",
   "metadata": {},
   "source": [
    "# Conclusion"
   ]
  },
  {
   "attachments": {},
   "cell_type": "markdown",
   "metadata": {},
   "source": [
    "Add concise conclusion. "
   ]
  }
 ],
 "metadata": {
  "kernelspec": {
   "display_name": "base",
   "language": "python",
   "name": "python3"
  },
  "language_info": {
   "codemirror_mode": {
    "name": "ipython",
    "version": 3
   },
   "file_extension": ".py",
   "mimetype": "text/x-python",
   "name": "python",
   "nbconvert_exporter": "python",
   "pygments_lexer": "ipython3",
   "version": "3.9.13"
  },
  "toc-autonumbering": true,
  "vscode": {
   "interpreter": {
    "hash": "47ef90cdf3004d3f859f1fb202523c65c07ba7c22eefd261b181f4744e2d0403"
   }
  }
 },
 "nbformat": 4,
 "nbformat_minor": 4
}
