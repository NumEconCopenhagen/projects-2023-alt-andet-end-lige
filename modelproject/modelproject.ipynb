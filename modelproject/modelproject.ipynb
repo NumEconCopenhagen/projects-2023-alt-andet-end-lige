{
 "cells": [
  {
   "attachments": {},
   "cell_type": "markdown",
   "metadata": {},
   "source": [
    "# YOUR PROJECT TITLE"
   ]
  },
  {
   "attachments": {},
   "cell_type": "markdown",
   "metadata": {},
   "source": [
    "> **Note the following:** \n",
    "> 1. This is *not* meant to be an example of an actual **model analysis project**, just an example of how to structure such a project.\n",
    "> 1. Remember the general advice on structuring and commenting your code\n",
    "> 1. The `modelproject.py` file includes a function which could be used multiple times in this notebook."
   ]
  },
  {
   "attachments": {},
   "cell_type": "markdown",
   "metadata": {},
   "source": [
    "Imports and set magics:"
   ]
  },
  {
   "cell_type": "code",
   "execution_count": 2,
   "metadata": {},
   "outputs": [],
   "source": [
    "import numpy as np\n",
    "from scipy import optimize\n",
    "import sympy as sm\n",
    "from types import SimpleNamespace\n",
    "\n",
    "\n",
    "import pandas as pd \n",
    "import matplotlib.pyplot as plt\n",
    "\n",
    "# autoreload modules when code is run\n",
    "%load_ext autoreload\n",
    "%autoreload 2\n",
    "\n",
    "# local modules\n",
    "import modelproject"
   ]
  },
  {
   "attachments": {},
   "cell_type": "markdown",
   "metadata": {},
   "source": [
    "# Principal Agent Model\n"
   ]
  },
  {
   "attachments": {},
   "cell_type": "markdown",
   "metadata": {},
   "source": [
    "Consider an economy that consists of a principal that wish to hire workers. There are two types of workers, resepctivly high and low productivity workers. The principal faces the following maximization problem: \n",
    "$$\n",
    "\\begin{align*}\n",
    "\\max_{w_H,e_H,w_L,e_l} \\pi  & = q(py_H+\\alpha e_H -w_h)+(1-q)(py_L+\\alpha e_L-w_L)\\\\\n",
    "& \\text{s.t.} \\\\\n",
    "\\tag{$IR_H$}u_H(w_h,e_H) & \\ge r_H \\\\ \n",
    "\\tag{$IR_L$}u_L(w_L,e_L) & \\ge r_L \\\\ \n",
    "\\tag{$IC_H$}u_H(w_H,e_H) & \\ge u(w_L,e_L)\\\\\n",
    "\\tag{$IC_L$}u_L(w_L,e_L) & \\ge u_L(w_H,e_H)\n",
    "\\end{align*}\n",
    "$$\n",
    "where $w$ is the wage rate, $e$ is the level of education for the workers, $p$ is the price and $y$ is the production. $r$ is the outside utility. The subscript of either L or H denotes if the agent has high or low productivity.\n",
    "\n",
    "\n",
    "The individual rationality constraints ($IR_H$/$IR_L$) ensures that the agents accept the offerd contract. This implies that the utility of accepting the contract is higher than the outside utility. The incentive compatible constraints ($IC_H$/$IC_L$) ensures that the workers only accept the contract that is meant for them, i.e low productivity workers don't accept the contract meant for high productivity workers (and in principle also vise versa). "
   ]
  },
  {
   "attachments": {},
   "cell_type": "markdown",
   "metadata": {},
   "source": [
    "We have assumed the functional forms of the various functions given below:\n",
    "\n",
    "$$\n",
    "\\begin{align*}\n",
    "u_H & = w - b_H * e_H \\\\\n",
    "u_L & = w - b_L * e_L \\\\\n",
    "R_H & = y_H + \\alpha * e_H \\\\\n",
    "R_L & = y_L + \\alpha * e_L \\\\\n",
    "\\end{align*}\n",
    "$$\n",
    ", where $R_H$ and $R_L$ denotes the revenue created for the firm by high productivity workers and lwo productivity workers, respectively.\n",
    "\n",
    "Note also that we have normalized $p=1$."
   ]
  },
  {
   "cell_type": "code",
   "execution_count": 4,
   "metadata": {},
   "outputs": [],
   "source": [
    "#defining the baseline parameters used in the model and creating a space for solutions\n",
    "def __init__(self):\n",
    "\n",
    "    par = self.par = SimpleNamespace()\n",
    "    sol = self.sol =SimpleNamespace()\n",
    "    \n",
    "    par.alpha = 0.5\n",
    "    par.q = 0.5\n",
    "    par.bl = 3\n",
    "    par.bh = 1\n",
    "    par.yl = 100\n",
    "    par.yh = 200\n",
    "\n",
    "\n"
   ]
  },
  {
   "attachments": {},
   "cell_type": "markdown",
   "metadata": {},
   "source": [
    "## Analytical solution"
   ]
  },
  {
   "attachments": {},
   "cell_type": "markdown",
   "metadata": {},
   "source": [
    "If your model allows for an analytical solution, you should provide here.\n",
    "\n",
    "You may use Sympy for this. Then you can characterize the solution as a function of a parameter of the model.\n",
    "\n",
    "To characterize the solution, first derive a steady state equation as a function of a parameter using Sympy.solve and then turn it into a python function by Sympy.lambdify. See the lecture notes for details. "
   ]
  },
  {
   "attachments": {},
   "cell_type": "markdown",
   "metadata": {},
   "source": [
    "## Numerical solution"
   ]
  },
  {
   "attachments": {},
   "cell_type": "markdown",
   "metadata": {},
   "source": [
    "You can always solve a model numerically. \n",
    "\n",
    "Define first the set of parameters you need. \n",
    "\n",
    "Then choose one of the optimization algorithms that we have gone through in the lectures based on what you think is most fitting for your model.\n",
    "\n",
    "Are there any problems with convergence? Does the model converge for all starting values? Make a lot of testing to figure these things out. "
   ]
  },
  {
   "attachments": {},
   "cell_type": "markdown",
   "metadata": {},
   "source": [
    "# Further analysis"
   ]
  },
  {
   "attachments": {},
   "cell_type": "markdown",
   "metadata": {},
   "source": [
    "Make detailed vizualizations of how your model changes with parameter values. \n",
    "\n",
    "Try to make an extension of the model. "
   ]
  },
  {
   "attachments": {},
   "cell_type": "markdown",
   "metadata": {},
   "source": [
    "# Conclusion"
   ]
  },
  {
   "attachments": {},
   "cell_type": "markdown",
   "metadata": {},
   "source": [
    "Add concise conclusion. "
   ]
  }
 ],
 "metadata": {
  "kernelspec": {
   "display_name": "base",
   "language": "python",
   "name": "python3"
  },
  "language_info": {
   "codemirror_mode": {
    "name": "ipython",
    "version": 3
   },
   "file_extension": ".py",
   "mimetype": "text/x-python",
   "name": "python",
   "nbconvert_exporter": "python",
   "pygments_lexer": "ipython3",
   "version": "3.9.13"
  },
  "toc-autonumbering": true,
  "vscode": {
   "interpreter": {
    "hash": "47ef90cdf3004d3f859f1fb202523c65c07ba7c22eefd261b181f4744e2d0403"
   }
  }
 },
 "nbformat": 4,
 "nbformat_minor": 4
}
