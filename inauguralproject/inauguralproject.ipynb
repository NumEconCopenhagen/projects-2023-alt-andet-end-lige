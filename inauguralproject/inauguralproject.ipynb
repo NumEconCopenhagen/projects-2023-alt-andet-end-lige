{
 "cells": [
  {
   "cell_type": "markdown",
   "metadata": {},
   "source": [
    "# Inaugural Project"
   ]
  },
  {
   "attachments": {},
   "cell_type": "markdown",
   "metadata": {},
   "source": [
    "> **Note the following:** \n",
    "> 1. This is an example of how to structure your **inaugural project**.\n",
    "> 1. Remember the general advice on structuring and commenting your code\n",
    "> 1. The `inauguralproject.py` file includes a function which can be used multiple times in this notebook."
   ]
  },
  {
   "cell_type": "markdown",
   "metadata": {},
   "source": [
    "Imports and set magics:"
   ]
  },
  {
   "cell_type": "code",
   "execution_count": 17,
   "metadata": {},
   "outputs": [
    {
     "name": "stdout",
     "output_type": "stream",
     "text": [
      "The autoreload extension is already loaded. To reload it, use:\n",
      "  %reload_ext autoreload\n"
     ]
    }
   ],
   "source": [
    "import numpy as np\n",
    "import pandas as pd\n",
    "# autoreload modules when code is run. Otherwise, python will not see recent changes. \n",
    "%load_ext autoreload\n",
    "%autoreload 2\n",
    "\n",
    "# Import packages for plots etc. \n",
    "import matplotlib.pyplot as plt\n",
    "%matplotlib inline\n",
    "plt.rcParams.update({\"axes.grid\":True,\"grid.color\":\"black\",\"grid.alpha\":\"0.25\",\"grid.linestyle\":\"--\"})\n",
    "plt.rcParams.update({'font.size': 14})\n",
    "import ipywidgets as widgets # For interactive plots/buttons\n",
    "\n",
    "# Import your own code\n",
    "import inauguralproject "
   ]
  },
  {
   "cell_type": "markdown",
   "metadata": {},
   "source": [
    "# Question 1"
   ]
  },
  {
   "cell_type": "code",
   "execution_count": 18,
   "metadata": {},
   "outputs": [
    {
     "name": "stderr",
     "output_type": "stream",
     "text": [
      "/Users/asger/projects-2023-alt-andet-end-lige-1/inauguralproject/inauguralproject.py:83: RuntimeWarning: divide by zero encountered in reciprocal\n",
      "  def H(self, HM, HF):\n",
      "/Users/asger/projects-2023-alt-andet-end-lige-1/inauguralproject/inauguralproject.py:83: RuntimeWarning: invalid value encountered in reciprocal\n",
      "  def H(self, HM, HF):\n",
      "/Users/asger/projects-2023-alt-andet-end-lige-1/inauguralproject/inauguralproject.py:88: RuntimeWarning: invalid value encountered in reciprocal\n",
      "  #b. Return\n"
     ]
    },
    {
     "name": "stdout",
     "output_type": "stream",
     "text": [
      "         0.25 0.50      0.75\n",
      "0.5  0.545455  1.0  1.833333\n",
      "1.0  0.307692  1.0      3.25\n",
      "1.5  0.214286  1.0  4.666667\n"
     ]
    }
   ],
   "source": [
    "model = inauguralproject.HouseholdSpecializationModelClass()\n",
    "\n",
    "\n",
    "#a. Create list with values of alpha and sigma\n",
    "alpha_list = [0.25, 0.5, 0.75]\n",
    "sigma_list = [0.5,1.0,1.5]\n",
    "\n",
    "df = pd.DataFrame(columns = alpha_list, index = sigma_list)\n",
    "\n",
    "\n",
    "\n",
    "for i in alpha_list:\n",
    "    for j in sigma_list:\n",
    "        model.par.alpha = i\n",
    "        model.par.sigma = j\n",
    "        results = model.solve_discrete()\n",
    "        ratio = results.HF / results.HM\n",
    "        df.loc[j,i] = ratio\n",
    "\n",
    "print(df)\n",
    "\n"
   ]
  },
  {
   "cell_type": "markdown",
   "metadata": {},
   "source": [
    "# Question 2"
   ]
  },
  {
   "cell_type": "markdown",
   "metadata": {},
   "source": [
    "Explain your code and procedure"
   ]
  },
  {
   "cell_type": "code",
   "execution_count": 3,
   "metadata": {},
   "outputs": [],
   "source": [
    "# code"
   ]
  },
  {
   "cell_type": "markdown",
   "metadata": {},
   "source": [
    "# Question 3"
   ]
  },
  {
   "cell_type": "markdown",
   "metadata": {},
   "source": [
    "Explain your code and procedure"
   ]
  },
  {
   "cell_type": "code",
   "execution_count": 4,
   "metadata": {},
   "outputs": [],
   "source": [
    "# code"
   ]
  },
  {
   "cell_type": "markdown",
   "metadata": {},
   "source": [
    "ADD CONCISE CONLUSION."
   ]
  }
 ],
 "metadata": {
  "kernelspec": {
   "display_name": "base",
   "language": "python",
   "name": "python3"
  },
  "language_info": {
   "codemirror_mode": {
    "name": "ipython",
    "version": 3
   },
   "file_extension": ".py",
   "mimetype": "text/x-python",
   "name": "python",
   "nbconvert_exporter": "python",
   "pygments_lexer": "ipython3",
   "version": "3.9.16"
  },
  "toc-autonumbering": true,
  "vscode": {
   "interpreter": {
    "hash": "47ef90cdf3004d3f859f1fb202523c65c07ba7c22eefd261b181f4744e2d0403"
   }
  }
 },
 "nbformat": 4,
 "nbformat_minor": 4
}
