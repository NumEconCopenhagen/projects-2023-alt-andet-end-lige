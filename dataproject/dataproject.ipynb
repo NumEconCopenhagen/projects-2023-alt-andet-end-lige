{
 "cells": [
  {
   "attachments": {},
   "cell_type": "markdown",
   "metadata": {},
   "source": [
    "# Alt andet end lige: Data project"
   ]
  },
  {
   "attachments": {},
   "cell_type": "markdown",
   "metadata": {},
   "source": [
    "**Table of contents**<a id='toc0_'></a>    \n",
    "- 1. [Read and clean data](#toc1_)    \n",
    "  - 1.1. [Exploring the data sets](#toc1_1_)    \n",
    "  - 1.2. [Choosing a subset of the dataset](#toc1_2_)    \n",
    "  - 1.3. [Plotting](#toc1_3_)    \n",
    "- 2. [Merge with data on the unemployment rate](#toc2_)    \n",
    "  - 2.1. [Overview of the unemployment data](#toc2_1_)    \n",
    "  - 2.2. [Cleaning the new dataset on unemployment](#toc2_2_)    \n",
    "    - 2.2.1. [Taking quarterly averages over the unemployment rate](#toc2_2_1_)    \n",
    "  - 2.3. [Merging the datasets](#toc2_3_)    \n",
    "    - 2.3.1. [The inner merge](#toc2_3_1_)    \n",
    "- 3. [Examining the correlation between the unemployment rate and housing prices](#toc3_)    \n",
    "- 4. [Conclusion](#toc4_)    \n",
    "\n",
    "<!-- vscode-jupyter-toc-config\n",
    "\tnumbering=true\n",
    "\tanchor=true\n",
    "\tflat=false\n",
    "\tminLevel=2\n",
    "\tmaxLevel=6\n",
    "\t/vscode-jupyter-toc-config -->\n",
    "<!-- THIS CELL WILL BE REPLACED ON TOC UPDATE. DO NOT WRITE YOUR TEXT IN THIS CELL -->"
   ]
  },
  {
   "attachments": {},
   "cell_type": "markdown",
   "metadata": {},
   "source": [
    "Importing packages and setting magics:"
   ]
  },
  {
   "cell_type": "code",
   "execution_count": 65,
   "metadata": {},
   "outputs": [
    {
     "name": "stdout",
     "output_type": "stream",
     "text": [
      "The autoreload extension is already loaded. To reload it, use:\n",
      "  %reload_ext autoreload\n"
     ]
    }
   ],
   "source": [
    "# importing the used packages \n",
    "import pandas as pd\n",
    "import numpy as np\n",
    "import datetime\n",
    "\n",
    "# importing package to create plots and setting basic, visual settings\n",
    "import matplotlib.pyplot as plt\n",
    "plt.rcParams.update({\"axes.grid\":True,\"grid.color\":\"black\",\"grid.alpha\":\"0.25\",\"grid.linestyle\":\"-\"})\n",
    "plt.rcParams.update({'font.size': 10})\n",
    "import ipywidgets as widgets\n",
    "\n",
    "# importing the API from DST used to import data\n",
    "from dstapi import DstApi \n",
    "\n",
    "# autoreload modules when code is run\n",
    "%load_ext autoreload\n",
    "%autoreload 2\n",
    "\n",
    "# user written modules\n",
    "import dataproject as py\n",
    "\n"
   ]
  },
  {
   "attachments": {},
   "cell_type": "markdown",
   "metadata": {},
   "source": [
    "## 1. <a id='toc1_'></a>[Read and clean data](#toc0_)"
   ]
  },
  {
   "attachments": {},
   "cell_type": "markdown",
   "metadata": {},
   "source": [
    "1. Data is imported using the API for Danmarks statistik"
   ]
  },
  {
   "cell_type": "code",
   "execution_count": 66,
   "metadata": {},
   "outputs": [],
   "source": [
    "price = DstApi('EJ55') #EJ55 is data on the pricing of houses\n",
    "unemp = DstApi('AUS08') #AUS08 is seasonally adjusted data on the unemployment rate"
   ]
  },
  {
   "attachments": {},
   "cell_type": "markdown",
   "metadata": {},
   "source": [
    "### 1.1. <a id='toc1_1_'></a>[Exploring the data sets](#toc0_)"
   ]
  },
  {
   "attachments": {},
   "cell_type": "markdown",
   "metadata": {},
   "source": [
    "1. The available values for each variable is plotted in order to select relevant variables. "
   ]
  },
  {
   "cell_type": "code",
   "execution_count": 67,
   "metadata": {},
   "outputs": [
    {
     "name": "stdout",
     "output_type": "stream",
     "text": [
      "Table EJ55: Price index for sales of property by region, category of real property, unit and time\n",
      "Last update: 2023-03-31T08:00:00\n"
     ]
    },
    {
     "data": {
      "text/html": [
       "<div>\n",
       "<style scoped>\n",
       "    .dataframe tbody tr th:only-of-type {\n",
       "        vertical-align: middle;\n",
       "    }\n",
       "\n",
       "    .dataframe tbody tr th {\n",
       "        vertical-align: top;\n",
       "    }\n",
       "\n",
       "    .dataframe thead th {\n",
       "        text-align: right;\n",
       "    }\n",
       "</style>\n",
       "<table border=\"1\" class=\"dataframe\">\n",
       "  <thead>\n",
       "    <tr style=\"text-align: right;\">\n",
       "      <th></th>\n",
       "      <th>variable name</th>\n",
       "      <th># values</th>\n",
       "      <th>First value</th>\n",
       "      <th>First value label</th>\n",
       "      <th>Last value</th>\n",
       "      <th>Last value label</th>\n",
       "      <th>Time variable</th>\n",
       "    </tr>\n",
       "  </thead>\n",
       "  <tbody>\n",
       "    <tr>\n",
       "      <th>0</th>\n",
       "      <td>OMRÅDE</td>\n",
       "      <td>17</td>\n",
       "      <td>000</td>\n",
       "      <td>All Denmark</td>\n",
       "      <td>11</td>\n",
       "      <td>Province Nordjylland</td>\n",
       "      <td>False</td>\n",
       "    </tr>\n",
       "    <tr>\n",
       "      <th>1</th>\n",
       "      <td>EJENDOMSKATE</td>\n",
       "      <td>3</td>\n",
       "      <td>0111</td>\n",
       "      <td>One-family houses</td>\n",
       "      <td>2103</td>\n",
       "      <td>Owner-occupied flats, total</td>\n",
       "      <td>False</td>\n",
       "    </tr>\n",
       "    <tr>\n",
       "      <th>2</th>\n",
       "      <td>TAL</td>\n",
       "      <td>3</td>\n",
       "      <td>100</td>\n",
       "      <td>Index</td>\n",
       "      <td>310</td>\n",
       "      <td>Percentage change compared to same quarter the...</td>\n",
       "      <td>False</td>\n",
       "    </tr>\n",
       "    <tr>\n",
       "      <th>3</th>\n",
       "      <td>Tid</td>\n",
       "      <td>124</td>\n",
       "      <td>1992K1</td>\n",
       "      <td>1992Q1</td>\n",
       "      <td>2022K4</td>\n",
       "      <td>2022Q4</td>\n",
       "      <td>True</td>\n",
       "    </tr>\n",
       "  </tbody>\n",
       "</table>\n",
       "</div>"
      ],
      "text/plain": [
       "  variable name  # values First value  First value label Last value  \\\n",
       "0        OMRÅDE        17         000        All Denmark         11   \n",
       "1  EJENDOMSKATE         3        0111  One-family houses       2103   \n",
       "2           TAL         3         100              Index        310   \n",
       "3           Tid       124      1992K1             1992Q1     2022K4   \n",
       "\n",
       "                                    Last value label  Time variable  \n",
       "0                               Province Nordjylland          False  \n",
       "1                        Owner-occupied flats, total          False  \n",
       "2  Percentage change compared to same quarter the...          False  \n",
       "3                                             2022Q4           True  "
      ]
     },
     "metadata": {},
     "output_type": "display_data"
    },
    {
     "name": "stdout",
     "output_type": "stream",
     "text": [
      "OMRÅDE:\n"
     ]
    },
    {
     "data": {
      "text/html": [
       "<div>\n",
       "<style scoped>\n",
       "    .dataframe tbody tr th:only-of-type {\n",
       "        vertical-align: middle;\n",
       "    }\n",
       "\n",
       "    .dataframe tbody tr th {\n",
       "        vertical-align: top;\n",
       "    }\n",
       "\n",
       "    .dataframe thead th {\n",
       "        text-align: right;\n",
       "    }\n",
       "</style>\n",
       "<table border=\"1\" class=\"dataframe\">\n",
       "  <thead>\n",
       "    <tr style=\"text-align: right;\">\n",
       "      <th></th>\n",
       "      <th>id</th>\n",
       "      <th>text</th>\n",
       "    </tr>\n",
       "  </thead>\n",
       "  <tbody>\n",
       "    <tr>\n",
       "      <th>0</th>\n",
       "      <td>000</td>\n",
       "      <td>All Denmark</td>\n",
       "    </tr>\n",
       "    <tr>\n",
       "      <th>1</th>\n",
       "      <td>084</td>\n",
       "      <td>Region Hovedstaden</td>\n",
       "    </tr>\n",
       "    <tr>\n",
       "      <th>2</th>\n",
       "      <td>01</td>\n",
       "      <td>Province Byen København</td>\n",
       "    </tr>\n",
       "    <tr>\n",
       "      <th>3</th>\n",
       "      <td>02</td>\n",
       "      <td>Province Københavns omegn</td>\n",
       "    </tr>\n",
       "    <tr>\n",
       "      <th>4</th>\n",
       "      <td>03</td>\n",
       "      <td>Province Nordsjælland</td>\n",
       "    </tr>\n",
       "    <tr>\n",
       "      <th>5</th>\n",
       "      <td>04</td>\n",
       "      <td>Province Bornholm</td>\n",
       "    </tr>\n",
       "    <tr>\n",
       "      <th>6</th>\n",
       "      <td>085</td>\n",
       "      <td>Region Sjælland</td>\n",
       "    </tr>\n",
       "    <tr>\n",
       "      <th>7</th>\n",
       "      <td>05</td>\n",
       "      <td>Province Østsjælland</td>\n",
       "    </tr>\n",
       "    <tr>\n",
       "      <th>8</th>\n",
       "      <td>06</td>\n",
       "      <td>Province Vest- og Sydsjælland</td>\n",
       "    </tr>\n",
       "    <tr>\n",
       "      <th>9</th>\n",
       "      <td>083</td>\n",
       "      <td>Region Syddanmark</td>\n",
       "    </tr>\n",
       "    <tr>\n",
       "      <th>10</th>\n",
       "      <td>07</td>\n",
       "      <td>Province Fyn</td>\n",
       "    </tr>\n",
       "    <tr>\n",
       "      <th>11</th>\n",
       "      <td>08</td>\n",
       "      <td>Province Sydjylland</td>\n",
       "    </tr>\n",
       "    <tr>\n",
       "      <th>12</th>\n",
       "      <td>082</td>\n",
       "      <td>Region Midtjylland</td>\n",
       "    </tr>\n",
       "    <tr>\n",
       "      <th>13</th>\n",
       "      <td>09</td>\n",
       "      <td>Province Østjylland</td>\n",
       "    </tr>\n",
       "    <tr>\n",
       "      <th>14</th>\n",
       "      <td>10</td>\n",
       "      <td>Province Vestjylland</td>\n",
       "    </tr>\n",
       "    <tr>\n",
       "      <th>15</th>\n",
       "      <td>081</td>\n",
       "      <td>Region Nordjylland</td>\n",
       "    </tr>\n",
       "    <tr>\n",
       "      <th>16</th>\n",
       "      <td>11</td>\n",
       "      <td>Province Nordjylland</td>\n",
       "    </tr>\n",
       "  </tbody>\n",
       "</table>\n",
       "</div>"
      ],
      "text/plain": [
       "     id                           text\n",
       "0   000                    All Denmark\n",
       "1   084             Region Hovedstaden\n",
       "2    01        Province Byen København\n",
       "3    02      Province Københavns omegn\n",
       "4    03          Province Nordsjælland\n",
       "5    04              Province Bornholm\n",
       "6   085                Region Sjælland\n",
       "7    05           Province Østsjælland\n",
       "8    06  Province Vest- og Sydsjælland\n",
       "9   083              Region Syddanmark\n",
       "10   07                   Province Fyn\n",
       "11   08            Province Sydjylland\n",
       "12  082             Region Midtjylland\n",
       "13   09            Province Østjylland\n",
       "14   10           Province Vestjylland\n",
       "15  081             Region Nordjylland\n",
       "16   11           Province Nordjylland"
      ]
     },
     "metadata": {},
     "output_type": "display_data"
    },
    {
     "name": "stdout",
     "output_type": "stream",
     "text": [
      "EJENDOMSKATE:\n"
     ]
    },
    {
     "data": {
      "text/html": [
       "<div>\n",
       "<style scoped>\n",
       "    .dataframe tbody tr th:only-of-type {\n",
       "        vertical-align: middle;\n",
       "    }\n",
       "\n",
       "    .dataframe tbody tr th {\n",
       "        vertical-align: top;\n",
       "    }\n",
       "\n",
       "    .dataframe thead th {\n",
       "        text-align: right;\n",
       "    }\n",
       "</style>\n",
       "<table border=\"1\" class=\"dataframe\">\n",
       "  <thead>\n",
       "    <tr style=\"text-align: right;\">\n",
       "      <th></th>\n",
       "      <th>id</th>\n",
       "      <th>text</th>\n",
       "    </tr>\n",
       "  </thead>\n",
       "  <tbody>\n",
       "    <tr>\n",
       "      <th>0</th>\n",
       "      <td>0111</td>\n",
       "      <td>One-family houses</td>\n",
       "    </tr>\n",
       "    <tr>\n",
       "      <th>1</th>\n",
       "      <td>0801</td>\n",
       "      <td>Weekend cottages</td>\n",
       "    </tr>\n",
       "    <tr>\n",
       "      <th>2</th>\n",
       "      <td>2103</td>\n",
       "      <td>Owner-occupied flats, total</td>\n",
       "    </tr>\n",
       "  </tbody>\n",
       "</table>\n",
       "</div>"
      ],
      "text/plain": [
       "     id                         text\n",
       "0  0111            One-family houses\n",
       "1  0801             Weekend cottages\n",
       "2  2103  Owner-occupied flats, total"
      ]
     },
     "metadata": {},
     "output_type": "display_data"
    },
    {
     "name": "stdout",
     "output_type": "stream",
     "text": [
      "TAL:\n"
     ]
    },
    {
     "data": {
      "text/html": [
       "<div>\n",
       "<style scoped>\n",
       "    .dataframe tbody tr th:only-of-type {\n",
       "        vertical-align: middle;\n",
       "    }\n",
       "\n",
       "    .dataframe tbody tr th {\n",
       "        vertical-align: top;\n",
       "    }\n",
       "\n",
       "    .dataframe thead th {\n",
       "        text-align: right;\n",
       "    }\n",
       "</style>\n",
       "<table border=\"1\" class=\"dataframe\">\n",
       "  <thead>\n",
       "    <tr style=\"text-align: right;\">\n",
       "      <th></th>\n",
       "      <th>id</th>\n",
       "      <th>text</th>\n",
       "    </tr>\n",
       "  </thead>\n",
       "  <tbody>\n",
       "    <tr>\n",
       "      <th>0</th>\n",
       "      <td>100</td>\n",
       "      <td>Index</td>\n",
       "    </tr>\n",
       "    <tr>\n",
       "      <th>1</th>\n",
       "      <td>210</td>\n",
       "      <td>Percentage change compared to previous quarter</td>\n",
       "    </tr>\n",
       "    <tr>\n",
       "      <th>2</th>\n",
       "      <td>310</td>\n",
       "      <td>Percentage change compared to same quarter the...</td>\n",
       "    </tr>\n",
       "  </tbody>\n",
       "</table>\n",
       "</div>"
      ],
      "text/plain": [
       "    id                                               text\n",
       "0  100                                              Index\n",
       "1  210     Percentage change compared to previous quarter\n",
       "2  310  Percentage change compared to same quarter the..."
      ]
     },
     "metadata": {},
     "output_type": "display_data"
    },
    {
     "name": "stdout",
     "output_type": "stream",
     "text": [
      "Tid:\n"
     ]
    },
    {
     "data": {
      "text/html": [
       "<div>\n",
       "<style scoped>\n",
       "    .dataframe tbody tr th:only-of-type {\n",
       "        vertical-align: middle;\n",
       "    }\n",
       "\n",
       "    .dataframe tbody tr th {\n",
       "        vertical-align: top;\n",
       "    }\n",
       "\n",
       "    .dataframe thead th {\n",
       "        text-align: right;\n",
       "    }\n",
       "</style>\n",
       "<table border=\"1\" class=\"dataframe\">\n",
       "  <thead>\n",
       "    <tr style=\"text-align: right;\">\n",
       "      <th></th>\n",
       "      <th>id</th>\n",
       "      <th>text</th>\n",
       "    </tr>\n",
       "  </thead>\n",
       "  <tbody>\n",
       "    <tr>\n",
       "      <th>0</th>\n",
       "      <td>1992K1</td>\n",
       "      <td>1992Q1</td>\n",
       "    </tr>\n",
       "    <tr>\n",
       "      <th>1</th>\n",
       "      <td>1992K2</td>\n",
       "      <td>1992Q2</td>\n",
       "    </tr>\n",
       "    <tr>\n",
       "      <th>2</th>\n",
       "      <td>1992K3</td>\n",
       "      <td>1992Q3</td>\n",
       "    </tr>\n",
       "    <tr>\n",
       "      <th>3</th>\n",
       "      <td>1992K4</td>\n",
       "      <td>1992Q4</td>\n",
       "    </tr>\n",
       "    <tr>\n",
       "      <th>4</th>\n",
       "      <td>1993K1</td>\n",
       "      <td>1993Q1</td>\n",
       "    </tr>\n",
       "    <tr>\n",
       "      <th>...</th>\n",
       "      <td>...</td>\n",
       "      <td>...</td>\n",
       "    </tr>\n",
       "    <tr>\n",
       "      <th>119</th>\n",
       "      <td>2021K4</td>\n",
       "      <td>2021Q4</td>\n",
       "    </tr>\n",
       "    <tr>\n",
       "      <th>120</th>\n",
       "      <td>2022K1</td>\n",
       "      <td>2022Q1</td>\n",
       "    </tr>\n",
       "    <tr>\n",
       "      <th>121</th>\n",
       "      <td>2022K2</td>\n",
       "      <td>2022Q2</td>\n",
       "    </tr>\n",
       "    <tr>\n",
       "      <th>122</th>\n",
       "      <td>2022K3</td>\n",
       "      <td>2022Q3</td>\n",
       "    </tr>\n",
       "    <tr>\n",
       "      <th>123</th>\n",
       "      <td>2022K4</td>\n",
       "      <td>2022Q4</td>\n",
       "    </tr>\n",
       "  </tbody>\n",
       "</table>\n",
       "<p>124 rows × 2 columns</p>\n",
       "</div>"
      ],
      "text/plain": [
       "         id    text\n",
       "0    1992K1  1992Q1\n",
       "1    1992K2  1992Q2\n",
       "2    1992K3  1992Q3\n",
       "3    1992K4  1992Q4\n",
       "4    1993K1  1993Q1\n",
       "..      ...     ...\n",
       "119  2021K4  2021Q4\n",
       "120  2022K1  2022Q1\n",
       "121  2022K2  2022Q2\n",
       "122  2022K3  2022Q3\n",
       "123  2022K4  2022Q4\n",
       "\n",
       "[124 rows x 2 columns]"
      ]
     },
     "metadata": {},
     "output_type": "display_data"
    }
   ],
   "source": [
    "#An overview over the available data. \n",
    "tabsum = price.tablesummary(language='en')\n",
    "display(tabsum)\n",
    "\n",
    "# Displaying the available values for each variable:\n",
    "for variable in tabsum['variable name']:\n",
    "    print(variable+':')\n",
    "    display(price.variable_levels(variable, language='en'))"
   ]
  },
  {
   "attachments": {},
   "cell_type": "markdown",
   "metadata": {},
   "source": [
    "### 1.2. <a id='toc1_2_'></a>[Choosing a subset of the dataset](#toc0_)"
   ]
  },
  {
   "attachments": {},
   "cell_type": "markdown",
   "metadata": {},
   "source": [
    "We are only interested in a subset of the total dataset. Below, we specify the subset of the dataset we want to include"
   ]
  },
  {
   "attachments": {},
   "cell_type": "markdown",
   "metadata": {},
   "source": [
    "1. A param dictionary is defined in order to detail the data we want"
   ]
  },
  {
   "cell_type": "code",
   "execution_count": 68,
   "metadata": {},
   "outputs": [
    {
     "data": {
      "text/plain": [
       "{'table': 'ej55',\n",
       " 'format': 'BULK',\n",
       " 'lang': 'en',\n",
       " 'variables': [{'code': 'OMRÅDE', 'values': ['*']},\n",
       "  {'code': 'EJENDOMSKATE', 'values': ['*']},\n",
       "  {'code': 'TAL', 'values': ['*']},\n",
       "  {'code': 'Tid', 'values': ['*']}]}"
      ]
     },
     "execution_count": 68,
     "metadata": {},
     "output_type": "execute_result"
    }
   ],
   "source": [
    "# Getting an overview of the underlying code that determines which variables and subset of data we import via the API\n",
    "params = price._define_base_params(language='en')\n",
    "params"
   ]
  },
  {
   "attachments": {},
   "cell_type": "markdown",
   "metadata": {},
   "source": [
    "1. We select the data we want. We only want data for \"All Denmark\" in indexed values."
   ]
  },
  {
   "cell_type": "code",
   "execution_count": 69,
   "metadata": {},
   "outputs": [],
   "source": [
    "# Using the format printed above to specify which subsets of the available dataset we want to import\n",
    "params = {'table': 'ej55',\n",
    " 'format': 'BULK',\n",
    " 'lang': 'en',\n",
    " 'variables': [{'code': 'OMRÅDE', 'values': ['01', '02', '03', '04', '05', '06', '07', '08', '09', '10', '11']},\n",
    "  {'code': 'EJENDOMSKATE', 'values': ['0111']},\n",
    "  {'code': 'TAL', 'values': ['100']}, # with the key 'code' we choose the desired variable and with the key 'values' we choose what subset of the dataset for the given variable we want to include\n",
    "  {'code': 'Tid', 'values': ['*']}]} # ['*'] includes all the available data"
   ]
  },
  {
   "attachments": {},
   "cell_type": "markdown",
   "metadata": {},
   "source": [
    "1. Data is sorted and the index is reset. \n",
    "2. Columns are renamed."
   ]
  },
  {
   "cell_type": "code",
   "execution_count": 70,
   "metadata": {},
   "outputs": [],
   "source": [
    "sales_api = price.get_data(params=params) # retrieving the specified subset of the dataset from DST\n",
    "sales_api.sort_values(by=['OMRÅDE', 'TID', 'EJENDOMSKATE'], inplace=True) # sorting the values\n",
    "sales_api.reset_index(inplace = True, drop = True) # resetting the initial index, so it fits the new dataset\n",
    "sales_api.rename(columns = {'OMRÅDE':'PROVINCE', 'EJENDOMSKATE':'CATEGORY', 'TAL':'UNIT', 'TID':'TIME', 'INDHOLD':'SALES_INDEX'}, inplace=True) # renaming columns"
   ]
  },
  {
   "attachments": {},
   "cell_type": "markdown",
   "metadata": {},
   "source": [
    "1. Missing values are replaced with NaN and then dropped."
   ]
  },
  {
   "cell_type": "code",
   "execution_count": 71,
   "metadata": {},
   "outputs": [],
   "source": [
    "sales_api = sales_api.replace('..', np.nan) # replacing all the missing data (denoted with '..' by DST) with NaN-values"
   ]
  },
  {
   "attachments": {},
   "cell_type": "markdown",
   "metadata": {},
   "source": [
    "1. Values types are inspected. "
   ]
  },
  {
   "cell_type": "code",
   "execution_count": 72,
   "metadata": {},
   "outputs": [
    {
     "name": "stdout",
     "output_type": "stream",
     "text": [
      "<class 'pandas.core.frame.DataFrame'>\n",
      "RangeIndex: 1364 entries, 0 to 1363\n",
      "Data columns (total 5 columns):\n",
      " #   Column       Non-Null Count  Dtype \n",
      "---  ------       --------------  ----- \n",
      " 0   PROVINCE     1364 non-null   object\n",
      " 1   CATEGORY     1364 non-null   object\n",
      " 2   UNIT         1364 non-null   object\n",
      " 3   TIME         1364 non-null   object\n",
      " 4   SALES_INDEX  1308 non-null   object\n",
      "dtypes: object(5)\n",
      "memory usage: 53.4+ KB\n"
     ]
    }
   ],
   "source": [
    "sales_api.info() # assesing the types of data in the dataset"
   ]
  },
  {
   "attachments": {},
   "cell_type": "markdown",
   "metadata": {},
   "source": [
    "1. The value variable is changed to a float type variable. "
   ]
  },
  {
   "cell_type": "code",
   "execution_count": 73,
   "metadata": {},
   "outputs": [
    {
     "name": "stdout",
     "output_type": "stream",
     "text": [
      "<class 'pandas.core.frame.DataFrame'>\n",
      "RangeIndex: 1364 entries, 0 to 1363\n",
      "Data columns (total 5 columns):\n",
      " #   Column       Non-Null Count  Dtype  \n",
      "---  ------       --------------  -----  \n",
      " 0   PROVINCE     1364 non-null   object \n",
      " 1   CATEGORY     1364 non-null   object \n",
      " 2   UNIT         1364 non-null   object \n",
      " 3   TIME         1364 non-null   object \n",
      " 4   SALES_INDEX  1308 non-null   float64\n",
      "dtypes: float64(1), object(4)\n",
      "memory usage: 53.4+ KB\n"
     ]
    }
   ],
   "source": [
    "sales_api.SALES_INDEX = sales_api.SALES_INDEX .astype('float') # changing the column SALES_INDEX from object to float\n",
    "sales_api.info() # displaying the new types of variables"
   ]
  },
  {
   "attachments": {},
   "cell_type": "markdown",
   "metadata": {},
   "source": [
    "### 1.3. <a id='toc1_3_'></a>[Plotting](#toc0_)"
   ]
  },
  {
   "attachments": {},
   "cell_type": "markdown",
   "metadata": {},
   "source": [
    "Below, we **explore the raw data** by creating **interactive plots** to show important developments "
   ]
  },
  {
   "attachments": {},
   "cell_type": "markdown",
   "metadata": {},
   "source": [
    "**Interactive plot** :"
   ]
  },
  {
   "attachments": {},
   "cell_type": "markdown",
   "metadata": {},
   "source": [
    "1. We create an interactive plot of the housing prices in different provinces of Denmark\n",
    "    2. Note that it's possible to select multiple regions and compare their developments"
   ]
  },
  {
   "cell_type": "code",
   "execution_count": 74,
   "metadata": {},
   "outputs": [
    {
     "data": {
      "application/vnd.jupyter.widget-view+json": {
       "model_id": "fd1f7f54af9b4a3fb8155c13b5721a4e",
       "version_major": 2,
       "version_minor": 0
      },
      "text/plain": [
       "interactive(children=(SelectMultiple(description='Provinces', index=(0,), options=('Province Bornholm', 'Provi…"
      ]
     },
     "metadata": {},
     "output_type": "display_data"
    },
    {
     "data": {
      "text/plain": [
       "<function __main__.plot_value(df, selected_provinces)>"
      ]
     },
     "execution_count": 74,
     "metadata": {},
     "output_type": "execute_result"
    }
   ],
   "source": [
    "def plot_value(df, selected_provinces):\n",
    "    fig, ax = plt.subplots()\n",
    "    for province in selected_provinces:\n",
    "        I = df['PROVINCE'] == province\n",
    "        df.loc[I, :].plot(x='TIME', y='SALES_INDEX', legend=False, ax=ax)\n",
    "    ax.set_xlabel('Time')\n",
    "    ax.set_ylabel('Price Index')\n",
    "    ax.set_title('Price Index of Houses Across Regions in Denmark')\n",
    "    plt.legend(selected_provinces)\n",
    "    plt.show()\n",
    "\n",
    "options = sales_api.PROVINCE.unique()\n",
    "province_checkboxes = {province: False for province in options}\n",
    "\n",
    "widgets.interact(plot_value, \n",
    "                 df=widgets.fixed(sales_api),\n",
    "                 selected_provinces=widgets.SelectMultiple(description='Provinces', options=options, value=[options[0]], disabled=False))\n"
   ]
  },
  {
   "attachments": {},
   "cell_type": "markdown",
   "metadata": {},
   "source": [
    "In the plot above, we see that all the (nominal) price indexes have followed an increasing trend since 1992. We note that **the indexes are not comparable across regions**, as each region is indexed so the value of the prices are normalized to index 100 in 2006. So, even if prices in e.g. Byen København are, say, 30 percent higher than prices in Fyn in 2006, both indexes will have the value of index 100.\n",
    "\n",
    "However, from the graphical representation we can compare the relative increase in prices *within* a given province over time, and we see that the most dominant increases in prices since 2006 have been in the provinces 'Byen København', 'Københavns Omegn' and 'Bornholm'. In the recent quarters, of these three provinces, Bornholm have experienced the relatively largest decrease in prices again."
   ]
  },
  {
   "attachments": {},
   "cell_type": "markdown",
   "metadata": {},
   "source": [
    "## 2. <a id='toc2_'></a>[Merge with data on the unemployment rate](#toc0_)"
   ]
  },
  {
   "attachments": {},
   "cell_type": "markdown",
   "metadata": {},
   "source": [
    "Now we wish to examine the correlation within provinces between the unemployment rate and prices on one-family houses. Theory suggests that the unemployment rate in a province is a determinant of the housing prices, and that they are negatively correlated. The intuition is that when the unemployment rate increases in a province, then it becomes less attractive to move to this province as the risk of unemployment, all else equal, is higher in this area. Therefore, the demand of houses in the given province decreases implying that the housing prices decrease."
   ]
  },
  {
   "attachments": {},
   "cell_type": "markdown",
   "metadata": {},
   "source": [
    "First, we collect data on the unemployment rate within provinces in Denmark. This is done by using the API from Statistics Denmark and importing the register *AUS08*. \n",
    "\n",
    "Just like before, we then clean this dataset and select the relevant information from the dataset. To do this, we need to get an overview of the dataset:"
   ]
  },
  {
   "attachments": {},
   "cell_type": "markdown",
   "metadata": {},
   "source": [
    "### 2.1. <a id='toc2_1_'></a>[Overview of the unemployment data](#toc0_)"
   ]
  },
  {
   "cell_type": "code",
   "execution_count": 75,
   "metadata": {},
   "outputs": [
    {
     "name": "stdout",
     "output_type": "stream",
     "text": [
      "Table AUS08: unemployed persons (seasonally adjusted) by region, seasonal adjustment and actual figures and time\n",
      "Last update: 2023-04-28T08:00:00\n"
     ]
    },
    {
     "data": {
      "text/html": [
       "<div>\n",
       "<style scoped>\n",
       "    .dataframe tbody tr th:only-of-type {\n",
       "        vertical-align: middle;\n",
       "    }\n",
       "\n",
       "    .dataframe tbody tr th {\n",
       "        vertical-align: top;\n",
       "    }\n",
       "\n",
       "    .dataframe thead th {\n",
       "        text-align: right;\n",
       "    }\n",
       "</style>\n",
       "<table border=\"1\" class=\"dataframe\">\n",
       "  <thead>\n",
       "    <tr style=\"text-align: right;\">\n",
       "      <th></th>\n",
       "      <th>variable name</th>\n",
       "      <th># values</th>\n",
       "      <th>First value</th>\n",
       "      <th>First value label</th>\n",
       "      <th>Last value</th>\n",
       "      <th>Last value label</th>\n",
       "      <th>Time variable</th>\n",
       "    </tr>\n",
       "  </thead>\n",
       "  <tbody>\n",
       "    <tr>\n",
       "      <th>0</th>\n",
       "      <td>OMRÅDE</td>\n",
       "      <td>17</td>\n",
       "      <td>000</td>\n",
       "      <td>All Denmark</td>\n",
       "      <td>11</td>\n",
       "      <td>Province Nordjylland</td>\n",
       "      <td>False</td>\n",
       "    </tr>\n",
       "    <tr>\n",
       "      <th>1</th>\n",
       "      <td>EJENDOMSKATE</td>\n",
       "      <td>3</td>\n",
       "      <td>0111</td>\n",
       "      <td>One-family houses</td>\n",
       "      <td>2103</td>\n",
       "      <td>Owner-occupied flats, total</td>\n",
       "      <td>False</td>\n",
       "    </tr>\n",
       "    <tr>\n",
       "      <th>2</th>\n",
       "      <td>TAL</td>\n",
       "      <td>3</td>\n",
       "      <td>100</td>\n",
       "      <td>Index</td>\n",
       "      <td>310</td>\n",
       "      <td>Percentage change compared to same quarter the...</td>\n",
       "      <td>False</td>\n",
       "    </tr>\n",
       "    <tr>\n",
       "      <th>3</th>\n",
       "      <td>Tid</td>\n",
       "      <td>124</td>\n",
       "      <td>1992K1</td>\n",
       "      <td>1992Q1</td>\n",
       "      <td>2022K4</td>\n",
       "      <td>2022Q4</td>\n",
       "      <td>True</td>\n",
       "    </tr>\n",
       "  </tbody>\n",
       "</table>\n",
       "</div>"
      ],
      "text/plain": [
       "  variable name  # values First value  First value label Last value  \\\n",
       "0        OMRÅDE        17         000        All Denmark         11   \n",
       "1  EJENDOMSKATE         3        0111  One-family houses       2103   \n",
       "2           TAL         3         100              Index        310   \n",
       "3           Tid       124      1992K1             1992Q1     2022K4   \n",
       "\n",
       "                                    Last value label  Time variable  \n",
       "0                               Province Nordjylland          False  \n",
       "1                        Owner-occupied flats, total          False  \n",
       "2  Percentage change compared to same quarter the...          False  \n",
       "3                                             2022Q4           True  "
      ]
     },
     "metadata": {},
     "output_type": "display_data"
    },
    {
     "name": "stdout",
     "output_type": "stream",
     "text": [
      "OMRÅDE:\n"
     ]
    },
    {
     "data": {
      "text/html": [
       "<div>\n",
       "<style scoped>\n",
       "    .dataframe tbody tr th:only-of-type {\n",
       "        vertical-align: middle;\n",
       "    }\n",
       "\n",
       "    .dataframe tbody tr th {\n",
       "        vertical-align: top;\n",
       "    }\n",
       "\n",
       "    .dataframe thead th {\n",
       "        text-align: right;\n",
       "    }\n",
       "</style>\n",
       "<table border=\"1\" class=\"dataframe\">\n",
       "  <thead>\n",
       "    <tr style=\"text-align: right;\">\n",
       "      <th></th>\n",
       "      <th>id</th>\n",
       "      <th>text</th>\n",
       "    </tr>\n",
       "  </thead>\n",
       "  <tbody>\n",
       "    <tr>\n",
       "      <th>0</th>\n",
       "      <td>000</td>\n",
       "      <td>All Denmark</td>\n",
       "    </tr>\n",
       "    <tr>\n",
       "      <th>1</th>\n",
       "      <td>084</td>\n",
       "      <td>Region Hovedstaden</td>\n",
       "    </tr>\n",
       "    <tr>\n",
       "      <th>2</th>\n",
       "      <td>01</td>\n",
       "      <td>Province Byen København</td>\n",
       "    </tr>\n",
       "    <tr>\n",
       "      <th>3</th>\n",
       "      <td>101</td>\n",
       "      <td>Copenhagen</td>\n",
       "    </tr>\n",
       "    <tr>\n",
       "      <th>4</th>\n",
       "      <td>147</td>\n",
       "      <td>Frederiksberg</td>\n",
       "    </tr>\n",
       "    <tr>\n",
       "      <th>...</th>\n",
       "      <td>...</td>\n",
       "      <td>...</td>\n",
       "    </tr>\n",
       "    <tr>\n",
       "      <th>112</th>\n",
       "      <td>787</td>\n",
       "      <td>Thisted</td>\n",
       "    </tr>\n",
       "    <tr>\n",
       "      <th>113</th>\n",
       "      <td>820</td>\n",
       "      <td>Vesthimmerlands</td>\n",
       "    </tr>\n",
       "    <tr>\n",
       "      <th>114</th>\n",
       "      <td>851</td>\n",
       "      <td>Aalborg</td>\n",
       "    </tr>\n",
       "    <tr>\n",
       "      <th>115</th>\n",
       "      <td>998</td>\n",
       "      <td>Unknown municipality</td>\n",
       "    </tr>\n",
       "    <tr>\n",
       "      <th>116</th>\n",
       "      <td>997</td>\n",
       "      <td>Abroad</td>\n",
       "    </tr>\n",
       "  </tbody>\n",
       "</table>\n",
       "<p>117 rows × 2 columns</p>\n",
       "</div>"
      ],
      "text/plain": [
       "      id                     text\n",
       "0    000              All Denmark\n",
       "1    084       Region Hovedstaden\n",
       "2     01  Province Byen København\n",
       "3    101               Copenhagen\n",
       "4    147            Frederiksberg\n",
       "..   ...                      ...\n",
       "112  787                  Thisted\n",
       "113  820          Vesthimmerlands\n",
       "114  851                  Aalborg\n",
       "115  998     Unknown municipality\n",
       "116  997                   Abroad\n",
       "\n",
       "[117 rows x 2 columns]"
      ]
     },
     "metadata": {},
     "output_type": "display_data"
    },
    {
     "name": "stdout",
     "output_type": "stream",
     "text": [
      "SAESONFAK:\n"
     ]
    },
    {
     "data": {
      "text/html": [
       "<div>\n",
       "<style scoped>\n",
       "    .dataframe tbody tr th:only-of-type {\n",
       "        vertical-align: middle;\n",
       "    }\n",
       "\n",
       "    .dataframe tbody tr th {\n",
       "        vertical-align: top;\n",
       "    }\n",
       "\n",
       "    .dataframe thead th {\n",
       "        text-align: right;\n",
       "    }\n",
       "</style>\n",
       "<table border=\"1\" class=\"dataframe\">\n",
       "  <thead>\n",
       "    <tr style=\"text-align: right;\">\n",
       "      <th></th>\n",
       "      <th>id</th>\n",
       "      <th>text</th>\n",
       "    </tr>\n",
       "  </thead>\n",
       "  <tbody>\n",
       "    <tr>\n",
       "      <th>0</th>\n",
       "      <td>9</td>\n",
       "      <td>Seasonally adjusted figures in percent of the ...</td>\n",
       "    </tr>\n",
       "    <tr>\n",
       "      <th>1</th>\n",
       "      <td>10</td>\n",
       "      <td>Seasonally adjusted</td>\n",
       "    </tr>\n",
       "    <tr>\n",
       "      <th>2</th>\n",
       "      <td>22</td>\n",
       "      <td>Enumerated actual figures  in percent of the l...</td>\n",
       "    </tr>\n",
       "    <tr>\n",
       "      <th>3</th>\n",
       "      <td>24</td>\n",
       "      <td>Enumerated actual figures</td>\n",
       "    </tr>\n",
       "  </tbody>\n",
       "</table>\n",
       "</div>"
      ],
      "text/plain": [
       "   id                                               text\n",
       "0   9  Seasonally adjusted figures in percent of the ...\n",
       "1  10                                Seasonally adjusted\n",
       "2  22  Enumerated actual figures  in percent of the l...\n",
       "3  24                          Enumerated actual figures"
      ]
     },
     "metadata": {},
     "output_type": "display_data"
    },
    {
     "name": "stdout",
     "output_type": "stream",
     "text": [
      "Tid:\n"
     ]
    },
    {
     "data": {
      "text/html": [
       "<div>\n",
       "<style scoped>\n",
       "    .dataframe tbody tr th:only-of-type {\n",
       "        vertical-align: middle;\n",
       "    }\n",
       "\n",
       "    .dataframe tbody tr th {\n",
       "        vertical-align: top;\n",
       "    }\n",
       "\n",
       "    .dataframe thead th {\n",
       "        text-align: right;\n",
       "    }\n",
       "</style>\n",
       "<table border=\"1\" class=\"dataframe\">\n",
       "  <thead>\n",
       "    <tr style=\"text-align: right;\">\n",
       "      <th></th>\n",
       "      <th>id</th>\n",
       "      <th>text</th>\n",
       "    </tr>\n",
       "  </thead>\n",
       "  <tbody>\n",
       "    <tr>\n",
       "      <th>0</th>\n",
       "      <td>2007M01</td>\n",
       "      <td>2007M01</td>\n",
       "    </tr>\n",
       "    <tr>\n",
       "      <th>1</th>\n",
       "      <td>2007M02</td>\n",
       "      <td>2007M02</td>\n",
       "    </tr>\n",
       "    <tr>\n",
       "      <th>2</th>\n",
       "      <td>2007M03</td>\n",
       "      <td>2007M03</td>\n",
       "    </tr>\n",
       "    <tr>\n",
       "      <th>3</th>\n",
       "      <td>2007M04</td>\n",
       "      <td>2007M04</td>\n",
       "    </tr>\n",
       "    <tr>\n",
       "      <th>4</th>\n",
       "      <td>2007M05</td>\n",
       "      <td>2007M05</td>\n",
       "    </tr>\n",
       "    <tr>\n",
       "      <th>...</th>\n",
       "      <td>...</td>\n",
       "      <td>...</td>\n",
       "    </tr>\n",
       "    <tr>\n",
       "      <th>190</th>\n",
       "      <td>2022M11</td>\n",
       "      <td>2022M11</td>\n",
       "    </tr>\n",
       "    <tr>\n",
       "      <th>191</th>\n",
       "      <td>2022M12</td>\n",
       "      <td>2022M12</td>\n",
       "    </tr>\n",
       "    <tr>\n",
       "      <th>192</th>\n",
       "      <td>2023M01</td>\n",
       "      <td>2023M01</td>\n",
       "    </tr>\n",
       "    <tr>\n",
       "      <th>193</th>\n",
       "      <td>2023M02</td>\n",
       "      <td>2023M02</td>\n",
       "    </tr>\n",
       "    <tr>\n",
       "      <th>194</th>\n",
       "      <td>2023M03</td>\n",
       "      <td>2023M03</td>\n",
       "    </tr>\n",
       "  </tbody>\n",
       "</table>\n",
       "<p>195 rows × 2 columns</p>\n",
       "</div>"
      ],
      "text/plain": [
       "          id     text\n",
       "0    2007M01  2007M01\n",
       "1    2007M02  2007M02\n",
       "2    2007M03  2007M03\n",
       "3    2007M04  2007M04\n",
       "4    2007M05  2007M05\n",
       "..       ...      ...\n",
       "190  2022M11  2022M11\n",
       "191  2022M12  2022M12\n",
       "192  2023M01  2023M01\n",
       "193  2023M02  2023M02\n",
       "194  2023M03  2023M03\n",
       "\n",
       "[195 rows x 2 columns]"
      ]
     },
     "metadata": {},
     "output_type": "display_data"
    }
   ],
   "source": [
    "#An overview over the available data. \n",
    "tabsum_unemp = unemp.tablesummary(language='en')\n",
    "display(tabsum)\n",
    "\n",
    "# The available values for each variable:\n",
    "for variable in tabsum_unemp['variable name']:\n",
    "    print(variable+':')\n",
    "    display(unemp.variable_levels(variable, language='en'))"
   ]
  },
  {
   "attachments": {},
   "cell_type": "markdown",
   "metadata": {},
   "source": [
    "### 2.2. <a id='toc2_2_'></a>[Cleaning the new dataset on unemployment](#toc0_)"
   ]
  },
  {
   "attachments": {},
   "cell_type": "markdown",
   "metadata": {},
   "source": [
    "Now, we select the relevant variables for this analysis."
   ]
  },
  {
   "cell_type": "code",
   "execution_count": 76,
   "metadata": {},
   "outputs": [
    {
     "data": {
      "text/plain": [
       "{'table': 'aus08',\n",
       " 'format': 'BULK',\n",
       " 'lang': 'en',\n",
       " 'variables': [{'code': 'OMRÅDE', 'values': ['*']},\n",
       "  {'code': 'SAESONFAK', 'values': ['*']},\n",
       "  {'code': 'Tid', 'values': ['*']}]}"
      ]
     },
     "execution_count": 76,
     "metadata": {},
     "output_type": "execute_result"
    }
   ],
   "source": [
    "# Getting an overview of the underlying code that determines which variables and subset of data we import via the API\n",
    "params_unemp = unemp._define_base_params(language='en')\n",
    "params_unemp "
   ]
  },
  {
   "cell_type": "code",
   "execution_count": 77,
   "metadata": {},
   "outputs": [],
   "source": [
    "# Using the format printed above to specify which subsets of the available dataset we want to import\n",
    "params_unemp = {'table': 'aus08',\n",
    " 'format': 'BULK',\n",
    " 'lang': 'en',\n",
    " 'variables': [{'code': 'OMRÅDE', 'values': ['01', '02', '03', '04', '05', '06', '07', '08', '09', '10', '11']}, # with the key 'code' we choose the desired variable and with the key 'values' we choose what subset of the dataset for the given variable we want to include\n",
    "  {'code': 'SAESONFAK', 'values': ['9']},\n",
    "  {'code': 'Tid', 'values': ['*']}]} # ['*'] includes all the available values\n",
    "\n"
   ]
  },
  {
   "cell_type": "code",
   "execution_count": 78,
   "metadata": {},
   "outputs": [],
   "source": [
    "unemp_api = unemp.get_data(params=params_unemp) # retrieving the specified subset of the dataset from DST\n",
    "unemp_api.sort_values(by=['OMRÅDE', 'TID'], inplace=True) # sorting the values\n",
    "unemp_api = unemp_api.drop(columns = ['SAESONFAK']) # dropping unwanted columns\n",
    "unemp_api.reset_index(inplace = True, drop = True) # resetting the index, so it fits the new dataset\n",
    "unemp_api.rename(columns = {'OMRÅDE':'PROVINCE','TID':'TIME', 'INDHOLD':'UNEMPLOYMENT_RATE'}, inplace=True) # renaming columns\n",
    "\n"
   ]
  },
  {
   "attachments": {},
   "cell_type": "markdown",
   "metadata": {},
   "source": [
    "#### 2.2.1. <a id='toc2_2_1_'></a>[Taking quarterly averages over the unemployment rate](#toc0_)\n",
    "\n",
    "Now, we want to calculate quarterly averages of the unemployment rate. This is so we can plot the the unemployment rate against the quarterly data on housing prices later.\n",
    "\n",
    "We start by creating a new variable 'YEAR' where it has the same value for all observations in a given year. Then we do the same for a new variable \"QUARTER\" with same value for each quarter during the year. We combine these two new variables into a new and combined variable and finally we calculate the average over each quarter each year."
   ]
  },
  {
   "cell_type": "code",
   "execution_count": 79,
   "metadata": {},
   "outputs": [
    {
     "data": {
      "text/html": [
       "<div>\n",
       "<style scoped>\n",
       "    .dataframe tbody tr th:only-of-type {\n",
       "        vertical-align: middle;\n",
       "    }\n",
       "\n",
       "    .dataframe tbody tr th {\n",
       "        vertical-align: top;\n",
       "    }\n",
       "\n",
       "    .dataframe thead th {\n",
       "        text-align: right;\n",
       "    }\n",
       "</style>\n",
       "<table border=\"1\" class=\"dataframe\">\n",
       "  <thead>\n",
       "    <tr style=\"text-align: right;\">\n",
       "      <th></th>\n",
       "      <th>PROVINCE</th>\n",
       "      <th>TIME</th>\n",
       "      <th>UNEMPLOYMENT_RATE</th>\n",
       "      <th>YEAR</th>\n",
       "      <th>QUARTER</th>\n",
       "    </tr>\n",
       "  </thead>\n",
       "  <tbody>\n",
       "    <tr>\n",
       "      <th>0</th>\n",
       "      <td>Province Bornholm</td>\n",
       "      <td>2007M01</td>\n",
       "      <td>7.8</td>\n",
       "      <td>2007</td>\n",
       "      <td>1</td>\n",
       "    </tr>\n",
       "    <tr>\n",
       "      <th>1</th>\n",
       "      <td>Province Bornholm</td>\n",
       "      <td>2007M02</td>\n",
       "      <td>7.8</td>\n",
       "      <td>2007</td>\n",
       "      <td>1</td>\n",
       "    </tr>\n",
       "    <tr>\n",
       "      <th>2</th>\n",
       "      <td>Province Bornholm</td>\n",
       "      <td>2007M03</td>\n",
       "      <td>7.7</td>\n",
       "      <td>2007</td>\n",
       "      <td>1</td>\n",
       "    </tr>\n",
       "    <tr>\n",
       "      <th>3</th>\n",
       "      <td>Province Bornholm</td>\n",
       "      <td>2007M04</td>\n",
       "      <td>7.7</td>\n",
       "      <td>2007</td>\n",
       "      <td>2</td>\n",
       "    </tr>\n",
       "    <tr>\n",
       "      <th>4</th>\n",
       "      <td>Province Bornholm</td>\n",
       "      <td>2007M05</td>\n",
       "      <td>7.8</td>\n",
       "      <td>2007</td>\n",
       "      <td>2</td>\n",
       "    </tr>\n",
       "    <tr>\n",
       "      <th>5</th>\n",
       "      <td>Province Bornholm</td>\n",
       "      <td>2007M06</td>\n",
       "      <td>7.6</td>\n",
       "      <td>2007</td>\n",
       "      <td>2</td>\n",
       "    </tr>\n",
       "    <tr>\n",
       "      <th>6</th>\n",
       "      <td>Province Bornholm</td>\n",
       "      <td>2007M07</td>\n",
       "      <td>7.3</td>\n",
       "      <td>2007</td>\n",
       "      <td>3</td>\n",
       "    </tr>\n",
       "    <tr>\n",
       "      <th>7</th>\n",
       "      <td>Province Bornholm</td>\n",
       "      <td>2007M08</td>\n",
       "      <td>7.2</td>\n",
       "      <td>2007</td>\n",
       "      <td>3</td>\n",
       "    </tr>\n",
       "    <tr>\n",
       "      <th>8</th>\n",
       "      <td>Province Bornholm</td>\n",
       "      <td>2007M09</td>\n",
       "      <td>7.1</td>\n",
       "      <td>2007</td>\n",
       "      <td>3</td>\n",
       "    </tr>\n",
       "    <tr>\n",
       "      <th>9</th>\n",
       "      <td>Province Bornholm</td>\n",
       "      <td>2007M10</td>\n",
       "      <td>7.1</td>\n",
       "      <td>2007</td>\n",
       "      <td>4</td>\n",
       "    </tr>\n",
       "    <tr>\n",
       "      <th>10</th>\n",
       "      <td>Province Bornholm</td>\n",
       "      <td>2007M11</td>\n",
       "      <td>6.8</td>\n",
       "      <td>2007</td>\n",
       "      <td>4</td>\n",
       "    </tr>\n",
       "    <tr>\n",
       "      <th>11</th>\n",
       "      <td>Province Bornholm</td>\n",
       "      <td>2007M12</td>\n",
       "      <td>6.8</td>\n",
       "      <td>2007</td>\n",
       "      <td>4</td>\n",
       "    </tr>\n",
       "    <tr>\n",
       "      <th>12</th>\n",
       "      <td>Province Bornholm</td>\n",
       "      <td>2008M01</td>\n",
       "      <td>6.9</td>\n",
       "      <td>2008</td>\n",
       "      <td>1</td>\n",
       "    </tr>\n",
       "    <tr>\n",
       "      <th>13</th>\n",
       "      <td>Province Bornholm</td>\n",
       "      <td>2008M02</td>\n",
       "      <td>6.6</td>\n",
       "      <td>2008</td>\n",
       "      <td>1</td>\n",
       "    </tr>\n",
       "    <tr>\n",
       "      <th>14</th>\n",
       "      <td>Province Bornholm</td>\n",
       "      <td>2008M03</td>\n",
       "      <td>6.3</td>\n",
       "      <td>2008</td>\n",
       "      <td>1</td>\n",
       "    </tr>\n",
       "    <tr>\n",
       "      <th>15</th>\n",
       "      <td>Province Bornholm</td>\n",
       "      <td>2008M04</td>\n",
       "      <td>6.0</td>\n",
       "      <td>2008</td>\n",
       "      <td>2</td>\n",
       "    </tr>\n",
       "    <tr>\n",
       "      <th>16</th>\n",
       "      <td>Province Bornholm</td>\n",
       "      <td>2008M05</td>\n",
       "      <td>5.8</td>\n",
       "      <td>2008</td>\n",
       "      <td>2</td>\n",
       "    </tr>\n",
       "    <tr>\n",
       "      <th>17</th>\n",
       "      <td>Province Bornholm</td>\n",
       "      <td>2008M06</td>\n",
       "      <td>5.6</td>\n",
       "      <td>2008</td>\n",
       "      <td>2</td>\n",
       "    </tr>\n",
       "    <tr>\n",
       "      <th>18</th>\n",
       "      <td>Province Bornholm</td>\n",
       "      <td>2008M07</td>\n",
       "      <td>5.6</td>\n",
       "      <td>2008</td>\n",
       "      <td>3</td>\n",
       "    </tr>\n",
       "    <tr>\n",
       "      <th>19</th>\n",
       "      <td>Province Bornholm</td>\n",
       "      <td>2008M08</td>\n",
       "      <td>5.5</td>\n",
       "      <td>2008</td>\n",
       "      <td>3</td>\n",
       "    </tr>\n",
       "  </tbody>\n",
       "</table>\n",
       "</div>"
      ],
      "text/plain": [
       "             PROVINCE     TIME UNEMPLOYMENT_RATE  YEAR  QUARTER\n",
       "0   Province Bornholm  2007M01               7.8  2007        1\n",
       "1   Province Bornholm  2007M02               7.8  2007        1\n",
       "2   Province Bornholm  2007M03               7.7  2007        1\n",
       "3   Province Bornholm  2007M04               7.7  2007        2\n",
       "4   Province Bornholm  2007M05               7.8  2007        2\n",
       "5   Province Bornholm  2007M06               7.6  2007        2\n",
       "6   Province Bornholm  2007M07               7.3  2007        3\n",
       "7   Province Bornholm  2007M08               7.2  2007        3\n",
       "8   Province Bornholm  2007M09               7.1  2007        3\n",
       "9   Province Bornholm  2007M10               7.1  2007        4\n",
       "10  Province Bornholm  2007M11               6.8  2007        4\n",
       "11  Province Bornholm  2007M12               6.8  2007        4\n",
       "12  Province Bornholm  2008M01               6.9  2008        1\n",
       "13  Province Bornholm  2008M02               6.6  2008        1\n",
       "14  Province Bornholm  2008M03               6.3  2008        1\n",
       "15  Province Bornholm  2008M04               6.0  2008        2\n",
       "16  Province Bornholm  2008M05               5.8  2008        2\n",
       "17  Province Bornholm  2008M06               5.6  2008        2\n",
       "18  Province Bornholm  2008M07               5.6  2008        3\n",
       "19  Province Bornholm  2008M08               5.5  2008        3"
      ]
     },
     "execution_count": 79,
     "metadata": {},
     "output_type": "execute_result"
    }
   ],
   "source": [
    "unemp_api['YEAR'] = pd.to_datetime(unemp_api['TIME'], format='%YM%m').dt.year # extracting the year information from the column 'TIME' and creating a new variable 'YEAR' with the year information\n",
    "unemp_api['QUARTER'] = pd.to_datetime(unemp_api['TIME'], format='%YM%m').dt.quarter # extracting the quarter information from the column 'TIME' and creating a new variable 'QUARTER' with the quarter information\n",
    "unemp_api.head(20) # displaying the first 20 rows of the dataset to asses the QUARTER variable\n",
    "\n"
   ]
  },
  {
   "attachments": {},
   "cell_type": "markdown",
   "metadata": {},
   "source": [
    "Changing 'UNEMPLOYMENT_RATE' from object to float, so we can use the `apply('mean')`-method later"
   ]
  },
  {
   "cell_type": "code",
   "execution_count": 80,
   "metadata": {},
   "outputs": [
    {
     "name": "stdout",
     "output_type": "stream",
     "text": [
      "<class 'pandas.core.frame.DataFrame'>\n",
      "RangeIndex: 2145 entries, 0 to 2144\n",
      "Data columns (total 5 columns):\n",
      " #   Column             Non-Null Count  Dtype  \n",
      "---  ------             --------------  -----  \n",
      " 0   PROVINCE           2145 non-null   object \n",
      " 1   TIME               2145 non-null   object \n",
      " 2   UNEMPLOYMENT_RATE  2145 non-null   float64\n",
      " 3   YEAR               2145 non-null   int64  \n",
      " 4   QUARTER            2145 non-null   int64  \n",
      "dtypes: float64(1), int64(2), object(2)\n",
      "memory usage: 83.9+ KB\n"
     ]
    }
   ],
   "source": [
    "unemp_api['UNEMPLOYMENT_RATE'] = unemp_api['UNEMPLOYMENT_RATE'].astype('float') # changing the column UNEMPLOYMENT_RATE from object to float\n",
    "unemp_api.info() # assesing the types of data in the dataset"
   ]
  },
  {
   "attachments": {},
   "cell_type": "markdown",
   "metadata": {},
   "source": [
    "Calculating the average unemployment rate over each quarter with the `apply.('mean')`-method"
   ]
  },
  {
   "cell_type": "code",
   "execution_count": 81,
   "metadata": {},
   "outputs": [
    {
     "data": {
      "text/html": [
       "<div>\n",
       "<style scoped>\n",
       "    .dataframe tbody tr th:only-of-type {\n",
       "        vertical-align: middle;\n",
       "    }\n",
       "\n",
       "    .dataframe tbody tr th {\n",
       "        vertical-align: top;\n",
       "    }\n",
       "\n",
       "    .dataframe thead th {\n",
       "        text-align: right;\n",
       "    }\n",
       "</style>\n",
       "<table border=\"1\" class=\"dataframe\">\n",
       "  <thead>\n",
       "    <tr style=\"text-align: right;\">\n",
       "      <th></th>\n",
       "      <th>PROVINCE</th>\n",
       "      <th>UNEMPLOYMENT_RATE</th>\n",
       "      <th>TIME</th>\n",
       "    </tr>\n",
       "  </thead>\n",
       "  <tbody>\n",
       "    <tr>\n",
       "      <th>0</th>\n",
       "      <td>Province Bornholm</td>\n",
       "      <td>7.766667</td>\n",
       "      <td>2007Q1</td>\n",
       "    </tr>\n",
       "    <tr>\n",
       "      <th>1</th>\n",
       "      <td>Province Bornholm</td>\n",
       "      <td>7.700000</td>\n",
       "      <td>2007Q2</td>\n",
       "    </tr>\n",
       "    <tr>\n",
       "      <th>2</th>\n",
       "      <td>Province Bornholm</td>\n",
       "      <td>7.200000</td>\n",
       "      <td>2007Q3</td>\n",
       "    </tr>\n",
       "    <tr>\n",
       "      <th>3</th>\n",
       "      <td>Province Bornholm</td>\n",
       "      <td>6.900000</td>\n",
       "      <td>2007Q4</td>\n",
       "    </tr>\n",
       "    <tr>\n",
       "      <th>4</th>\n",
       "      <td>Province Bornholm</td>\n",
       "      <td>6.600000</td>\n",
       "      <td>2008Q1</td>\n",
       "    </tr>\n",
       "    <tr>\n",
       "      <th>5</th>\n",
       "      <td>Province Bornholm</td>\n",
       "      <td>5.800000</td>\n",
       "      <td>2008Q2</td>\n",
       "    </tr>\n",
       "    <tr>\n",
       "      <th>6</th>\n",
       "      <td>Province Bornholm</td>\n",
       "      <td>5.500000</td>\n",
       "      <td>2008Q3</td>\n",
       "    </tr>\n",
       "    <tr>\n",
       "      <th>7</th>\n",
       "      <td>Province Bornholm</td>\n",
       "      <td>6.000000</td>\n",
       "      <td>2008Q4</td>\n",
       "    </tr>\n",
       "    <tr>\n",
       "      <th>8</th>\n",
       "      <td>Province Bornholm</td>\n",
       "      <td>6.900000</td>\n",
       "      <td>2009Q1</td>\n",
       "    </tr>\n",
       "    <tr>\n",
       "      <th>9</th>\n",
       "      <td>Province Bornholm</td>\n",
       "      <td>7.633333</td>\n",
       "      <td>2009Q2</td>\n",
       "    </tr>\n",
       "    <tr>\n",
       "      <th>10</th>\n",
       "      <td>Province Bornholm</td>\n",
       "      <td>7.666667</td>\n",
       "      <td>2009Q3</td>\n",
       "    </tr>\n",
       "    <tr>\n",
       "      <th>11</th>\n",
       "      <td>Province Bornholm</td>\n",
       "      <td>7.700000</td>\n",
       "      <td>2009Q4</td>\n",
       "    </tr>\n",
       "    <tr>\n",
       "      <th>12</th>\n",
       "      <td>Province Bornholm</td>\n",
       "      <td>7.966667</td>\n",
       "      <td>2010Q1</td>\n",
       "    </tr>\n",
       "    <tr>\n",
       "      <th>13</th>\n",
       "      <td>Province Bornholm</td>\n",
       "      <td>8.333333</td>\n",
       "      <td>2010Q2</td>\n",
       "    </tr>\n",
       "    <tr>\n",
       "      <th>14</th>\n",
       "      <td>Province Bornholm</td>\n",
       "      <td>8.466667</td>\n",
       "      <td>2010Q3</td>\n",
       "    </tr>\n",
       "    <tr>\n",
       "      <th>15</th>\n",
       "      <td>Province Bornholm</td>\n",
       "      <td>8.000000</td>\n",
       "      <td>2010Q4</td>\n",
       "    </tr>\n",
       "    <tr>\n",
       "      <th>16</th>\n",
       "      <td>Province Bornholm</td>\n",
       "      <td>7.900000</td>\n",
       "      <td>2011Q1</td>\n",
       "    </tr>\n",
       "    <tr>\n",
       "      <th>17</th>\n",
       "      <td>Province Bornholm</td>\n",
       "      <td>7.366667</td>\n",
       "      <td>2011Q2</td>\n",
       "    </tr>\n",
       "    <tr>\n",
       "      <th>18</th>\n",
       "      <td>Province Bornholm</td>\n",
       "      <td>7.500000</td>\n",
       "      <td>2011Q3</td>\n",
       "    </tr>\n",
       "    <tr>\n",
       "      <th>19</th>\n",
       "      <td>Province Bornholm</td>\n",
       "      <td>6.833333</td>\n",
       "      <td>2011Q4</td>\n",
       "    </tr>\n",
       "  </tbody>\n",
       "</table>\n",
       "</div>"
      ],
      "text/plain": [
       "             PROVINCE  UNEMPLOYMENT_RATE    TIME\n",
       "0   Province Bornholm           7.766667  2007Q1\n",
       "1   Province Bornholm           7.700000  2007Q2\n",
       "2   Province Bornholm           7.200000  2007Q3\n",
       "3   Province Bornholm           6.900000  2007Q4\n",
       "4   Province Bornholm           6.600000  2008Q1\n",
       "5   Province Bornholm           5.800000  2008Q2\n",
       "6   Province Bornholm           5.500000  2008Q3\n",
       "7   Province Bornholm           6.000000  2008Q4\n",
       "8   Province Bornholm           6.900000  2009Q1\n",
       "9   Province Bornholm           7.633333  2009Q2\n",
       "10  Province Bornholm           7.666667  2009Q3\n",
       "11  Province Bornholm           7.700000  2009Q4\n",
       "12  Province Bornholm           7.966667  2010Q1\n",
       "13  Province Bornholm           8.333333  2010Q2\n",
       "14  Province Bornholm           8.466667  2010Q3\n",
       "15  Province Bornholm           8.000000  2010Q4\n",
       "16  Province Bornholm           7.900000  2011Q1\n",
       "17  Province Bornholm           7.366667  2011Q2\n",
       "18  Province Bornholm           7.500000  2011Q3\n",
       "19  Province Bornholm           6.833333  2011Q4"
      ]
     },
     "execution_count": 81,
     "metadata": {},
     "output_type": "execute_result"
    }
   ],
   "source": [
    "unemp_avg = unemp_api.groupby(['PROVINCE', 'YEAR', 'QUARTER'])['UNEMPLOYMENT_RATE'].apply('mean') # calculating the average unemployment rate for each province in each year\n",
    "unemp_avg = unemp_avg.reset_index() # resetting the index, so it fits the new dataset\n",
    "\n",
    "\n",
    "unemp_avg['TIME'] = unemp_avg['YEAR'].astype(str) + 'Q' + unemp_avg['QUARTER'].astype(str) # creating a new variable 'TIME' with the year and quarter information\n",
    "#dropping the columns 'YEAR' and 'QUARTER'\n",
    "unemp_avg = unemp_avg.drop(columns = ['YEAR', 'QUARTER'])\n",
    "unemp_avg.head(20)"
   ]
  },
  {
   "attachments": {},
   "cell_type": "markdown",
   "metadata": {},
   "source": [
    "We note that each observation now is a mean of the observations of the three months in the given quarter. \n",
    "\n",
    "For example the unemployment rate in 2007Q1 is given by the average: $\\text{UNEMPLOYMENT\\_RATE}_{2007Q1}=\\frac{7.8+7.8+7.7}{3}=7.766667$."
   ]
  },
  {
   "attachments": {},
   "cell_type": "markdown",
   "metadata": {},
   "source": [
    "### 2.3. <a id='toc2_3_'></a>[Merging the datasets](#toc0_)"
   ]
  },
  {
   "attachments": {},
   "cell_type": "markdown",
   "metadata": {},
   "source": [
    "Now, we wish to merge unemployment rate data within provinces on the dataset of housing prices. Here, we merge on province and year, such that we for each province in each year now also have information on the unemployment rate. \n",
    "\n",
    "Before we merge, we want to inspect in what years we have data in each of the two data sets. This is done below by printing the years which only exist in one of the data sets (we do this for each dataset) and then printing the provinces which only appear in one of the data sets (we do this for each dataset).\n",
    "\n"
   ]
  },
  {
   "cell_type": "code",
   "execution_count": 82,
   "metadata": {},
   "outputs": [
    {
     "name": "stdout",
     "output_type": "stream",
     "text": [
      "years in sales_avg data, but not in unemp_avg data: ['1992Q1', '1992Q2', '1992Q3', '1992Q4', '1993Q1', '1993Q2', '1993Q3', '1993Q4', '1994Q1', '1994Q2', '1994Q3', '1994Q4', '1995Q1', '1995Q2', '1995Q3', '1995Q4', '1996Q1', '1996Q2', '1996Q3', '1996Q4', '1997Q1', '1997Q2', '1997Q3', '1997Q4', '1998Q1', '1998Q2', '1998Q3', '1998Q4', '1999Q1', '1999Q2', '1999Q3', '1999Q4', '2000Q1', '2000Q2', '2000Q3', '2000Q4', '2001Q1', '2001Q2', '2001Q3', '2001Q4', '2002Q1', '2002Q2', '2002Q3', '2002Q4', '2003Q1', '2003Q2', '2003Q3', '2003Q4', '2004Q1', '2004Q2', '2004Q3', '2004Q4', '2005Q1', '2005Q2', '2005Q3', '2005Q4', '2006Q1', '2006Q2', '2006Q3', '2006Q4']\n",
      "years in unemp_avg data, but not in sales_avg data: ['2023Q1']\n",
      "provinces in sales_avg data, but not in unemp_avg data: []\n",
      "provinces in unemp_avg data, but not in sales_avg data: []\n"
     ]
    }
   ],
   "source": [
    "diff_y = [y for y in sales_api.TIME.unique() if y not in unemp_avg.TIME.unique()] #checking if there are any years in the sales_avg data that are not in the unemp_avg data\n",
    "print(f'years in sales_avg data, but not in unemp_avg data: {diff_y}')\n",
    "\n",
    "diff_y = [y for y in unemp_avg.TIME.unique() if y not in sales_api.TIME.unique()] #checking if there are any years in the unemp_avg data that are not in the sales_avg data\n",
    "print(f'years in unemp_avg data, but not in sales_avg data: {diff_y}')\n",
    "\n",
    "diff_m = [m for m in sales_api.PROVINCE.unique() if m not in unemp_avg.PROVINCE.unique()] #checking if there are any municipalities in the sales_avg data that are not in the unemp_avg data\n",
    "print(f'provinces in sales_avg data, but not in unemp_avg data: {diff_m}')\n",
    "\n",
    "diff_m = [m for m in unemp_avg.PROVINCE.unique() if m not in sales_api.PROVINCE.unique()] # Also checking if there are any municipalities in the unemp_avg data that are not in the sales_avg data\n",
    "print(f'provinces in unemp_avg data, but not in sales_avg data: {diff_m}')"
   ]
  },
  {
   "attachments": {},
   "cell_type": "markdown",
   "metadata": {},
   "source": [
    "#### 2.3.1. <a id='toc2_3_1_'></a>[The inner merge](#toc0_)"
   ]
  },
  {
   "attachments": {},
   "cell_type": "markdown",
   "metadata": {},
   "source": [
    "We see that we have data on housing prices from 1992 and onwards, while we only have data on unemployment rate from 2007. Likewise, we only have data on the unemployment rate for 2023. \n",
    "\n",
    "As all observations on housing prices before 2007Q1 cannot be linked to the unemployment rate in the given period and vice versa for the unemployment rate on housing prices in 2023, these observations are irrelevant. We therefore use the `inner join`-method to merge. This method only includes the matches between the two datasets. "
   ]
  },
  {
   "cell_type": "code",
   "execution_count": 83,
   "metadata": {},
   "outputs": [
    {
     "data": {
      "text/html": [
       "<div>\n",
       "<style scoped>\n",
       "    .dataframe tbody tr th:only-of-type {\n",
       "        vertical-align: middle;\n",
       "    }\n",
       "\n",
       "    .dataframe tbody tr th {\n",
       "        vertical-align: top;\n",
       "    }\n",
       "\n",
       "    .dataframe thead th {\n",
       "        text-align: right;\n",
       "    }\n",
       "</style>\n",
       "<table border=\"1\" class=\"dataframe\">\n",
       "  <thead>\n",
       "    <tr style=\"text-align: right;\">\n",
       "      <th></th>\n",
       "      <th>PROVINCE</th>\n",
       "      <th>CATEGORY</th>\n",
       "      <th>UNIT</th>\n",
       "      <th>TIME</th>\n",
       "      <th>SALES_INDEX</th>\n",
       "      <th>UNEMPLOYMENT_RATE</th>\n",
       "    </tr>\n",
       "  </thead>\n",
       "  <tbody>\n",
       "    <tr>\n",
       "      <th>0</th>\n",
       "      <td>Province Bornholm</td>\n",
       "      <td>One-family houses</td>\n",
       "      <td>Index</td>\n",
       "      <td>2007Q1</td>\n",
       "      <td>105.4</td>\n",
       "      <td>7.766667</td>\n",
       "    </tr>\n",
       "    <tr>\n",
       "      <th>1</th>\n",
       "      <td>Province Bornholm</td>\n",
       "      <td>One-family houses</td>\n",
       "      <td>Index</td>\n",
       "      <td>2007Q2</td>\n",
       "      <td>114.3</td>\n",
       "      <td>7.700000</td>\n",
       "    </tr>\n",
       "    <tr>\n",
       "      <th>2</th>\n",
       "      <td>Province Bornholm</td>\n",
       "      <td>One-family houses</td>\n",
       "      <td>Index</td>\n",
       "      <td>2007Q3</td>\n",
       "      <td>114.9</td>\n",
       "      <td>7.200000</td>\n",
       "    </tr>\n",
       "    <tr>\n",
       "      <th>3</th>\n",
       "      <td>Province Bornholm</td>\n",
       "      <td>One-family houses</td>\n",
       "      <td>Index</td>\n",
       "      <td>2007Q4</td>\n",
       "      <td>114.4</td>\n",
       "      <td>6.900000</td>\n",
       "    </tr>\n",
       "    <tr>\n",
       "      <th>4</th>\n",
       "      <td>Province Bornholm</td>\n",
       "      <td>One-family houses</td>\n",
       "      <td>Index</td>\n",
       "      <td>2008Q1</td>\n",
       "      <td>110.8</td>\n",
       "      <td>6.600000</td>\n",
       "    </tr>\n",
       "    <tr>\n",
       "      <th>5</th>\n",
       "      <td>Province Bornholm</td>\n",
       "      <td>One-family houses</td>\n",
       "      <td>Index</td>\n",
       "      <td>2008Q2</td>\n",
       "      <td>119.1</td>\n",
       "      <td>5.800000</td>\n",
       "    </tr>\n",
       "    <tr>\n",
       "      <th>6</th>\n",
       "      <td>Province Bornholm</td>\n",
       "      <td>One-family houses</td>\n",
       "      <td>Index</td>\n",
       "      <td>2008Q3</td>\n",
       "      <td>111.2</td>\n",
       "      <td>5.500000</td>\n",
       "    </tr>\n",
       "    <tr>\n",
       "      <th>7</th>\n",
       "      <td>Province Bornholm</td>\n",
       "      <td>One-family houses</td>\n",
       "      <td>Index</td>\n",
       "      <td>2008Q4</td>\n",
       "      <td>104.5</td>\n",
       "      <td>6.000000</td>\n",
       "    </tr>\n",
       "    <tr>\n",
       "      <th>8</th>\n",
       "      <td>Province Bornholm</td>\n",
       "      <td>One-family houses</td>\n",
       "      <td>Index</td>\n",
       "      <td>2009Q1</td>\n",
       "      <td>105.2</td>\n",
       "      <td>6.900000</td>\n",
       "    </tr>\n",
       "    <tr>\n",
       "      <th>9</th>\n",
       "      <td>Province Bornholm</td>\n",
       "      <td>One-family houses</td>\n",
       "      <td>Index</td>\n",
       "      <td>2009Q2</td>\n",
       "      <td>109.8</td>\n",
       "      <td>7.633333</td>\n",
       "    </tr>\n",
       "  </tbody>\n",
       "</table>\n",
       "</div>"
      ],
      "text/plain": [
       "            PROVINCE           CATEGORY   UNIT    TIME  SALES_INDEX  \\\n",
       "0  Province Bornholm  One-family houses  Index  2007Q1        105.4   \n",
       "1  Province Bornholm  One-family houses  Index  2007Q2        114.3   \n",
       "2  Province Bornholm  One-family houses  Index  2007Q3        114.9   \n",
       "3  Province Bornholm  One-family houses  Index  2007Q4        114.4   \n",
       "4  Province Bornholm  One-family houses  Index  2008Q1        110.8   \n",
       "5  Province Bornholm  One-family houses  Index  2008Q2        119.1   \n",
       "6  Province Bornholm  One-family houses  Index  2008Q3        111.2   \n",
       "7  Province Bornholm  One-family houses  Index  2008Q4        104.5   \n",
       "8  Province Bornholm  One-family houses  Index  2009Q1        105.2   \n",
       "9  Province Bornholm  One-family houses  Index  2009Q2        109.8   \n",
       "\n",
       "   UNEMPLOYMENT_RATE  \n",
       "0           7.766667  \n",
       "1           7.700000  \n",
       "2           7.200000  \n",
       "3           6.900000  \n",
       "4           6.600000  \n",
       "5           5.800000  \n",
       "6           5.500000  \n",
       "7           6.000000  \n",
       "8           6.900000  \n",
       "9           7.633333  "
      ]
     },
     "execution_count": 83,
     "metadata": {},
     "output_type": "execute_result"
    }
   ],
   "source": [
    "sales_with_unemp = pd.merge(sales_api, unemp_avg, on = ['PROVINCE', 'TIME'], how = 'inner') # Performing an inner merge of the two datasets (keeping only data for which there are observations for both variables in the dataset)\n",
    "sales_with_unemp.head(10) # displaying a sample of 10 random values in the dataset"
   ]
  },
  {
   "attachments": {},
   "cell_type": "markdown",
   "metadata": {},
   "source": [
    "## 3. <a id='toc3_'></a>[Examining the correlation between the unemployment rate and housing prices](#toc0_)"
   ]
  },
  {
   "attachments": {},
   "cell_type": "markdown",
   "metadata": {},
   "source": [
    "Now that the dataset is ready, we can examine the correlation between the unemployment rate and prices on one-family houses within each province. We do this by constructing a binned scatterplot for each province. The binned scatterplot groups the unemployment rates into 10 equal-sized bins for each province and plots the mean of the associated housing prices within each bin. \n",
    "\n",
    "We construct the binned scatter plot using the package *binsreg*, which can be installed writing \"pip install binsreg\" in the prompt."
   ]
  },
  {
   "cell_type": "code",
   "execution_count": 89,
   "metadata": {},
   "outputs": [
    {
     "data": {
      "application/vnd.jupyter.widget-view+json": {
       "model_id": "f6988e26f1d7480983af27004aded27f",
       "version_major": 2,
       "version_minor": 0
      },
      "text/plain": [
       "interactive(children=(Dropdown(description='Province', index=1, options=('Province Bornholm', 'Province Byen K…"
      ]
     },
     "metadata": {},
     "output_type": "display_data"
    }
   ],
   "source": [
    "py.binscatter_widgets(sales_with_unemp)"
   ]
  },
  {
   "attachments": {},
   "cell_type": "markdown",
   "metadata": {},
   "source": [
    "From the interactive figure above, we clearly observe a negative correlation between gross unemployment rate and housing prices in all of the provinces. This results supports the theoretical suggestions that the gross unemployment rate in a province is a determinant of the housing prices in the province. However, it is important to emphasize that these results are only correlations, hence we cannot give the results any causal interpretations. In principle, the negative correlation could be due to reverse causality or omitted variables correlating with both gross unemployment and the housing prices (e.g. the interest rates)."
   ]
  },
  {
   "attachments": {},
   "cell_type": "markdown",
   "metadata": {},
   "source": [
    "## 4. <a id='toc4_'></a>[Conclusion](#toc0_)"
   ]
  }
 ],
 "metadata": {
  "kernelspec": {
   "display_name": "base",
   "language": "python",
   "name": "python3"
  },
  "language_info": {
   "codemirror_mode": {
    "name": "ipython",
    "version": 3
   },
   "file_extension": ".py",
   "mimetype": "text/x-python",
   "name": "python",
   "nbconvert_exporter": "python",
   "pygments_lexer": "ipython3",
   "version": "3.9.13"
  },
  "toc-autonumbering": true,
  "vscode": {
   "interpreter": {
    "hash": "5fc7de9dea58bea174de8ba4ebb6b6a97e7b8f1cecf294d3cf919f504f8e38ec"
   }
  }
 },
 "nbformat": 4,
 "nbformat_minor": 4
}
