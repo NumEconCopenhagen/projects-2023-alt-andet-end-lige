{
 "cells": [
  {
   "attachments": {},
   "cell_type": "markdown",
   "metadata": {},
   "source": [
    "# Alt andet end lige: Data project"
   ]
  },
  {
   "attachments": {},
   "cell_type": "markdown",
   "metadata": {},
   "source": [
    "Importing packages and setting magics:"
   ]
  },
  {
   "cell_type": "code",
   "execution_count": 198,
   "metadata": {},
   "outputs": [
    {
     "name": "stdout",
     "output_type": "stream",
     "text": [
      "The autoreload extension is already loaded. To reload it, use:\n",
      "  %reload_ext autoreload\n"
     ]
    }
   ],
   "source": [
    "# importing the used packages \n",
    "import pandas as pd\n",
    "import numpy as np\n",
    "import datetime\n",
    "\n",
    "# importing package to create plots and setting basic, visual settings\n",
    "import matplotlib.pyplot as plt\n",
    "plt.rcParams.update({\"axes.grid\":True,\"grid.color\":\"black\",\"grid.alpha\":\"0.25\",\"grid.linestyle\":\"-\"})\n",
    "plt.rcParams.update({'font.size': 10})\n",
    "import ipywidgets as widgets\n",
    "\n",
    "# importing the API from DST used to import data\n",
    "from dstapi import DstApi \n",
    "\n",
    "# autoreload modules when code is run\n",
    "%load_ext autoreload\n",
    "%autoreload 2\n",
    "\n",
    "# user written modules\n",
    "import dataproject\n",
    "\n"
   ]
  },
  {
   "attachments": {},
   "cell_type": "markdown",
   "metadata": {},
   "source": [
    "# Read and clean data"
   ]
  },
  {
   "attachments": {},
   "cell_type": "markdown",
   "metadata": {},
   "source": [
    "1. Data is imported using the API for Danmarks statistik"
   ]
  },
  {
   "cell_type": "code",
   "execution_count": 199,
   "metadata": {},
   "outputs": [],
   "source": [
    "price = DstApi('EJ55') #EJ55 is data on the pricing of houses\n",
    "unemp = DstApi('AULK01') #AULK01 is data on the number of unemployed \n",
    "unemp = DstApi('AUS08') #AUS08 is seasonally adjusted data on the unemployment rate"
   ]
  },
  {
   "attachments": {},
   "cell_type": "markdown",
   "metadata": {},
   "source": [
    "## Exploring the data sets"
   ]
  },
  {
   "attachments": {},
   "cell_type": "markdown",
   "metadata": {},
   "source": [
    "1. The availble values for each variable is plotted in order to select relevant variables. "
   ]
  },
  {
   "cell_type": "code",
   "execution_count": 200,
   "metadata": {},
   "outputs": [
    {
     "name": "stdout",
     "output_type": "stream",
     "text": [
      "Table EJ55: Price index for sales of property by region, category of real property, unit and time\n",
      "Last update: 2023-03-31T08:00:00\n"
     ]
    },
    {
     "data": {
      "text/html": [
       "<div>\n",
       "<style scoped>\n",
       "    .dataframe tbody tr th:only-of-type {\n",
       "        vertical-align: middle;\n",
       "    }\n",
       "\n",
       "    .dataframe tbody tr th {\n",
       "        vertical-align: top;\n",
       "    }\n",
       "\n",
       "    .dataframe thead th {\n",
       "        text-align: right;\n",
       "    }\n",
       "</style>\n",
       "<table border=\"1\" class=\"dataframe\">\n",
       "  <thead>\n",
       "    <tr style=\"text-align: right;\">\n",
       "      <th></th>\n",
       "      <th>variable name</th>\n",
       "      <th># values</th>\n",
       "      <th>First value</th>\n",
       "      <th>First value label</th>\n",
       "      <th>Last value</th>\n",
       "      <th>Last value label</th>\n",
       "      <th>Time variable</th>\n",
       "    </tr>\n",
       "  </thead>\n",
       "  <tbody>\n",
       "    <tr>\n",
       "      <th>0</th>\n",
       "      <td>OMRÅDE</td>\n",
       "      <td>17</td>\n",
       "      <td>000</td>\n",
       "      <td>All Denmark</td>\n",
       "      <td>11</td>\n",
       "      <td>Province Nordjylland</td>\n",
       "      <td>False</td>\n",
       "    </tr>\n",
       "    <tr>\n",
       "      <th>1</th>\n",
       "      <td>EJENDOMSKATE</td>\n",
       "      <td>3</td>\n",
       "      <td>0111</td>\n",
       "      <td>One-family houses</td>\n",
       "      <td>2103</td>\n",
       "      <td>Owner-occupied flats, total</td>\n",
       "      <td>False</td>\n",
       "    </tr>\n",
       "    <tr>\n",
       "      <th>2</th>\n",
       "      <td>TAL</td>\n",
       "      <td>3</td>\n",
       "      <td>100</td>\n",
       "      <td>Index</td>\n",
       "      <td>310</td>\n",
       "      <td>Percentage change compared to same quarter the...</td>\n",
       "      <td>False</td>\n",
       "    </tr>\n",
       "    <tr>\n",
       "      <th>3</th>\n",
       "      <td>Tid</td>\n",
       "      <td>124</td>\n",
       "      <td>1992K1</td>\n",
       "      <td>1992Q1</td>\n",
       "      <td>2022K4</td>\n",
       "      <td>2022Q4</td>\n",
       "      <td>True</td>\n",
       "    </tr>\n",
       "  </tbody>\n",
       "</table>\n",
       "</div>"
      ],
      "text/plain": [
       "  variable name  # values First value  First value label Last value  \\\n",
       "0        OMRÅDE        17         000        All Denmark         11   \n",
       "1  EJENDOMSKATE         3        0111  One-family houses       2103   \n",
       "2           TAL         3         100              Index        310   \n",
       "3           Tid       124      1992K1             1992Q1     2022K4   \n",
       "\n",
       "                                    Last value label  Time variable  \n",
       "0                               Province Nordjylland          False  \n",
       "1                        Owner-occupied flats, total          False  \n",
       "2  Percentage change compared to same quarter the...          False  \n",
       "3                                             2022Q4           True  "
      ]
     },
     "metadata": {},
     "output_type": "display_data"
    },
    {
     "name": "stdout",
     "output_type": "stream",
     "text": [
      "OMRÅDE:\n"
     ]
    },
    {
     "data": {
      "text/html": [
       "<div>\n",
       "<style scoped>\n",
       "    .dataframe tbody tr th:only-of-type {\n",
       "        vertical-align: middle;\n",
       "    }\n",
       "\n",
       "    .dataframe tbody tr th {\n",
       "        vertical-align: top;\n",
       "    }\n",
       "\n",
       "    .dataframe thead th {\n",
       "        text-align: right;\n",
       "    }\n",
       "</style>\n",
       "<table border=\"1\" class=\"dataframe\">\n",
       "  <thead>\n",
       "    <tr style=\"text-align: right;\">\n",
       "      <th></th>\n",
       "      <th>id</th>\n",
       "      <th>text</th>\n",
       "    </tr>\n",
       "  </thead>\n",
       "  <tbody>\n",
       "    <tr>\n",
       "      <th>0</th>\n",
       "      <td>000</td>\n",
       "      <td>All Denmark</td>\n",
       "    </tr>\n",
       "    <tr>\n",
       "      <th>1</th>\n",
       "      <td>084</td>\n",
       "      <td>Region Hovedstaden</td>\n",
       "    </tr>\n",
       "    <tr>\n",
       "      <th>2</th>\n",
       "      <td>01</td>\n",
       "      <td>Province Byen København</td>\n",
       "    </tr>\n",
       "    <tr>\n",
       "      <th>3</th>\n",
       "      <td>02</td>\n",
       "      <td>Province Københavns omegn</td>\n",
       "    </tr>\n",
       "    <tr>\n",
       "      <th>4</th>\n",
       "      <td>03</td>\n",
       "      <td>Province Nordsjælland</td>\n",
       "    </tr>\n",
       "    <tr>\n",
       "      <th>5</th>\n",
       "      <td>04</td>\n",
       "      <td>Province Bornholm</td>\n",
       "    </tr>\n",
       "    <tr>\n",
       "      <th>6</th>\n",
       "      <td>085</td>\n",
       "      <td>Region Sjælland</td>\n",
       "    </tr>\n",
       "    <tr>\n",
       "      <th>7</th>\n",
       "      <td>05</td>\n",
       "      <td>Province Østsjælland</td>\n",
       "    </tr>\n",
       "    <tr>\n",
       "      <th>8</th>\n",
       "      <td>06</td>\n",
       "      <td>Province Vest- og Sydsjælland</td>\n",
       "    </tr>\n",
       "    <tr>\n",
       "      <th>9</th>\n",
       "      <td>083</td>\n",
       "      <td>Region Syddanmark</td>\n",
       "    </tr>\n",
       "    <tr>\n",
       "      <th>10</th>\n",
       "      <td>07</td>\n",
       "      <td>Province Fyn</td>\n",
       "    </tr>\n",
       "    <tr>\n",
       "      <th>11</th>\n",
       "      <td>08</td>\n",
       "      <td>Province Sydjylland</td>\n",
       "    </tr>\n",
       "    <tr>\n",
       "      <th>12</th>\n",
       "      <td>082</td>\n",
       "      <td>Region Midtjylland</td>\n",
       "    </tr>\n",
       "    <tr>\n",
       "      <th>13</th>\n",
       "      <td>09</td>\n",
       "      <td>Province Østjylland</td>\n",
       "    </tr>\n",
       "    <tr>\n",
       "      <th>14</th>\n",
       "      <td>10</td>\n",
       "      <td>Province Vestjylland</td>\n",
       "    </tr>\n",
       "    <tr>\n",
       "      <th>15</th>\n",
       "      <td>081</td>\n",
       "      <td>Region Nordjylland</td>\n",
       "    </tr>\n",
       "    <tr>\n",
       "      <th>16</th>\n",
       "      <td>11</td>\n",
       "      <td>Province Nordjylland</td>\n",
       "    </tr>\n",
       "  </tbody>\n",
       "</table>\n",
       "</div>"
      ],
      "text/plain": [
       "     id                           text\n",
       "0   000                    All Denmark\n",
       "1   084             Region Hovedstaden\n",
       "2    01        Province Byen København\n",
       "3    02      Province Københavns omegn\n",
       "4    03          Province Nordsjælland\n",
       "5    04              Province Bornholm\n",
       "6   085                Region Sjælland\n",
       "7    05           Province Østsjælland\n",
       "8    06  Province Vest- og Sydsjælland\n",
       "9   083              Region Syddanmark\n",
       "10   07                   Province Fyn\n",
       "11   08            Province Sydjylland\n",
       "12  082             Region Midtjylland\n",
       "13   09            Province Østjylland\n",
       "14   10           Province Vestjylland\n",
       "15  081             Region Nordjylland\n",
       "16   11           Province Nordjylland"
      ]
     },
     "metadata": {},
     "output_type": "display_data"
    },
    {
     "name": "stdout",
     "output_type": "stream",
     "text": [
      "EJENDOMSKATE:\n"
     ]
    },
    {
     "data": {
      "text/html": [
       "<div>\n",
       "<style scoped>\n",
       "    .dataframe tbody tr th:only-of-type {\n",
       "        vertical-align: middle;\n",
       "    }\n",
       "\n",
       "    .dataframe tbody tr th {\n",
       "        vertical-align: top;\n",
       "    }\n",
       "\n",
       "    .dataframe thead th {\n",
       "        text-align: right;\n",
       "    }\n",
       "</style>\n",
       "<table border=\"1\" class=\"dataframe\">\n",
       "  <thead>\n",
       "    <tr style=\"text-align: right;\">\n",
       "      <th></th>\n",
       "      <th>id</th>\n",
       "      <th>text</th>\n",
       "    </tr>\n",
       "  </thead>\n",
       "  <tbody>\n",
       "    <tr>\n",
       "      <th>0</th>\n",
       "      <td>0111</td>\n",
       "      <td>One-family houses</td>\n",
       "    </tr>\n",
       "    <tr>\n",
       "      <th>1</th>\n",
       "      <td>0801</td>\n",
       "      <td>Weekend cottages</td>\n",
       "    </tr>\n",
       "    <tr>\n",
       "      <th>2</th>\n",
       "      <td>2103</td>\n",
       "      <td>Owner-occupied flats, total</td>\n",
       "    </tr>\n",
       "  </tbody>\n",
       "</table>\n",
       "</div>"
      ],
      "text/plain": [
       "     id                         text\n",
       "0  0111            One-family houses\n",
       "1  0801             Weekend cottages\n",
       "2  2103  Owner-occupied flats, total"
      ]
     },
     "metadata": {},
     "output_type": "display_data"
    },
    {
     "name": "stdout",
     "output_type": "stream",
     "text": [
      "TAL:\n"
     ]
    },
    {
     "data": {
      "text/html": [
       "<div>\n",
       "<style scoped>\n",
       "    .dataframe tbody tr th:only-of-type {\n",
       "        vertical-align: middle;\n",
       "    }\n",
       "\n",
       "    .dataframe tbody tr th {\n",
       "        vertical-align: top;\n",
       "    }\n",
       "\n",
       "    .dataframe thead th {\n",
       "        text-align: right;\n",
       "    }\n",
       "</style>\n",
       "<table border=\"1\" class=\"dataframe\">\n",
       "  <thead>\n",
       "    <tr style=\"text-align: right;\">\n",
       "      <th></th>\n",
       "      <th>id</th>\n",
       "      <th>text</th>\n",
       "    </tr>\n",
       "  </thead>\n",
       "  <tbody>\n",
       "    <tr>\n",
       "      <th>0</th>\n",
       "      <td>100</td>\n",
       "      <td>Index</td>\n",
       "    </tr>\n",
       "    <tr>\n",
       "      <th>1</th>\n",
       "      <td>210</td>\n",
       "      <td>Percentage change compared to previous quarter</td>\n",
       "    </tr>\n",
       "    <tr>\n",
       "      <th>2</th>\n",
       "      <td>310</td>\n",
       "      <td>Percentage change compared to same quarter the...</td>\n",
       "    </tr>\n",
       "  </tbody>\n",
       "</table>\n",
       "</div>"
      ],
      "text/plain": [
       "    id                                               text\n",
       "0  100                                              Index\n",
       "1  210     Percentage change compared to previous quarter\n",
       "2  310  Percentage change compared to same quarter the..."
      ]
     },
     "metadata": {},
     "output_type": "display_data"
    },
    {
     "name": "stdout",
     "output_type": "stream",
     "text": [
      "Tid:\n"
     ]
    },
    {
     "data": {
      "text/html": [
       "<div>\n",
       "<style scoped>\n",
       "    .dataframe tbody tr th:only-of-type {\n",
       "        vertical-align: middle;\n",
       "    }\n",
       "\n",
       "    .dataframe tbody tr th {\n",
       "        vertical-align: top;\n",
       "    }\n",
       "\n",
       "    .dataframe thead th {\n",
       "        text-align: right;\n",
       "    }\n",
       "</style>\n",
       "<table border=\"1\" class=\"dataframe\">\n",
       "  <thead>\n",
       "    <tr style=\"text-align: right;\">\n",
       "      <th></th>\n",
       "      <th>id</th>\n",
       "      <th>text</th>\n",
       "    </tr>\n",
       "  </thead>\n",
       "  <tbody>\n",
       "    <tr>\n",
       "      <th>0</th>\n",
       "      <td>1992K1</td>\n",
       "      <td>1992Q1</td>\n",
       "    </tr>\n",
       "    <tr>\n",
       "      <th>1</th>\n",
       "      <td>1992K2</td>\n",
       "      <td>1992Q2</td>\n",
       "    </tr>\n",
       "    <tr>\n",
       "      <th>2</th>\n",
       "      <td>1992K3</td>\n",
       "      <td>1992Q3</td>\n",
       "    </tr>\n",
       "    <tr>\n",
       "      <th>3</th>\n",
       "      <td>1992K4</td>\n",
       "      <td>1992Q4</td>\n",
       "    </tr>\n",
       "    <tr>\n",
       "      <th>4</th>\n",
       "      <td>1993K1</td>\n",
       "      <td>1993Q1</td>\n",
       "    </tr>\n",
       "    <tr>\n",
       "      <th>...</th>\n",
       "      <td>...</td>\n",
       "      <td>...</td>\n",
       "    </tr>\n",
       "    <tr>\n",
       "      <th>119</th>\n",
       "      <td>2021K4</td>\n",
       "      <td>2021Q4</td>\n",
       "    </tr>\n",
       "    <tr>\n",
       "      <th>120</th>\n",
       "      <td>2022K1</td>\n",
       "      <td>2022Q1</td>\n",
       "    </tr>\n",
       "    <tr>\n",
       "      <th>121</th>\n",
       "      <td>2022K2</td>\n",
       "      <td>2022Q2</td>\n",
       "    </tr>\n",
       "    <tr>\n",
       "      <th>122</th>\n",
       "      <td>2022K3</td>\n",
       "      <td>2022Q3</td>\n",
       "    </tr>\n",
       "    <tr>\n",
       "      <th>123</th>\n",
       "      <td>2022K4</td>\n",
       "      <td>2022Q4</td>\n",
       "    </tr>\n",
       "  </tbody>\n",
       "</table>\n",
       "<p>124 rows × 2 columns</p>\n",
       "</div>"
      ],
      "text/plain": [
       "         id    text\n",
       "0    1992K1  1992Q1\n",
       "1    1992K2  1992Q2\n",
       "2    1992K3  1992Q3\n",
       "3    1992K4  1992Q4\n",
       "4    1993K1  1993Q1\n",
       "..      ...     ...\n",
       "119  2021K4  2021Q4\n",
       "120  2022K1  2022Q1\n",
       "121  2022K2  2022Q2\n",
       "122  2022K3  2022Q3\n",
       "123  2022K4  2022Q4\n",
       "\n",
       "[124 rows x 2 columns]"
      ]
     },
     "metadata": {},
     "output_type": "display_data"
    }
   ],
   "source": [
    "#An overview over the available data. \n",
    "tabsum = price.tablesummary(language='en')\n",
    "display(tabsum)\n",
    "\n",
    "# Displaying the available values for each variable:\n",
    "for variable in tabsum['variable name']:\n",
    "    print(variable+':')\n",
    "    display(price.variable_levels(variable, language='en'))"
   ]
  },
  {
   "attachments": {},
   "cell_type": "markdown",
   "metadata": {},
   "source": [
    "We are only interested in a subset of the total dataset. Below, we specify the subset of the dataset we want to include"
   ]
  },
  {
   "attachments": {},
   "cell_type": "markdown",
   "metadata": {},
   "source": [
    "1. A param dictionary is defined in order to detaile the data we want"
   ]
  },
  {
   "cell_type": "code",
   "execution_count": 201,
   "metadata": {},
   "outputs": [
    {
     "data": {
      "text/plain": [
       "{'table': 'ej55',\n",
       " 'format': 'BULK',\n",
       " 'lang': 'en',\n",
       " 'variables': [{'code': 'OMRÅDE', 'values': ['*']},\n",
       "  {'code': 'EJENDOMSKATE', 'values': ['*']},\n",
       "  {'code': 'TAL', 'values': ['*']},\n",
       "  {'code': 'Tid', 'values': ['*']}]}"
      ]
     },
     "execution_count": 201,
     "metadata": {},
     "output_type": "execute_result"
    }
   ],
   "source": [
    "# Getting an overview of the underlying code that determines which variables and subset of data we import via the API\n",
    "params = price._define_base_params(language='en')\n",
    "params"
   ]
  },
  {
   "attachments": {},
   "cell_type": "markdown",
   "metadata": {},
   "source": [
    "1. We select the data we want. We only want data for \"All Denmark\" and indexed values, and percentage change compared to previous quarter."
   ]
  },
  {
   "cell_type": "code",
   "execution_count": 202,
   "metadata": {},
   "outputs": [],
   "source": [
    "# Using the format printed above to specify which subsets of the available dataset we want to import\n",
    "params = {'table': 'ej55',\n",
    " 'format': 'BULK',\n",
    " 'lang': 'en',\n",
    " 'variables': [{'code': 'OMRÅDE', 'values': ['01', '02', '03', '04', '05', '06', '07', '08', '09', '10', '11']},\n",
    "  {'code': 'EJENDOMSKATE', 'values': ['0111']},\n",
    "  {'code': 'TAL', 'values': ['100']}, # with the key 'code' we choose the desired variable and with the key 'values' we choose what subset of the dataset for the given variable we want to include\n",
    "  {'code': 'Tid', 'values': ['*']}]} # ['*'] includes all the available data"
   ]
  },
  {
   "attachments": {},
   "cell_type": "markdown",
   "metadata": {},
   "source": [
    "1. Data is sorted and the index is reset. \n",
    "2. Columns are renamed."
   ]
  },
  {
   "cell_type": "code",
   "execution_count": 203,
   "metadata": {},
   "outputs": [],
   "source": [
    "sales_api = price.get_data(params=params) # retrieving the specified subset of the dataset from DST\n",
    "sales_api.sort_values(by=['OMRÅDE', 'TID', 'EJENDOMSKATE'], inplace=True) # sorting the values\n",
    "sales_api.reset_index(inplace = True, drop = True) # resetting the initial index, so it fits the new dataset\n",
    "sales_api.rename(columns = {'OMRÅDE':'PROVINCE', 'EJENDOMSKATE':'CATEGORY', 'TAL':'UNIT', 'TID':'TIME', 'INDHOLD':'SALES_INDEX'}, inplace=True) # renaming columns"
   ]
  },
  {
   "attachments": {},
   "cell_type": "markdown",
   "metadata": {},
   "source": [
    "1. Missing values are replaced with NaN."
   ]
  },
  {
   "cell_type": "code",
   "execution_count": 204,
   "metadata": {},
   "outputs": [],
   "source": [
    "sales_api = sales_api.replace('..', np.nan) # replacing all the missing data (denoted with '..' by DST) with NaN-values"
   ]
  },
  {
   "attachments": {},
   "cell_type": "markdown",
   "metadata": {},
   "source": [
    "1. Values types are replaced. "
   ]
  },
  {
   "cell_type": "code",
   "execution_count": 205,
   "metadata": {},
   "outputs": [
    {
     "name": "stdout",
     "output_type": "stream",
     "text": [
      "<class 'pandas.core.frame.DataFrame'>\n",
      "RangeIndex: 1364 entries, 0 to 1363\n",
      "Data columns (total 5 columns):\n",
      " #   Column       Non-Null Count  Dtype \n",
      "---  ------       --------------  ----- \n",
      " 0   PROVINCE     1364 non-null   object\n",
      " 1   CATEGORY     1364 non-null   object\n",
      " 2   UNIT         1364 non-null   object\n",
      " 3   TIME         1364 non-null   object\n",
      " 4   SALES_INDEX  1308 non-null   object\n",
      "dtypes: object(5)\n",
      "memory usage: 53.4+ KB\n"
     ]
    }
   ],
   "source": [
    "sales_api.info() # assesing the types of data in the dataset"
   ]
  },
  {
   "attachments": {},
   "cell_type": "markdown",
   "metadata": {},
   "source": [
    "1. The value variable is changed to a float type variable. "
   ]
  },
  {
   "cell_type": "code",
   "execution_count": 206,
   "metadata": {},
   "outputs": [
    {
     "name": "stdout",
     "output_type": "stream",
     "text": [
      "<class 'pandas.core.frame.DataFrame'>\n",
      "RangeIndex: 1364 entries, 0 to 1363\n",
      "Data columns (total 5 columns):\n",
      " #   Column       Non-Null Count  Dtype  \n",
      "---  ------       --------------  -----  \n",
      " 0   PROVINCE     1364 non-null   object \n",
      " 1   CATEGORY     1364 non-null   object \n",
      " 2   UNIT         1364 non-null   object \n",
      " 3   TIME         1364 non-null   object \n",
      " 4   SALES_INDEX  1308 non-null   float64\n",
      "dtypes: float64(1), object(4)\n",
      "memory usage: 53.4+ KB\n"
     ]
    }
   ],
   "source": [
    "sales_api.SALES_INDEX = sales_api.SALES_INDEX .astype('float') # changing the column SALES_INDEX from object to float\n",
    "sales_api.info() # displaying the new types of variables"
   ]
  },
  {
   "attachments": {},
   "cell_type": "markdown",
   "metadata": {},
   "source": [
    "Below, we **explore the raw data** by creating **interactive plots** to show important developments "
   ]
  },
  {
   "attachments": {},
   "cell_type": "markdown",
   "metadata": {},
   "source": [
    "**Interactive plot** :"
   ]
  },
  {
   "attachments": {},
   "cell_type": "markdown",
   "metadata": {},
   "source": [
    "1. We create an interactive plot of the housing prices in different provinces of Denmark"
   ]
  },
  {
   "cell_type": "code",
   "execution_count": 207,
   "metadata": {},
   "outputs": [
    {
     "data": {
      "application/vnd.jupyter.widget-view+json": {
       "model_id": "27138489c919473bb97f24b06773a624",
       "version_major": 2,
       "version_minor": 0
      },
      "text/plain": [
       "interactive(children=(Dropdown(description='Province', index=1, options=('Province Bornholm', 'Province Byen K…"
      ]
     },
     "metadata": {},
     "output_type": "display_data"
    },
    {
     "data": {
      "text/plain": [
       "<function __main__.plot_value(df, province)>"
      ]
     },
     "execution_count": 207,
     "metadata": {},
     "output_type": "execute_result"
    }
   ],
   "source": [
    "def plot_value(df, province): \n",
    "    I = (df['PROVINCE'] == province) # creating the plot for the variable 'PROVINCE', thus allowing us to choose the desired province in the plot later on \n",
    "    ax=df.loc[I,:].plot(x='TIME', y='SALES_INDEX', legend=False) # specifying the x- and y-variables for the plot\n",
    "\n",
    "widgets.interact(plot_value, # creating an interactive plot\n",
    "    df = widgets.fixed(sales_api),\n",
    "    province = widgets.Dropdown(description='Province', #creating drop-down widget that allows us to choose the desired province\n",
    "                                    options=sales_api.PROVINCE.unique(), \n",
    "                                    value='Province Byen København'), # initial province will be 'Byen København'\n",
    ")\n"
   ]
  },
  {
   "attachments": {},
   "cell_type": "markdown",
   "metadata": {},
   "source": [
    "In the plot above, we see that all the (nominal) price indexes have followed an increasing trend since 1992. We note that the indexes are not comparable across regions, as each region is indexed so the value of the prices are normalized to index 100 in 2006. So, even if prices in e.g. Byen København are, say, 30 percent higher than prices in Fyn in 2006, both indexes will have the value of index 100.\n",
    "\n",
    "However, from the graphical representation we can compare the relative increase in prices *within* a given province over time, and we see that the most dominant increases in prices since 2006 have been in the provinces 'Byen København', 'Københavns Omegn' and 'Bornholm'. In the recent quarters, of these three provinces, Bornholm have experienced the relatively largest decrease in prices again."
   ]
  },
  {
   "attachments": {},
   "cell_type": "markdown",
   "metadata": {},
   "source": [
    "# Merge with data on gross unemployment"
   ]
  },
  {
   "attachments": {},
   "cell_type": "markdown",
   "metadata": {},
   "source": [
    "Now we wish to examine the correlation within provinces between gross unemployment and prices on one-family houses. Theory suggests that the gross unemployment in a province is a determinant of the housing prices, and that they are negatively correlated. The intuition is that when the unemployment rate increases in a province, then it becomes less attractive to move to this province as the risk of unemployment, all else equal, is higher in this area. Therefore, the demand of houses in the given province decreases implying that the housing prices decrease."
   ]
  },
  {
   "attachments": {},
   "cell_type": "markdown",
   "metadata": {},
   "source": [
    "First, we collect data on gross unemployment within provinces in Denmark. This is done by using the API from Statistics Denmark and importing the register *AULK01*. \n",
    "\n",
    "Just like before, we then clean this dataset and select the relevant information from the dataset. To do this, we need to get an overview of the dataset:"
   ]
  },
  {
   "cell_type": "code",
   "execution_count": 208,
   "metadata": {},
   "outputs": [
    {
     "name": "stdout",
     "output_type": "stream",
     "text": [
      "Table AUS08: unemployed persons (seasonally adjusted) by region, seasonal adjustment and actual figures and time\n",
      "Last update: 2023-04-28T08:00:00\n"
     ]
    },
    {
     "data": {
      "text/html": [
       "<div>\n",
       "<style scoped>\n",
       "    .dataframe tbody tr th:only-of-type {\n",
       "        vertical-align: middle;\n",
       "    }\n",
       "\n",
       "    .dataframe tbody tr th {\n",
       "        vertical-align: top;\n",
       "    }\n",
       "\n",
       "    .dataframe thead th {\n",
       "        text-align: right;\n",
       "    }\n",
       "</style>\n",
       "<table border=\"1\" class=\"dataframe\">\n",
       "  <thead>\n",
       "    <tr style=\"text-align: right;\">\n",
       "      <th></th>\n",
       "      <th>variable name</th>\n",
       "      <th># values</th>\n",
       "      <th>First value</th>\n",
       "      <th>First value label</th>\n",
       "      <th>Last value</th>\n",
       "      <th>Last value label</th>\n",
       "      <th>Time variable</th>\n",
       "    </tr>\n",
       "  </thead>\n",
       "  <tbody>\n",
       "    <tr>\n",
       "      <th>0</th>\n",
       "      <td>OMRÅDE</td>\n",
       "      <td>17</td>\n",
       "      <td>000</td>\n",
       "      <td>All Denmark</td>\n",
       "      <td>11</td>\n",
       "      <td>Province Nordjylland</td>\n",
       "      <td>False</td>\n",
       "    </tr>\n",
       "    <tr>\n",
       "      <th>1</th>\n",
       "      <td>EJENDOMSKATE</td>\n",
       "      <td>3</td>\n",
       "      <td>0111</td>\n",
       "      <td>One-family houses</td>\n",
       "      <td>2103</td>\n",
       "      <td>Owner-occupied flats, total</td>\n",
       "      <td>False</td>\n",
       "    </tr>\n",
       "    <tr>\n",
       "      <th>2</th>\n",
       "      <td>TAL</td>\n",
       "      <td>3</td>\n",
       "      <td>100</td>\n",
       "      <td>Index</td>\n",
       "      <td>310</td>\n",
       "      <td>Percentage change compared to same quarter the...</td>\n",
       "      <td>False</td>\n",
       "    </tr>\n",
       "    <tr>\n",
       "      <th>3</th>\n",
       "      <td>Tid</td>\n",
       "      <td>124</td>\n",
       "      <td>1992K1</td>\n",
       "      <td>1992Q1</td>\n",
       "      <td>2022K4</td>\n",
       "      <td>2022Q4</td>\n",
       "      <td>True</td>\n",
       "    </tr>\n",
       "  </tbody>\n",
       "</table>\n",
       "</div>"
      ],
      "text/plain": [
       "  variable name  # values First value  First value label Last value  \\\n",
       "0        OMRÅDE        17         000        All Denmark         11   \n",
       "1  EJENDOMSKATE         3        0111  One-family houses       2103   \n",
       "2           TAL         3         100              Index        310   \n",
       "3           Tid       124      1992K1             1992Q1     2022K4   \n",
       "\n",
       "                                    Last value label  Time variable  \n",
       "0                               Province Nordjylland          False  \n",
       "1                        Owner-occupied flats, total          False  \n",
       "2  Percentage change compared to same quarter the...          False  \n",
       "3                                             2022Q4           True  "
      ]
     },
     "metadata": {},
     "output_type": "display_data"
    },
    {
     "name": "stdout",
     "output_type": "stream",
     "text": [
      "OMRÅDE:\n"
     ]
    },
    {
     "data": {
      "text/html": [
       "<div>\n",
       "<style scoped>\n",
       "    .dataframe tbody tr th:only-of-type {\n",
       "        vertical-align: middle;\n",
       "    }\n",
       "\n",
       "    .dataframe tbody tr th {\n",
       "        vertical-align: top;\n",
       "    }\n",
       "\n",
       "    .dataframe thead th {\n",
       "        text-align: right;\n",
       "    }\n",
       "</style>\n",
       "<table border=\"1\" class=\"dataframe\">\n",
       "  <thead>\n",
       "    <tr style=\"text-align: right;\">\n",
       "      <th></th>\n",
       "      <th>id</th>\n",
       "      <th>text</th>\n",
       "    </tr>\n",
       "  </thead>\n",
       "  <tbody>\n",
       "    <tr>\n",
       "      <th>0</th>\n",
       "      <td>000</td>\n",
       "      <td>All Denmark</td>\n",
       "    </tr>\n",
       "    <tr>\n",
       "      <th>1</th>\n",
       "      <td>084</td>\n",
       "      <td>Region Hovedstaden</td>\n",
       "    </tr>\n",
       "    <tr>\n",
       "      <th>2</th>\n",
       "      <td>01</td>\n",
       "      <td>Province Byen København</td>\n",
       "    </tr>\n",
       "    <tr>\n",
       "      <th>3</th>\n",
       "      <td>101</td>\n",
       "      <td>Copenhagen</td>\n",
       "    </tr>\n",
       "    <tr>\n",
       "      <th>4</th>\n",
       "      <td>147</td>\n",
       "      <td>Frederiksberg</td>\n",
       "    </tr>\n",
       "    <tr>\n",
       "      <th>...</th>\n",
       "      <td>...</td>\n",
       "      <td>...</td>\n",
       "    </tr>\n",
       "    <tr>\n",
       "      <th>112</th>\n",
       "      <td>787</td>\n",
       "      <td>Thisted</td>\n",
       "    </tr>\n",
       "    <tr>\n",
       "      <th>113</th>\n",
       "      <td>820</td>\n",
       "      <td>Vesthimmerlands</td>\n",
       "    </tr>\n",
       "    <tr>\n",
       "      <th>114</th>\n",
       "      <td>851</td>\n",
       "      <td>Aalborg</td>\n",
       "    </tr>\n",
       "    <tr>\n",
       "      <th>115</th>\n",
       "      <td>998</td>\n",
       "      <td>Unknown municipality</td>\n",
       "    </tr>\n",
       "    <tr>\n",
       "      <th>116</th>\n",
       "      <td>997</td>\n",
       "      <td>Abroad</td>\n",
       "    </tr>\n",
       "  </tbody>\n",
       "</table>\n",
       "<p>117 rows × 2 columns</p>\n",
       "</div>"
      ],
      "text/plain": [
       "      id                     text\n",
       "0    000              All Denmark\n",
       "1    084       Region Hovedstaden\n",
       "2     01  Province Byen København\n",
       "3    101               Copenhagen\n",
       "4    147            Frederiksberg\n",
       "..   ...                      ...\n",
       "112  787                  Thisted\n",
       "113  820          Vesthimmerlands\n",
       "114  851                  Aalborg\n",
       "115  998     Unknown municipality\n",
       "116  997                   Abroad\n",
       "\n",
       "[117 rows x 2 columns]"
      ]
     },
     "metadata": {},
     "output_type": "display_data"
    },
    {
     "name": "stdout",
     "output_type": "stream",
     "text": [
      "SAESONFAK:\n"
     ]
    },
    {
     "data": {
      "text/html": [
       "<div>\n",
       "<style scoped>\n",
       "    .dataframe tbody tr th:only-of-type {\n",
       "        vertical-align: middle;\n",
       "    }\n",
       "\n",
       "    .dataframe tbody tr th {\n",
       "        vertical-align: top;\n",
       "    }\n",
       "\n",
       "    .dataframe thead th {\n",
       "        text-align: right;\n",
       "    }\n",
       "</style>\n",
       "<table border=\"1\" class=\"dataframe\">\n",
       "  <thead>\n",
       "    <tr style=\"text-align: right;\">\n",
       "      <th></th>\n",
       "      <th>id</th>\n",
       "      <th>text</th>\n",
       "    </tr>\n",
       "  </thead>\n",
       "  <tbody>\n",
       "    <tr>\n",
       "      <th>0</th>\n",
       "      <td>9</td>\n",
       "      <td>Seasonally adjusted figures in percent of the ...</td>\n",
       "    </tr>\n",
       "    <tr>\n",
       "      <th>1</th>\n",
       "      <td>10</td>\n",
       "      <td>Seasonally adjusted</td>\n",
       "    </tr>\n",
       "    <tr>\n",
       "      <th>2</th>\n",
       "      <td>22</td>\n",
       "      <td>Enumerated actual figures  in percent of the l...</td>\n",
       "    </tr>\n",
       "    <tr>\n",
       "      <th>3</th>\n",
       "      <td>24</td>\n",
       "      <td>Enumerated actual figures</td>\n",
       "    </tr>\n",
       "  </tbody>\n",
       "</table>\n",
       "</div>"
      ],
      "text/plain": [
       "   id                                               text\n",
       "0   9  Seasonally adjusted figures in percent of the ...\n",
       "1  10                                Seasonally adjusted\n",
       "2  22  Enumerated actual figures  in percent of the l...\n",
       "3  24                          Enumerated actual figures"
      ]
     },
     "metadata": {},
     "output_type": "display_data"
    },
    {
     "name": "stdout",
     "output_type": "stream",
     "text": [
      "Tid:\n"
     ]
    },
    {
     "data": {
      "text/html": [
       "<div>\n",
       "<style scoped>\n",
       "    .dataframe tbody tr th:only-of-type {\n",
       "        vertical-align: middle;\n",
       "    }\n",
       "\n",
       "    .dataframe tbody tr th {\n",
       "        vertical-align: top;\n",
       "    }\n",
       "\n",
       "    .dataframe thead th {\n",
       "        text-align: right;\n",
       "    }\n",
       "</style>\n",
       "<table border=\"1\" class=\"dataframe\">\n",
       "  <thead>\n",
       "    <tr style=\"text-align: right;\">\n",
       "      <th></th>\n",
       "      <th>id</th>\n",
       "      <th>text</th>\n",
       "    </tr>\n",
       "  </thead>\n",
       "  <tbody>\n",
       "    <tr>\n",
       "      <th>0</th>\n",
       "      <td>2007M01</td>\n",
       "      <td>2007M01</td>\n",
       "    </tr>\n",
       "    <tr>\n",
       "      <th>1</th>\n",
       "      <td>2007M02</td>\n",
       "      <td>2007M02</td>\n",
       "    </tr>\n",
       "    <tr>\n",
       "      <th>2</th>\n",
       "      <td>2007M03</td>\n",
       "      <td>2007M03</td>\n",
       "    </tr>\n",
       "    <tr>\n",
       "      <th>3</th>\n",
       "      <td>2007M04</td>\n",
       "      <td>2007M04</td>\n",
       "    </tr>\n",
       "    <tr>\n",
       "      <th>4</th>\n",
       "      <td>2007M05</td>\n",
       "      <td>2007M05</td>\n",
       "    </tr>\n",
       "    <tr>\n",
       "      <th>...</th>\n",
       "      <td>...</td>\n",
       "      <td>...</td>\n",
       "    </tr>\n",
       "    <tr>\n",
       "      <th>190</th>\n",
       "      <td>2022M11</td>\n",
       "      <td>2022M11</td>\n",
       "    </tr>\n",
       "    <tr>\n",
       "      <th>191</th>\n",
       "      <td>2022M12</td>\n",
       "      <td>2022M12</td>\n",
       "    </tr>\n",
       "    <tr>\n",
       "      <th>192</th>\n",
       "      <td>2023M01</td>\n",
       "      <td>2023M01</td>\n",
       "    </tr>\n",
       "    <tr>\n",
       "      <th>193</th>\n",
       "      <td>2023M02</td>\n",
       "      <td>2023M02</td>\n",
       "    </tr>\n",
       "    <tr>\n",
       "      <th>194</th>\n",
       "      <td>2023M03</td>\n",
       "      <td>2023M03</td>\n",
       "    </tr>\n",
       "  </tbody>\n",
       "</table>\n",
       "<p>195 rows × 2 columns</p>\n",
       "</div>"
      ],
      "text/plain": [
       "          id     text\n",
       "0    2007M01  2007M01\n",
       "1    2007M02  2007M02\n",
       "2    2007M03  2007M03\n",
       "3    2007M04  2007M04\n",
       "4    2007M05  2007M05\n",
       "..       ...      ...\n",
       "190  2022M11  2022M11\n",
       "191  2022M12  2022M12\n",
       "192  2023M01  2023M01\n",
       "193  2023M02  2023M02\n",
       "194  2023M03  2023M03\n",
       "\n",
       "[195 rows x 2 columns]"
      ]
     },
     "metadata": {},
     "output_type": "display_data"
    }
   ],
   "source": [
    "#An overview over the available data. \n",
    "tabsum_unemp = unemp.tablesummary(language='en')\n",
    "display(tabsum)\n",
    "\n",
    "# The available values for each variable:\n",
    "for variable in tabsum_unemp['variable name']:\n",
    "    print(variable+':')\n",
    "    display(unemp.variable_levels(variable, language='en'))"
   ]
  },
  {
   "attachments": {},
   "cell_type": "markdown",
   "metadata": {},
   "source": [
    "Now, we select the relevant variables for this analysis."
   ]
  },
  {
   "cell_type": "code",
   "execution_count": 209,
   "metadata": {},
   "outputs": [
    {
     "data": {
      "text/plain": [
       "{'table': 'aus08',\n",
       " 'format': 'BULK',\n",
       " 'lang': 'en',\n",
       " 'variables': [{'code': 'OMRÅDE', 'values': ['*']},\n",
       "  {'code': 'SAESONFAK', 'values': ['*']},\n",
       "  {'code': 'Tid', 'values': ['*']}]}"
      ]
     },
     "execution_count": 209,
     "metadata": {},
     "output_type": "execute_result"
    }
   ],
   "source": [
    "# Getting an overview of the underlying code that determines which variables and subset of data we import via the API\n",
    "params_unemp = unemp._define_base_params(language='en')\n",
    "params_unemp "
   ]
  },
  {
   "cell_type": "code",
   "execution_count": 210,
   "metadata": {},
   "outputs": [],
   "source": [
    "# Using the format printed above to specify which subsets of the available dataset we want to import\n",
    "params_unemp = {'table': 'aus08',\n",
    " 'format': 'BULK',\n",
    " 'lang': 'en',\n",
    " 'variables': [{'code': 'OMRÅDE', 'values': ['01', '02', '03', '04', '05', '06', '07', '08', '09', '10', '11']}, # with the key 'code' we choose the desired variable and with the key 'values' we choose what subset of the dataset for the given variable we want to include\n",
    "  {'code': 'SAESONFAK', 'values': ['9']},\n",
    "  {'code': 'Tid', 'values': ['*']}]} # ['*'] includes all the available values\n",
    "\n"
   ]
  },
  {
   "cell_type": "code",
   "execution_count": 211,
   "metadata": {},
   "outputs": [
    {
     "name": "stdout",
     "output_type": "stream",
     "text": [
      "<class 'pandas.core.frame.DataFrame'>\n",
      "RangeIndex: 2145 entries, 0 to 2144\n",
      "Data columns (total 3 columns):\n",
      " #   Column             Non-Null Count  Dtype  \n",
      "---  ------             --------------  -----  \n",
      " 0   PROVINCE           2145 non-null   object \n",
      " 1   UNEMPLOYMENT_RATE  2145 non-null   float64\n",
      " 2   YEAR               2145 non-null   int64  \n",
      "dtypes: float64(1), int64(1), object(1)\n",
      "memory usage: 50.4+ KB\n"
     ]
    }
   ],
   "source": [
    "unemp_api = unemp.get_data(params=params_unemp) # retrieving the specified subset of the dataset from DST\n",
    "unemp_api.sort_values(by=['OMRÅDE', 'TID'], inplace=True) # sorting the values\n",
    "unemp_api = unemp_api.drop(columns = ['SAESONFAK']) # dropping unwanted columns\n",
    "unemp_api.reset_index(inplace = True, drop = True) # resetting the index, so it fits the new dataset\n",
    "unemp_api.rename(columns = {'OMRÅDE':'PROVINCE','TID':'TIME', 'INDHOLD':'UNEMPLOYMENT_RATE'}, inplace=True) # renaming columns\n",
    "\n"
   ]
  },
  {
   "attachments": {},
   "cell_type": "markdown",
   "metadata": {},
   "source": [
    "### Taking yearly averages over the unemployment rate \n",
    "\n",
    "Now, we want to calculate yearly averages of the unemployment rate and the housing prices, respectively. This is so we can plot the two against each other later.\n",
    "\n",
    "We start by creating a new variable 'YEAR' where it has the same value for all observations in a given year. Then we drop 'TIME'. Finally we calculate the average over each year. Firstly, we do this  the unemployment rate and then for the housing prices."
   ]
  },
  {
   "cell_type": "code",
   "execution_count": null,
   "metadata": {},
   "outputs": [],
   "source": [
    "unemp_api['YEAR'] = pd.to_datetime(unemp_api['TIME'], format='%YM%m').dt.year # extracting the year information from the column 'TIME' and creating a new variable 'YEAR' with the year information\n",
    "unemp_api = unemp_api.drop(columns = ['TIME']) # dropping the column 'TIME'\n",
    "\n",
    "unemp_api['UNEMPLOYMENT_RATE'] = unemp_api['UNEMPLOYMENT_RATE'].astype('float') # changing the column UNEMPLOYMENT_RATE from object to float\n",
    "unemp_api.info() # assesing the types of data in the dataset"
   ]
  },
  {
   "cell_type": "code",
   "execution_count": 212,
   "metadata": {},
   "outputs": [
    {
     "data": {
      "text/html": [
       "<div>\n",
       "<style scoped>\n",
       "    .dataframe tbody tr th:only-of-type {\n",
       "        vertical-align: middle;\n",
       "    }\n",
       "\n",
       "    .dataframe tbody tr th {\n",
       "        vertical-align: top;\n",
       "    }\n",
       "\n",
       "    .dataframe thead th {\n",
       "        text-align: right;\n",
       "    }\n",
       "</style>\n",
       "<table border=\"1\" class=\"dataframe\">\n",
       "  <thead>\n",
       "    <tr style=\"text-align: right;\">\n",
       "      <th></th>\n",
       "      <th>PROVINCE</th>\n",
       "      <th>YEAR</th>\n",
       "      <th>UNEMPLOYMENT_RATE</th>\n",
       "    </tr>\n",
       "  </thead>\n",
       "  <tbody>\n",
       "    <tr>\n",
       "      <th>0</th>\n",
       "      <td>Province Bornholm</td>\n",
       "      <td>2007</td>\n",
       "      <td>7.391667</td>\n",
       "    </tr>\n",
       "    <tr>\n",
       "      <th>1</th>\n",
       "      <td>Province Bornholm</td>\n",
       "      <td>2008</td>\n",
       "      <td>5.975000</td>\n",
       "    </tr>\n",
       "    <tr>\n",
       "      <th>2</th>\n",
       "      <td>Province Bornholm</td>\n",
       "      <td>2009</td>\n",
       "      <td>7.475000</td>\n",
       "    </tr>\n",
       "    <tr>\n",
       "      <th>3</th>\n",
       "      <td>Province Bornholm</td>\n",
       "      <td>2010</td>\n",
       "      <td>8.191667</td>\n",
       "    </tr>\n",
       "    <tr>\n",
       "      <th>4</th>\n",
       "      <td>Province Bornholm</td>\n",
       "      <td>2011</td>\n",
       "      <td>7.400000</td>\n",
       "    </tr>\n",
       "  </tbody>\n",
       "</table>\n",
       "</div>"
      ],
      "text/plain": [
       "            PROVINCE  YEAR  UNEMPLOYMENT_RATE\n",
       "0  Province Bornholm  2007           7.391667\n",
       "1  Province Bornholm  2008           5.975000\n",
       "2  Province Bornholm  2009           7.475000\n",
       "3  Province Bornholm  2010           8.191667\n",
       "4  Province Bornholm  2011           7.400000"
      ]
     },
     "execution_count": 212,
     "metadata": {},
     "output_type": "execute_result"
    }
   ],
   "source": [
    "unemp_avg = unemp_api.groupby(['PROVINCE', 'YEAR'])['UNEMPLOYMENT_RATE'].apply('mean') # calculating the average unemployment rate for each province in each year\n",
    "unemp_avg = unemp_avg.reset_index() # resetting the index, so it fits the new dataset\n",
    "unemp_avg.head(5)"
   ]
  },
  {
   "attachments": {},
   "cell_type": "markdown",
   "metadata": {},
   "source": [
    "Now, we also calculate the mean for the house prices in the same fashion."
   ]
  },
  {
   "cell_type": "code",
   "execution_count": 213,
   "metadata": {},
   "outputs": [
    {
     "name": "stdout",
     "output_type": "stream",
     "text": [
      "<class 'pandas.core.frame.DataFrame'>\n",
      "RangeIndex: 1364 entries, 0 to 1363\n",
      "Data columns (total 5 columns):\n",
      " #   Column       Non-Null Count  Dtype  \n",
      "---  ------       --------------  -----  \n",
      " 0   PROVINCE     1364 non-null   object \n",
      " 1   CATEGORY     1364 non-null   object \n",
      " 2   UNIT         1364 non-null   object \n",
      " 3   SALES_INDEX  1308 non-null   float64\n",
      " 4   YEAR         1364 non-null   int64  \n",
      "dtypes: float64(1), int64(1), object(3)\n",
      "memory usage: 53.4+ KB\n"
     ]
    },
    {
     "data": {
      "text/html": [
       "<div>\n",
       "<style scoped>\n",
       "    .dataframe tbody tr th:only-of-type {\n",
       "        vertical-align: middle;\n",
       "    }\n",
       "\n",
       "    .dataframe tbody tr th {\n",
       "        vertical-align: top;\n",
       "    }\n",
       "\n",
       "    .dataframe thead th {\n",
       "        text-align: right;\n",
       "    }\n",
       "</style>\n",
       "<table border=\"1\" class=\"dataframe\">\n",
       "  <thead>\n",
       "    <tr style=\"text-align: right;\">\n",
       "      <th></th>\n",
       "      <th>PROVINCE</th>\n",
       "      <th>CATEGORY</th>\n",
       "      <th>UNIT</th>\n",
       "      <th>SALES_INDEX</th>\n",
       "      <th>YEAR</th>\n",
       "    </tr>\n",
       "  </thead>\n",
       "  <tbody>\n",
       "    <tr>\n",
       "      <th>282</th>\n",
       "      <td>Province Fyn</td>\n",
       "      <td>One-family houses</td>\n",
       "      <td>Index</td>\n",
       "      <td>63.9</td>\n",
       "      <td>2000</td>\n",
       "    </tr>\n",
       "    <tr>\n",
       "      <th>137</th>\n",
       "      <td>Province Byen København</td>\n",
       "      <td>One-family houses</td>\n",
       "      <td>Index</td>\n",
       "      <td>22.8</td>\n",
       "      <td>1995</td>\n",
       "    </tr>\n",
       "    <tr>\n",
       "      <th>941</th>\n",
       "      <td>Province Vest- og Sydsjælland</td>\n",
       "      <td>One-family houses</td>\n",
       "      <td>Index</td>\n",
       "      <td>85.0</td>\n",
       "      <td>2010</td>\n",
       "    </tr>\n",
       "    <tr>\n",
       "      <th>831</th>\n",
       "      <td>Province Sydjylland</td>\n",
       "      <td>One-family houses</td>\n",
       "      <td>Index</td>\n",
       "      <td>91.9</td>\n",
       "      <td>2013</td>\n",
       "    </tr>\n",
       "    <tr>\n",
       "      <th>798</th>\n",
       "      <td>Province Sydjylland</td>\n",
       "      <td>One-family houses</td>\n",
       "      <td>Index</td>\n",
       "      <td>88.1</td>\n",
       "      <td>2005</td>\n",
       "    </tr>\n",
       "  </tbody>\n",
       "</table>\n",
       "</div>"
      ],
      "text/plain": [
       "                          PROVINCE           CATEGORY   UNIT  SALES_INDEX  \\\n",
       "282                   Province Fyn  One-family houses  Index         63.9   \n",
       "137        Province Byen København  One-family houses  Index         22.8   \n",
       "941  Province Vest- og Sydsjælland  One-family houses  Index         85.0   \n",
       "831            Province Sydjylland  One-family houses  Index         91.9   \n",
       "798            Province Sydjylland  One-family houses  Index         88.1   \n",
       "\n",
       "     YEAR  \n",
       "282  2000  \n",
       "137  1995  \n",
       "941  2010  \n",
       "831  2013  \n",
       "798  2005  "
      ]
     },
     "execution_count": 213,
     "metadata": {},
     "output_type": "execute_result"
    }
   ],
   "source": [
    "\n",
    "sales_api['YEAR'] = pd.to_datetime(sales_api['TIME'], format='%YQ%m').dt.year # extracting the year information from the column 'TIME'\n",
    "sales_api = sales_api.drop(columns = ['TIME']) # dropping the column 'TIME'\n",
    "\n",
    "sales_api['SALES_INDEX'] = sales_api['SALES_INDEX'].astype('float') # changing the column SALES_INDEX from object to float\n",
    "sales_api.info() # assesing the types of data in the dataset\n",
    "sales_api.sample(5)"
   ]
  },
  {
   "cell_type": "code",
   "execution_count": 219,
   "metadata": {},
   "outputs": [
    {
     "data": {
      "text/html": [
       "<div>\n",
       "<style scoped>\n",
       "    .dataframe tbody tr th:only-of-type {\n",
       "        vertical-align: middle;\n",
       "    }\n",
       "\n",
       "    .dataframe tbody tr th {\n",
       "        vertical-align: top;\n",
       "    }\n",
       "\n",
       "    .dataframe thead th {\n",
       "        text-align: right;\n",
       "    }\n",
       "</style>\n",
       "<table border=\"1\" class=\"dataframe\">\n",
       "  <thead>\n",
       "    <tr style=\"text-align: right;\">\n",
       "      <th></th>\n",
       "      <th>PROVINCE</th>\n",
       "      <th>YEAR</th>\n",
       "      <th>SALES_INDEX</th>\n",
       "    </tr>\n",
       "  </thead>\n",
       "  <tbody>\n",
       "    <tr>\n",
       "      <th>307</th>\n",
       "      <td>Province Østjylland</td>\n",
       "      <td>2020</td>\n",
       "      <td>117.100</td>\n",
       "    </tr>\n",
       "    <tr>\n",
       "      <th>51</th>\n",
       "      <td>Province Byen København</td>\n",
       "      <td>2012</td>\n",
       "      <td>79.400</td>\n",
       "    </tr>\n",
       "    <tr>\n",
       "      <th>296</th>\n",
       "      <td>Province Østjylland</td>\n",
       "      <td>2009</td>\n",
       "      <td>92.475</td>\n",
       "    </tr>\n",
       "    <tr>\n",
       "      <th>20</th>\n",
       "      <td>Province Bornholm</td>\n",
       "      <td>2012</td>\n",
       "      <td>84.625</td>\n",
       "    </tr>\n",
       "    <tr>\n",
       "      <th>86</th>\n",
       "      <td>Province Fyn</td>\n",
       "      <td>2016</td>\n",
       "      <td>100.900</td>\n",
       "    </tr>\n",
       "    <tr>\n",
       "      <th>154</th>\n",
       "      <td>Province Nordjylland</td>\n",
       "      <td>2022</td>\n",
       "      <td>127.650</td>\n",
       "    </tr>\n",
       "    <tr>\n",
       "      <th>329</th>\n",
       "      <td>Province Østsjælland</td>\n",
       "      <td>2011</td>\n",
       "      <td>75.550</td>\n",
       "    </tr>\n",
       "    <tr>\n",
       "      <th>203</th>\n",
       "      <td>Province Sydjylland</td>\n",
       "      <td>2009</td>\n",
       "      <td>104.150</td>\n",
       "    </tr>\n",
       "    <tr>\n",
       "      <th>1</th>\n",
       "      <td>Province Bornholm</td>\n",
       "      <td>1993</td>\n",
       "      <td>NaN</td>\n",
       "    </tr>\n",
       "    <tr>\n",
       "      <th>153</th>\n",
       "      <td>Province Nordjylland</td>\n",
       "      <td>2021</td>\n",
       "      <td>126.425</td>\n",
       "    </tr>\n",
       "  </tbody>\n",
       "</table>\n",
       "</div>"
      ],
      "text/plain": [
       "                    PROVINCE  YEAR  SALES_INDEX\n",
       "307      Province Østjylland  2020      117.100\n",
       "51   Province Byen København  2012       79.400\n",
       "296      Province Østjylland  2009       92.475\n",
       "20         Province Bornholm  2012       84.625\n",
       "86              Province Fyn  2016      100.900\n",
       "154     Province Nordjylland  2022      127.650\n",
       "329     Province Østsjælland  2011       75.550\n",
       "203      Province Sydjylland  2009      104.150\n",
       "1          Province Bornholm  1993          NaN\n",
       "153     Province Nordjylland  2021      126.425"
      ]
     },
     "execution_count": 219,
     "metadata": {},
     "output_type": "execute_result"
    }
   ],
   "source": [
    "sales_avg = sales_api.groupby(['PROVINCE', 'YEAR'])['SALES_INDEX'].apply('mean') # calculating the average unemployment rate for each province in each year\n",
    "sales_avg = sales_avg.reset_index() # resetting the index, so it fits the new dataset\n",
    "sales_avg.sample(10)"
   ]
  },
  {
   "attachments": {},
   "cell_type": "markdown",
   "metadata": {},
   "source": [
    "Now, we wish to merge gross unemployment data within provinces on the dataset of housing prices. Here, we merge on province and time, such that we for each province in each quarter now also have information on the number of gross employed. We have data on housing prices from 1992Q1 and onwards, while we only have data on gross unemployment from 2007Q1. As all observations on housing prices before 2007Q1 cannot be linked to the gross unemployment in the given period, these observations are irrelvant, and we therefore use the *inner join*-method to merge. This only method only includes the matches between the two datasets.\n"
   ]
  },
  {
   "cell_type": "code",
   "execution_count": 221,
   "metadata": {},
   "outputs": [
    {
     "data": {
      "text/html": [
       "<div>\n",
       "<style scoped>\n",
       "    .dataframe tbody tr th:only-of-type {\n",
       "        vertical-align: middle;\n",
       "    }\n",
       "\n",
       "    .dataframe tbody tr th {\n",
       "        vertical-align: top;\n",
       "    }\n",
       "\n",
       "    .dataframe thead th {\n",
       "        text-align: right;\n",
       "    }\n",
       "</style>\n",
       "<table border=\"1\" class=\"dataframe\">\n",
       "  <thead>\n",
       "    <tr style=\"text-align: right;\">\n",
       "      <th></th>\n",
       "      <th>PROVINCE</th>\n",
       "      <th>YEAR</th>\n",
       "      <th>SALES_INDEX</th>\n",
       "      <th>UNEMPLOYMENT_RATE</th>\n",
       "    </tr>\n",
       "  </thead>\n",
       "  <tbody>\n",
       "    <tr>\n",
       "      <th>147</th>\n",
       "      <td>Province Østjylland</td>\n",
       "      <td>2010</td>\n",
       "      <td>95.150</td>\n",
       "      <td>5.558333</td>\n",
       "    </tr>\n",
       "    <tr>\n",
       "      <th>37</th>\n",
       "      <td>Province Fyn</td>\n",
       "      <td>2012</td>\n",
       "      <td>91.625</td>\n",
       "      <td>7.375000</td>\n",
       "    </tr>\n",
       "    <tr>\n",
       "      <th>36</th>\n",
       "      <td>Province Fyn</td>\n",
       "      <td>2011</td>\n",
       "      <td>96.400</td>\n",
       "      <td>7.150000</td>\n",
       "    </tr>\n",
       "    <tr>\n",
       "      <th>85</th>\n",
       "      <td>Province Nordsjælland</td>\n",
       "      <td>2012</td>\n",
       "      <td>71.650</td>\n",
       "      <td>4.625000</td>\n",
       "    </tr>\n",
       "    <tr>\n",
       "      <th>105</th>\n",
       "      <td>Province Sydjylland</td>\n",
       "      <td>2016</td>\n",
       "      <td>101.825</td>\n",
       "      <td>3.633333</td>\n",
       "    </tr>\n",
       "    <tr>\n",
       "      <th>40</th>\n",
       "      <td>Province Fyn</td>\n",
       "      <td>2015</td>\n",
       "      <td>98.625</td>\n",
       "      <td>5.300000</td>\n",
       "    </tr>\n",
       "    <tr>\n",
       "      <th>16</th>\n",
       "      <td>Province Byen København</td>\n",
       "      <td>2007</td>\n",
       "      <td>96.275</td>\n",
       "      <td>5.433333</td>\n",
       "    </tr>\n",
       "    <tr>\n",
       "      <th>126</th>\n",
       "      <td>Province Vest- og Sydsjælland</td>\n",
       "      <td>2021</td>\n",
       "      <td>105.275</td>\n",
       "      <td>3.500000</td>\n",
       "    </tr>\n",
       "    <tr>\n",
       "      <th>60</th>\n",
       "      <td>Province Københavns omegn</td>\n",
       "      <td>2019</td>\n",
       "      <td>116.000</td>\n",
       "      <td>3.741667</td>\n",
       "    </tr>\n",
       "    <tr>\n",
       "      <th>74</th>\n",
       "      <td>Province Nordjylland</td>\n",
       "      <td>2017</td>\n",
       "      <td>112.475</td>\n",
       "      <td>4.791667</td>\n",
       "    </tr>\n",
       "  </tbody>\n",
       "</table>\n",
       "</div>"
      ],
      "text/plain": [
       "                          PROVINCE  YEAR  SALES_INDEX  UNEMPLOYMENT_RATE\n",
       "147            Province Østjylland  2010       95.150           5.558333\n",
       "37                    Province Fyn  2012       91.625           7.375000\n",
       "36                    Province Fyn  2011       96.400           7.150000\n",
       "85           Province Nordsjælland  2012       71.650           4.625000\n",
       "105            Province Sydjylland  2016      101.825           3.633333\n",
       "40                    Province Fyn  2015       98.625           5.300000\n",
       "16         Province Byen København  2007       96.275           5.433333\n",
       "126  Province Vest- og Sydsjælland  2021      105.275           3.500000\n",
       "60       Province Københavns omegn  2019      116.000           3.741667\n",
       "74            Province Nordjylland  2017      112.475           4.791667"
      ]
     },
     "execution_count": 221,
     "metadata": {},
     "output_type": "execute_result"
    }
   ],
   "source": [
    "sales_with_unemp = pd.merge(sales_avg, unemp_avg, on = ['PROVINCE', 'YEAR'], how = 'inner') # Performing an inner merge of the two datasets (keeping only data for which there are observations for both variables in the dataset)\n",
    "sales_with_unemp.sample(10) # displaying a sample of 10 random values in the dataset"
   ]
  },
  {
   "attachments": {},
   "cell_type": "markdown",
   "metadata": {},
   "source": [
    "Now that the dataset is ready, we can examine the correlation between gross unemployment and prices on one-family houses within each province. We do this by constructing a binned scatterplot for each province. The binned scatterplot groups the unemployment rates into 10 equal-sized bins for each province and plots the mean of the associated housing prices within each bin. \n",
    "\n",
    "We construct the binned scatter plot using the package *binsreg*, which can be installed writing \"pip install binsreg\" in the prompt."
   ]
  },
  {
   "cell_type": "code",
   "execution_count": null,
   "metadata": {},
   "outputs": [],
   "source": [
    "# Import binsreg\n",
    "import binsreg\n",
    "\n",
    "def binscatter(df,province):\n",
    "    I =df[df['PROVINCE'] == province]\n",
    "    binsreg.binsreg('SALES_INDEX', 'GROSS UNEMPLOYMENT', data=I, \n",
    "                    nbins=10, #specify 10 bins \n",
    "                    polyreg=1, #create linear fitted line      \n",
    "    )\n",
    "\n",
    "    \n",
    "widgets.interact(binscatter, # creating interactive widget letting us choose the desired province\n",
    "    df = widgets.fixed(sales_with_unemp),\n",
    "    province = widgets.Dropdown(description='Province', \n",
    "                                    options=sales_with_unemp.PROVINCE.unique(), \n",
    "                                    value='Province Byen København'),\n",
    ")\n",
    "\n"
   ]
  },
  {
   "attachments": {},
   "cell_type": "markdown",
   "metadata": {},
   "source": [
    "From the interactive figure above, we clearly observe a negative correlation between gross unemployment rate and housing prices in all of the provinces. This results supports the theoretical suggestions that the gross unemployment rate in a province is a determinant of the housing prices in the province. However, it is important to emphasize that these results are only correlations, hence we cannot give the results any causal interpretations. In principle, the negative correlation could be due to reverse causality or omitted variables correlating with both gross unemployment and the housing prices (e.g. the interest rates)."
   ]
  }
 ],
 "metadata": {
  "kernelspec": {
   "display_name": "base",
   "language": "python",
   "name": "python3"
  },
  "language_info": {
   "codemirror_mode": {
    "name": "ipython",
    "version": 3
   },
   "file_extension": ".py",
   "mimetype": "text/x-python",
   "name": "python",
   "nbconvert_exporter": "python",
   "pygments_lexer": "ipython3",
   "version": "3.9.13"
  },
  "toc-autonumbering": true,
  "vscode": {
   "interpreter": {
    "hash": "5fc7de9dea58bea174de8ba4ebb6b6a97e7b8f1cecf294d3cf919f504f8e38ec"
   }
  }
 },
 "nbformat": 4,
 "nbformat_minor": 4
}
