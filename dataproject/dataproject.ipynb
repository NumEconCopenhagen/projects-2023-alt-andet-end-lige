{
 "cells": [
  {
   "cell_type": "markdown",
   "metadata": {},
   "source": [
    "# YOUR PROJECT TITLE"
   ]
  },
  {
   "attachments": {},
   "cell_type": "markdown",
   "metadata": {},
   "source": [
    "> **Note the following:** \n",
    "> 1. This is *not* meant to be an example of an actual **data analysis project**, just an example of how to structure such a project.\n",
    "> 1. Remember the general advice on structuring and commenting your code\n",
    "> 1. The `dataproject.py` file includes a function which can be used multiple times in this notebook."
   ]
  },
  {
   "cell_type": "markdown",
   "metadata": {},
   "source": [
    "Imports and set magics:"
   ]
  },
  {
   "cell_type": "code",
   "execution_count": 30,
   "metadata": {},
   "outputs": [
    {
     "name": "stdout",
     "output_type": "stream",
     "text": [
      "The autoreload extension is already loaded. To reload it, use:\n",
      "  %reload_ext autoreload\n"
     ]
    }
   ],
   "source": [
    "import pandas as pd\n",
    "import numpy as np\n",
    "import datetime\n",
    "\n",
    "import matplotlib.pyplot as plt\n",
    "plt.rcParams.update({\"axes.grid\":True,\"grid.color\":\"black\",\"grid.alpha\":\"0.25\",\"grid.linestyle\":\"-\"})\n",
    "plt.rcParams.update({'font.size': 14})\n",
    "import ipywidgets as widgets\n",
    "\n",
    "from dstapi import DstApi \n",
    "\n",
    "# autoreload modules when code is run\n",
    "%load_ext autoreload\n",
    "%autoreload 2\n",
    "\n",
    "# user written modules\n",
    "import dataproject"
   ]
  },
  {
   "cell_type": "markdown",
   "metadata": {},
   "source": [
    "# Read and clean data"
   ]
  },
  {
   "attachments": {},
   "cell_type": "markdown",
   "metadata": {},
   "source": [
    "1. Data is imported using the API for Danmarks statistik"
   ]
  },
  {
   "cell_type": "code",
   "execution_count": 16,
   "metadata": {},
   "outputs": [],
   "source": [
    "data = DstApi('EJ55') "
   ]
  },
  {
   "cell_type": "markdown",
   "metadata": {},
   "source": [
    "## Explore each data set"
   ]
  },
  {
   "attachments": {},
   "cell_type": "markdown",
   "metadata": {},
   "source": [
    "1. The availble values for each variable is plotted in order to select relevant variables. "
   ]
  },
  {
   "cell_type": "code",
   "execution_count": 18,
   "metadata": {},
   "outputs": [
    {
     "name": "stdout",
     "output_type": "stream",
     "text": [
      "OMRÅDE:\n"
     ]
    },
    {
     "data": {
      "text/html": [
       "<div>\n",
       "<style scoped>\n",
       "    .dataframe tbody tr th:only-of-type {\n",
       "        vertical-align: middle;\n",
       "    }\n",
       "\n",
       "    .dataframe tbody tr th {\n",
       "        vertical-align: top;\n",
       "    }\n",
       "\n",
       "    .dataframe thead th {\n",
       "        text-align: right;\n",
       "    }\n",
       "</style>\n",
       "<table border=\"1\" class=\"dataframe\">\n",
       "  <thead>\n",
       "    <tr style=\"text-align: right;\">\n",
       "      <th></th>\n",
       "      <th>id</th>\n",
       "      <th>text</th>\n",
       "    </tr>\n",
       "  </thead>\n",
       "  <tbody>\n",
       "    <tr>\n",
       "      <th>0</th>\n",
       "      <td>000</td>\n",
       "      <td>All Denmark</td>\n",
       "    </tr>\n",
       "    <tr>\n",
       "      <th>1</th>\n",
       "      <td>084</td>\n",
       "      <td>Region Hovedstaden</td>\n",
       "    </tr>\n",
       "    <tr>\n",
       "      <th>2</th>\n",
       "      <td>01</td>\n",
       "      <td>Province Byen København</td>\n",
       "    </tr>\n",
       "    <tr>\n",
       "      <th>3</th>\n",
       "      <td>02</td>\n",
       "      <td>Province Københavns omegn</td>\n",
       "    </tr>\n",
       "    <tr>\n",
       "      <th>4</th>\n",
       "      <td>03</td>\n",
       "      <td>Province Nordsjælland</td>\n",
       "    </tr>\n",
       "    <tr>\n",
       "      <th>5</th>\n",
       "      <td>04</td>\n",
       "      <td>Province Bornholm</td>\n",
       "    </tr>\n",
       "    <tr>\n",
       "      <th>6</th>\n",
       "      <td>085</td>\n",
       "      <td>Region Sjælland</td>\n",
       "    </tr>\n",
       "    <tr>\n",
       "      <th>7</th>\n",
       "      <td>05</td>\n",
       "      <td>Province Østsjælland</td>\n",
       "    </tr>\n",
       "    <tr>\n",
       "      <th>8</th>\n",
       "      <td>06</td>\n",
       "      <td>Province Vest- og Sydsjælland</td>\n",
       "    </tr>\n",
       "    <tr>\n",
       "      <th>9</th>\n",
       "      <td>083</td>\n",
       "      <td>Region Syddanmark</td>\n",
       "    </tr>\n",
       "    <tr>\n",
       "      <th>10</th>\n",
       "      <td>07</td>\n",
       "      <td>Province Fyn</td>\n",
       "    </tr>\n",
       "    <tr>\n",
       "      <th>11</th>\n",
       "      <td>08</td>\n",
       "      <td>Province Sydjylland</td>\n",
       "    </tr>\n",
       "    <tr>\n",
       "      <th>12</th>\n",
       "      <td>082</td>\n",
       "      <td>Region Midtjylland</td>\n",
       "    </tr>\n",
       "    <tr>\n",
       "      <th>13</th>\n",
       "      <td>09</td>\n",
       "      <td>Province Østjylland</td>\n",
       "    </tr>\n",
       "    <tr>\n",
       "      <th>14</th>\n",
       "      <td>10</td>\n",
       "      <td>Province Vestjylland</td>\n",
       "    </tr>\n",
       "    <tr>\n",
       "      <th>15</th>\n",
       "      <td>081</td>\n",
       "      <td>Region Nordjylland</td>\n",
       "    </tr>\n",
       "    <tr>\n",
       "      <th>16</th>\n",
       "      <td>11</td>\n",
       "      <td>Province Nordjylland</td>\n",
       "    </tr>\n",
       "  </tbody>\n",
       "</table>\n",
       "</div>"
      ],
      "text/plain": [
       "     id                           text\n",
       "0   000                    All Denmark\n",
       "1   084             Region Hovedstaden\n",
       "2    01        Province Byen København\n",
       "3    02      Province Københavns omegn\n",
       "4    03          Province Nordsjælland\n",
       "5    04              Province Bornholm\n",
       "6   085                Region Sjælland\n",
       "7    05           Province Østsjælland\n",
       "8    06  Province Vest- og Sydsjælland\n",
       "9   083              Region Syddanmark\n",
       "10   07                   Province Fyn\n",
       "11   08            Province Sydjylland\n",
       "12  082             Region Midtjylland\n",
       "13   09            Province Østjylland\n",
       "14   10           Province Vestjylland\n",
       "15  081             Region Nordjylland\n",
       "16   11           Province Nordjylland"
      ]
     },
     "metadata": {},
     "output_type": "display_data"
    },
    {
     "name": "stdout",
     "output_type": "stream",
     "text": [
      "EJENDOMSKATE:\n"
     ]
    },
    {
     "data": {
      "text/html": [
       "<div>\n",
       "<style scoped>\n",
       "    .dataframe tbody tr th:only-of-type {\n",
       "        vertical-align: middle;\n",
       "    }\n",
       "\n",
       "    .dataframe tbody tr th {\n",
       "        vertical-align: top;\n",
       "    }\n",
       "\n",
       "    .dataframe thead th {\n",
       "        text-align: right;\n",
       "    }\n",
       "</style>\n",
       "<table border=\"1\" class=\"dataframe\">\n",
       "  <thead>\n",
       "    <tr style=\"text-align: right;\">\n",
       "      <th></th>\n",
       "      <th>id</th>\n",
       "      <th>text</th>\n",
       "    </tr>\n",
       "  </thead>\n",
       "  <tbody>\n",
       "    <tr>\n",
       "      <th>0</th>\n",
       "      <td>0111</td>\n",
       "      <td>One-family houses</td>\n",
       "    </tr>\n",
       "    <tr>\n",
       "      <th>1</th>\n",
       "      <td>0801</td>\n",
       "      <td>Weekend cottages</td>\n",
       "    </tr>\n",
       "    <tr>\n",
       "      <th>2</th>\n",
       "      <td>2103</td>\n",
       "      <td>Owner-occupied flats, total</td>\n",
       "    </tr>\n",
       "  </tbody>\n",
       "</table>\n",
       "</div>"
      ],
      "text/plain": [
       "     id                         text\n",
       "0  0111            One-family houses\n",
       "1  0801             Weekend cottages\n",
       "2  2103  Owner-occupied flats, total"
      ]
     },
     "metadata": {},
     "output_type": "display_data"
    },
    {
     "name": "stdout",
     "output_type": "stream",
     "text": [
      "TAL:\n"
     ]
    },
    {
     "data": {
      "text/html": [
       "<div>\n",
       "<style scoped>\n",
       "    .dataframe tbody tr th:only-of-type {\n",
       "        vertical-align: middle;\n",
       "    }\n",
       "\n",
       "    .dataframe tbody tr th {\n",
       "        vertical-align: top;\n",
       "    }\n",
       "\n",
       "    .dataframe thead th {\n",
       "        text-align: right;\n",
       "    }\n",
       "</style>\n",
       "<table border=\"1\" class=\"dataframe\">\n",
       "  <thead>\n",
       "    <tr style=\"text-align: right;\">\n",
       "      <th></th>\n",
       "      <th>id</th>\n",
       "      <th>text</th>\n",
       "    </tr>\n",
       "  </thead>\n",
       "  <tbody>\n",
       "    <tr>\n",
       "      <th>0</th>\n",
       "      <td>100</td>\n",
       "      <td>Index</td>\n",
       "    </tr>\n",
       "    <tr>\n",
       "      <th>1</th>\n",
       "      <td>210</td>\n",
       "      <td>Percentage change compared to previous quarter</td>\n",
       "    </tr>\n",
       "    <tr>\n",
       "      <th>2</th>\n",
       "      <td>310</td>\n",
       "      <td>Percentage change compared to same quarter the...</td>\n",
       "    </tr>\n",
       "  </tbody>\n",
       "</table>\n",
       "</div>"
      ],
      "text/plain": [
       "    id                                               text\n",
       "0  100                                              Index\n",
       "1  210     Percentage change compared to previous quarter\n",
       "2  310  Percentage change compared to same quarter the..."
      ]
     },
     "metadata": {},
     "output_type": "display_data"
    },
    {
     "name": "stdout",
     "output_type": "stream",
     "text": [
      "Tid:\n"
     ]
    },
    {
     "data": {
      "text/html": [
       "<div>\n",
       "<style scoped>\n",
       "    .dataframe tbody tr th:only-of-type {\n",
       "        vertical-align: middle;\n",
       "    }\n",
       "\n",
       "    .dataframe tbody tr th {\n",
       "        vertical-align: top;\n",
       "    }\n",
       "\n",
       "    .dataframe thead th {\n",
       "        text-align: right;\n",
       "    }\n",
       "</style>\n",
       "<table border=\"1\" class=\"dataframe\">\n",
       "  <thead>\n",
       "    <tr style=\"text-align: right;\">\n",
       "      <th></th>\n",
       "      <th>id</th>\n",
       "      <th>text</th>\n",
       "    </tr>\n",
       "  </thead>\n",
       "  <tbody>\n",
       "    <tr>\n",
       "      <th>0</th>\n",
       "      <td>1992K1</td>\n",
       "      <td>1992Q1</td>\n",
       "    </tr>\n",
       "    <tr>\n",
       "      <th>1</th>\n",
       "      <td>1992K2</td>\n",
       "      <td>1992Q2</td>\n",
       "    </tr>\n",
       "    <tr>\n",
       "      <th>2</th>\n",
       "      <td>1992K3</td>\n",
       "      <td>1992Q3</td>\n",
       "    </tr>\n",
       "    <tr>\n",
       "      <th>3</th>\n",
       "      <td>1992K4</td>\n",
       "      <td>1992Q4</td>\n",
       "    </tr>\n",
       "    <tr>\n",
       "      <th>4</th>\n",
       "      <td>1993K1</td>\n",
       "      <td>1993Q1</td>\n",
       "    </tr>\n",
       "    <tr>\n",
       "      <th>...</th>\n",
       "      <td>...</td>\n",
       "      <td>...</td>\n",
       "    </tr>\n",
       "    <tr>\n",
       "      <th>119</th>\n",
       "      <td>2021K4</td>\n",
       "      <td>2021Q4</td>\n",
       "    </tr>\n",
       "    <tr>\n",
       "      <th>120</th>\n",
       "      <td>2022K1</td>\n",
       "      <td>2022Q1</td>\n",
       "    </tr>\n",
       "    <tr>\n",
       "      <th>121</th>\n",
       "      <td>2022K2</td>\n",
       "      <td>2022Q2</td>\n",
       "    </tr>\n",
       "    <tr>\n",
       "      <th>122</th>\n",
       "      <td>2022K3</td>\n",
       "      <td>2022Q3</td>\n",
       "    </tr>\n",
       "    <tr>\n",
       "      <th>123</th>\n",
       "      <td>2022K4</td>\n",
       "      <td>2022Q4</td>\n",
       "    </tr>\n",
       "  </tbody>\n",
       "</table>\n",
       "<p>124 rows × 2 columns</p>\n",
       "</div>"
      ],
      "text/plain": [
       "         id    text\n",
       "0    1992K1  1992Q1\n",
       "1    1992K2  1992Q2\n",
       "2    1992K3  1992Q3\n",
       "3    1992K4  1992Q4\n",
       "4    1993K1  1993Q1\n",
       "..      ...     ...\n",
       "119  2021K4  2021Q4\n",
       "120  2022K1  2022Q1\n",
       "121  2022K2  2022Q2\n",
       "122  2022K3  2022Q3\n",
       "123  2022K4  2022Q4\n",
       "\n",
       "[124 rows x 2 columns]"
      ]
     },
     "metadata": {},
     "output_type": "display_data"
    }
   ],
   "source": [
    "# The available values for a each variable: \n",
    "for variable in tabsum['variable name']:\n",
    "    print(variable+':')\n",
    "    display(data.variable_levels(variable, language='en'))"
   ]
  },
  {
   "attachments": {},
   "cell_type": "markdown",
   "metadata": {},
   "source": [
    "We are only interested in some of "
   ]
  },
  {
   "attachments": {},
   "cell_type": "markdown",
   "metadata": {},
   "source": [
    "1. A param dictionary is defined in order to detaile the data we want"
   ]
  },
  {
   "cell_type": "code",
   "execution_count": 19,
   "metadata": {},
   "outputs": [
    {
     "data": {
      "text/plain": [
       "{'table': 'ej55',\n",
       " 'format': 'BULK',\n",
       " 'lang': 'en',\n",
       " 'variables': [{'code': 'OMRÅDE', 'values': ['*']},\n",
       "  {'code': 'EJENDOMSKATE', 'values': ['*']},\n",
       "  {'code': 'TAL', 'values': ['*']},\n",
       "  {'code': 'Tid', 'values': ['*']}]}"
      ]
     },
     "execution_count": 19,
     "metadata": {},
     "output_type": "execute_result"
    }
   ],
   "source": [
    "params = data._define_base_params(language='en')\n",
    "params"
   ]
  },
  {
   "attachments": {},
   "cell_type": "markdown",
   "metadata": {},
   "source": [
    "1. We select the data we want. We only want data for \"All Denmark\" and indexed values, and percentage change compared to previous quarter."
   ]
  },
  {
   "cell_type": "code",
   "execution_count": 20,
   "metadata": {},
   "outputs": [],
   "source": [
    "params = {'table': 'ej55',\n",
    " 'format': 'BULK',\n",
    " 'lang': 'en',\n",
    " 'variables': [{'code': 'OMRÅDE', 'values': ['000']},\n",
    "  {'code': 'EJENDOMSKATE', 'values': ['*']},\n",
    "  {'code': 'TAL', 'values': ['100', '210']},\n",
    "  {'code': 'Tid', 'values': ['*']}]}"
   ]
  },
  {
   "attachments": {},
   "cell_type": "markdown",
   "metadata": {},
   "source": [
    "1. Data is sorted and the index is reset. \n",
    "2. Coloumns are renamed."
   ]
  },
  {
   "cell_type": "code",
   "execution_count": 33,
   "metadata": {},
   "outputs": [
    {
     "data": {
      "text/html": [
       "<div>\n",
       "<style scoped>\n",
       "    .dataframe tbody tr th:only-of-type {\n",
       "        vertical-align: middle;\n",
       "    }\n",
       "\n",
       "    .dataframe tbody tr th {\n",
       "        vertical-align: top;\n",
       "    }\n",
       "\n",
       "    .dataframe thead th {\n",
       "        text-align: right;\n",
       "    }\n",
       "</style>\n",
       "<table border=\"1\" class=\"dataframe\">\n",
       "  <thead>\n",
       "    <tr style=\"text-align: right;\">\n",
       "      <th></th>\n",
       "      <th>REGION</th>\n",
       "      <th>CATEGORY</th>\n",
       "      <th>UNIT</th>\n",
       "      <th>TIME</th>\n",
       "      <th>VALUE</th>\n",
       "    </tr>\n",
       "  </thead>\n",
       "  <tbody>\n",
       "    <tr>\n",
       "      <th>306</th>\n",
       "      <td>All Denmark</td>\n",
       "      <td>One-family houses</td>\n",
       "      <td>Index</td>\n",
       "      <td>1992Q1</td>\n",
       "      <td>31.5</td>\n",
       "    </tr>\n",
       "    <tr>\n",
       "      <th>307</th>\n",
       "      <td>All Denmark</td>\n",
       "      <td>One-family houses</td>\n",
       "      <td>Percentage change compared to previous quarter</td>\n",
       "      <td>1992Q1</td>\n",
       "      <td>..</td>\n",
       "    </tr>\n",
       "    <tr>\n",
       "      <th>310</th>\n",
       "      <td>All Denmark</td>\n",
       "      <td>Owner-occupied flats, total</td>\n",
       "      <td>Index</td>\n",
       "      <td>1992Q1</td>\n",
       "      <td>23.7</td>\n",
       "    </tr>\n",
       "    <tr>\n",
       "      <th>311</th>\n",
       "      <td>All Denmark</td>\n",
       "      <td>Owner-occupied flats, total</td>\n",
       "      <td>Percentage change compared to previous quarter</td>\n",
       "      <td>1992Q1</td>\n",
       "      <td>..</td>\n",
       "    </tr>\n",
       "    <tr>\n",
       "      <th>308</th>\n",
       "      <td>All Denmark</td>\n",
       "      <td>Weekend cottages</td>\n",
       "      <td>Index</td>\n",
       "      <td>1992Q1</td>\n",
       "      <td>29.5</td>\n",
       "    </tr>\n",
       "  </tbody>\n",
       "</table>\n",
       "</div>"
      ],
      "text/plain": [
       "          REGION                     CATEGORY  \\\n",
       "306  All Denmark            One-family houses   \n",
       "307  All Denmark            One-family houses   \n",
       "310  All Denmark  Owner-occupied flats, total   \n",
       "311  All Denmark  Owner-occupied flats, total   \n",
       "308  All Denmark             Weekend cottages   \n",
       "\n",
       "                                               UNIT    TIME VALUE  \n",
       "306                                           Index  1992Q1  31.5  \n",
       "307  Percentage change compared to previous quarter  1992Q1    ..  \n",
       "310                                           Index  1992Q1  23.7  \n",
       "311  Percentage change compared to previous quarter  1992Q1    ..  \n",
       "308                                           Index  1992Q1  29.5  "
      ]
     },
     "execution_count": 33,
     "metadata": {},
     "output_type": "execute_result"
    }
   ],
   "source": [
    "sales_api = data.get_data(params=params)\n",
    "sales_api.reset_index(inplace = True, drop = True)\n",
    "sales_api.sort_values(by=['OMRÅDE', 'TID', 'EJENDOMSKATE'], inplace=True)\n",
    "sales_api.rename(columns = {'OMRÅDE':'REGION', 'EJENDOMSKATE':'CATEGORY', 'TAL':'UNIT', 'TID':'TIME', 'INDHOLD':'VALUE'}, inplace=True)\n",
    "sales_api.head(5)"
   ]
  },
  {
   "attachments": {},
   "cell_type": "markdown",
   "metadata": {},
   "source": [
    "1. Some values are replaced with NaN."
   ]
  },
  {
   "cell_type": "code",
   "execution_count": 24,
   "metadata": {},
   "outputs": [
    {
     "data": {
      "text/html": [
       "<div>\n",
       "<style scoped>\n",
       "    .dataframe tbody tr th:only-of-type {\n",
       "        vertical-align: middle;\n",
       "    }\n",
       "\n",
       "    .dataframe tbody tr th {\n",
       "        vertical-align: top;\n",
       "    }\n",
       "\n",
       "    .dataframe thead th {\n",
       "        text-align: right;\n",
       "    }\n",
       "</style>\n",
       "<table border=\"1\" class=\"dataframe\">\n",
       "  <thead>\n",
       "    <tr style=\"text-align: right;\">\n",
       "      <th></th>\n",
       "      <th>REGION</th>\n",
       "      <th>CATEGORY</th>\n",
       "      <th>UNIT</th>\n",
       "      <th>TIME</th>\n",
       "      <th>VALUE</th>\n",
       "    </tr>\n",
       "  </thead>\n",
       "  <tbody>\n",
       "    <tr>\n",
       "      <th>0</th>\n",
       "      <td>All Denmark</td>\n",
       "      <td>One-family houses</td>\n",
       "      <td>Index</td>\n",
       "      <td>1992Q1</td>\n",
       "      <td>31.5</td>\n",
       "    </tr>\n",
       "    <tr>\n",
       "      <th>1</th>\n",
       "      <td>All Denmark</td>\n",
       "      <td>One-family houses</td>\n",
       "      <td>Percentage change compared to previous quarter</td>\n",
       "      <td>1992Q1</td>\n",
       "      <td>NaN</td>\n",
       "    </tr>\n",
       "    <tr>\n",
       "      <th>2</th>\n",
       "      <td>All Denmark</td>\n",
       "      <td>Owner-occupied flats, total</td>\n",
       "      <td>Index</td>\n",
       "      <td>1992Q1</td>\n",
       "      <td>23.7</td>\n",
       "    </tr>\n",
       "    <tr>\n",
       "      <th>3</th>\n",
       "      <td>All Denmark</td>\n",
       "      <td>Owner-occupied flats, total</td>\n",
       "      <td>Percentage change compared to previous quarter</td>\n",
       "      <td>1992Q1</td>\n",
       "      <td>NaN</td>\n",
       "    </tr>\n",
       "    <tr>\n",
       "      <th>4</th>\n",
       "      <td>All Denmark</td>\n",
       "      <td>Weekend cottages</td>\n",
       "      <td>Index</td>\n",
       "      <td>1992Q1</td>\n",
       "      <td>29.5</td>\n",
       "    </tr>\n",
       "  </tbody>\n",
       "</table>\n",
       "</div>"
      ],
      "text/plain": [
       "        REGION                     CATEGORY  \\\n",
       "0  All Denmark            One-family houses   \n",
       "1  All Denmark            One-family houses   \n",
       "2  All Denmark  Owner-occupied flats, total   \n",
       "3  All Denmark  Owner-occupied flats, total   \n",
       "4  All Denmark             Weekend cottages   \n",
       "\n",
       "                                             UNIT    TIME VALUE  \n",
       "0                                           Index  1992Q1  31.5  \n",
       "1  Percentage change compared to previous quarter  1992Q1   NaN  \n",
       "2                                           Index  1992Q1  23.7  \n",
       "3  Percentage change compared to previous quarter  1992Q1   NaN  \n",
       "4                                           Index  1992Q1  29.5  "
      ]
     },
     "execution_count": 24,
     "metadata": {},
     "output_type": "execute_result"
    }
   ],
   "source": [
    "sales_api = sales_api.replace('..', np.nan)"
   ]
  },
  {
   "attachments": {},
   "cell_type": "markdown",
   "metadata": {},
   "source": [
    "1. Values types are replaced. "
   ]
  },
  {
   "cell_type": "code",
   "execution_count": 26,
   "metadata": {},
   "outputs": [
    {
     "name": "stdout",
     "output_type": "stream",
     "text": [
      "<class 'pandas.core.frame.DataFrame'>\n",
      "RangeIndex: 744 entries, 0 to 743\n",
      "Data columns (total 5 columns):\n",
      " #   Column    Non-Null Count  Dtype \n",
      "---  ------    --------------  ----- \n",
      " 0   REGION    744 non-null    object\n",
      " 1   CATEGORY  744 non-null    object\n",
      " 2   UNIT      744 non-null    object\n",
      " 3   TIME      744 non-null    object\n",
      " 4   VALUE     741 non-null    object\n",
      "dtypes: object(5)\n",
      "memory usage: 29.2+ KB\n"
     ]
    }
   ],
   "source": [
    "sales_api.info()"
   ]
  },
  {
   "attachments": {},
   "cell_type": "markdown",
   "metadata": {},
   "source": [
    "1. The value variable is changed to er float type variable. "
   ]
  },
  {
   "cell_type": "code",
   "execution_count": 27,
   "metadata": {},
   "outputs": [
    {
     "name": "stdout",
     "output_type": "stream",
     "text": [
      "<class 'pandas.core.frame.DataFrame'>\n",
      "RangeIndex: 744 entries, 0 to 743\n",
      "Data columns (total 5 columns):\n",
      " #   Column    Non-Null Count  Dtype  \n",
      "---  ------    --------------  -----  \n",
      " 0   REGION    744 non-null    object \n",
      " 1   CATEGORY  744 non-null    object \n",
      " 2   UNIT      744 non-null    object \n",
      " 3   TIME      744 non-null    object \n",
      " 4   VALUE     741 non-null    float64\n",
      "dtypes: float64(1), object(4)\n",
      "memory usage: 29.2+ KB\n"
     ]
    }
   ],
   "source": [
    "sales_api.VALUE = sales_api.VALUE.astype('float')\n",
    "sales_api.info()"
   ]
  },
  {
   "cell_type": "code",
   "execution_count": 46,
   "metadata": {},
   "outputs": [
    {
     "name": "stdout",
     "output_type": "stream",
     "text": [
      "          REGION                     CATEGORY  \\\n",
      "102  All Denmark            One-family houses   \n",
      "103  All Denmark            One-family houses   \n",
      "106  All Denmark  Owner-occupied flats, total   \n",
      "107  All Denmark  Owner-occupied flats, total   \n",
      "104  All Denmark             Weekend cottages   \n",
      "105  All Denmark             Weekend cottages   \n",
      "\n",
      "                                               UNIT    TIME  VALUE  \n",
      "102                                           Index  2019Q1  108.4  \n",
      "103  Percentage change compared to previous quarter  2019Q1    1.2  \n",
      "106                                           Index  2019Q1  123.2  \n",
      "107  Percentage change compared to previous quarter  2019Q1    0.1  \n",
      "104                                           Index  2019Q1   88.5  \n",
      "105  Percentage change compared to previous quarter  2019Q1    0.7  \n"
     ]
    }
   ],
   "source": [
    "I = sales_api['TIME'] == '2019Q1'\n",
    "selected_row = sales_api[I]\n",
    "print(selected_row)\n",
    "\n",
    "#value_2019Q1 = selected_row.loc['VALUE', 0 ]\n",
    "#sales_api['2019Q1'] = value_2019Q1\n",
    "\n",
    "\n",
    "#lave 2019Q1 til index 100 \n",
    "# = sales_api.value(sales_api['value'])"
   ]
  },
  {
   "attachments": {},
   "cell_type": "markdown",
   "metadata": {},
   "source": [
    "Ovenfor vil vi gerne re-indeksere, så 2019Q1=100. Så kan vi sammenligne boligpriserne (nominelt) med perioden før Corona.\n",
    "\n",
    "Vi skal (måske?) have lavet et loop, som kan dividere indeksværdien i et pågældende kvartal i den pågældende boligkategori over med indeksværdien i 2019Q1 i den pågældende kategori."
   ]
  },
  {
   "cell_type": "markdown",
   "metadata": {},
   "source": [
    "In order to be able to **explore the raw data**, you may provide **static** and **interactive plots** to show important developments "
   ]
  },
  {
   "cell_type": "markdown",
   "metadata": {},
   "source": [
    "**Interactive plot** :"
   ]
  },
  {
   "cell_type": "code",
   "execution_count": 31,
   "metadata": {},
   "outputs": [
    {
     "data": {
      "application/vnd.jupyter.widget-view+json": {
       "model_id": "5725aba2d084465583877c0cdce55ce0",
       "version_major": 2,
       "version_minor": 0
      },
      "text/plain": [
       "interactive(children=(Dropdown(description='Category', options=('One-family houses', 'Owner-occupied flats, to…"
      ]
     },
     "metadata": {},
     "output_type": "display_data"
    },
    {
     "data": {
      "text/plain": [
       "<function __main__.plot_value(df, category, unit)>"
      ]
     },
     "execution_count": 31,
     "metadata": {},
     "output_type": "execute_result"
    }
   ],
   "source": [
    "def plot_value(df, category, unit): \n",
    "    I = (df['CATEGORY'] == category) & (df['UNIT'] == unit)\n",
    "    ax=df.loc[I,:].plot(x='TIME', y='VALUE', legend=False)\n",
    "\n",
    "widgets.interact(plot_value, \n",
    "    df = widgets.fixed(sales_api),\n",
    "    category = widgets.Dropdown(description='Category', \n",
    "                                    options=sales_api.CATEGORY.unique(), \n",
    "                                    value='One-family houses'),\n",
    "    unit = widgets.Dropdown(description='Unit', \n",
    "                                    options=sales_api.UNIT.unique(), \n",
    "                                    value='Index')\n",
    ")\n"
   ]
  },
  {
   "cell_type": "markdown",
   "metadata": {},
   "source": [
    "Explain what you see when moving elements of the interactive plot around. "
   ]
  },
  {
   "cell_type": "markdown",
   "metadata": {},
   "source": [
    "# Analysis"
   ]
  },
  {
   "cell_type": "markdown",
   "metadata": {},
   "source": [
    "To get a quick overview of the data, we show some **summary statistics** on a meaningful aggregation. "
   ]
  },
  {
   "cell_type": "markdown",
   "metadata": {},
   "source": [
    "MAKE FURTHER ANALYSIS. EXPLAIN THE CODE BRIEFLY AND SUMMARIZE THE RESULTS."
   ]
  },
  {
   "cell_type": "markdown",
   "metadata": {},
   "source": [
    "# Conclusion"
   ]
  },
  {
   "cell_type": "markdown",
   "metadata": {},
   "source": [
    "ADD CONCISE CONLUSION."
   ]
  }
 ],
 "metadata": {
  "kernelspec": {
   "display_name": "base",
   "language": "python",
   "name": "python3"
  },
  "language_info": {
   "codemirror_mode": {
    "name": "ipython",
    "version": 3
   },
   "file_extension": ".py",
   "mimetype": "text/x-python",
   "name": "python",
   "nbconvert_exporter": "python",
   "pygments_lexer": "ipython3",
   "version": "3.9.13"
  },
  "toc-autonumbering": true,
  "vscode": {
   "interpreter": {
    "hash": "47ef90cdf3004d3f859f1fb202523c65c07ba7c22eefd261b181f4744e2d0403"
   }
  }
 },
 "nbformat": 4,
 "nbformat_minor": 4
}
