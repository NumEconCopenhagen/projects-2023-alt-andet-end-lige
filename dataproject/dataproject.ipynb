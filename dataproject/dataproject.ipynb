{
 "cells": [
  {
   "cell_type": "markdown",
   "metadata": {},
   "source": [
    "# YOUR PROJECT TITLE"
   ]
  },
  {
   "attachments": {},
   "cell_type": "markdown",
   "metadata": {},
   "source": [
    "> **Note the following:** \n",
    "> 1. This is *not* meant to be an example of an actual **data analysis project**, just an example of how to structure such a project.\n",
    "> 1. Remember the general advice on structuring and commenting your code\n",
    "> 1. The `dataproject.py` file includes a function which can be used multiple times in this notebook."
   ]
  },
  {
   "cell_type": "markdown",
   "metadata": {},
   "source": [
    "Imports and set magics:"
   ]
  },
  {
   "cell_type": "code",
   "execution_count": 20,
   "metadata": {},
   "outputs": [
    {
     "name": "stdout",
     "output_type": "stream",
     "text": [
      "The autoreload extension is already loaded. To reload it, use:\n",
      "  %reload_ext autoreload\n"
     ]
    }
   ],
   "source": [
    "import pandas as pd\n",
    "import numpy as np\n",
    "import datetime\n",
    "\n",
    "import matplotlib.pyplot as plt\n",
    "plt.rcParams.update({\"axes.grid\":True,\"grid.color\":\"black\",\"grid.alpha\":\"0.25\",\"grid.linestyle\":\"--\"})\n",
    "plt.rcParams.update({'font.size': 14})\n",
    "import ipywidgets as widgets\n",
    "\n",
    "from dstapi import DstApi # install with `pip install git+https://github.com/alemartinello/dstapi`\n",
    "\n",
    "# autoreload modules when code is run\n",
    "%load_ext autoreload\n",
    "%autoreload 2\n",
    "\n",
    "# user written modules\n",
    "import dataproject"
   ]
  },
  {
   "cell_type": "markdown",
   "metadata": {},
   "source": [
    "# Read and clean data"
   ]
  },
  {
   "cell_type": "code",
   "execution_count": 21,
   "metadata": {},
   "outputs": [],
   "source": [
    "data = DstApi('EJ12') "
   ]
  },
  {
   "cell_type": "markdown",
   "metadata": {},
   "source": [
    "Import your data, either through an API or manually, and load it. "
   ]
  },
  {
   "cell_type": "markdown",
   "metadata": {},
   "source": [
    "## Explore each data set"
   ]
  },
  {
   "cell_type": "code",
   "execution_count": 31,
   "metadata": {},
   "outputs": [
    {
     "name": "stdout",
     "output_type": "stream",
     "text": [
      "Table EJ12: Seasonally adjusted sales of property by region, property category, unit and time\n",
      "Last update: 2023-03-31T08:00:00\n"
     ]
    },
    {
     "data": {
      "text/html": [
       "<div>\n",
       "<style scoped>\n",
       "    .dataframe tbody tr th:only-of-type {\n",
       "        vertical-align: middle;\n",
       "    }\n",
       "\n",
       "    .dataframe tbody tr th {\n",
       "        vertical-align: top;\n",
       "    }\n",
       "\n",
       "    .dataframe thead th {\n",
       "        text-align: right;\n",
       "    }\n",
       "</style>\n",
       "<table border=\"1\" class=\"dataframe\">\n",
       "  <thead>\n",
       "    <tr style=\"text-align: right;\">\n",
       "      <th></th>\n",
       "      <th>variable name</th>\n",
       "      <th># values</th>\n",
       "      <th>First value</th>\n",
       "      <th>First value label</th>\n",
       "      <th>Last value</th>\n",
       "      <th>Last value label</th>\n",
       "      <th>Time variable</th>\n",
       "    </tr>\n",
       "  </thead>\n",
       "  <tbody>\n",
       "    <tr>\n",
       "      <th>0</th>\n",
       "      <td>REGION</td>\n",
       "      <td>6</td>\n",
       "      <td>000</td>\n",
       "      <td>All Denmark</td>\n",
       "      <td>081</td>\n",
       "      <td>Region Nordjylland</td>\n",
       "      <td>False</td>\n",
       "    </tr>\n",
       "    <tr>\n",
       "      <th>1</th>\n",
       "      <td>EJKAT20</td>\n",
       "      <td>3</td>\n",
       "      <td>0111</td>\n",
       "      <td>One-family houses</td>\n",
       "      <td>2103</td>\n",
       "      <td>Owner-occupied flats, total</td>\n",
       "      <td>False</td>\n",
       "    </tr>\n",
       "    <tr>\n",
       "      <th>2</th>\n",
       "      <td>TAL</td>\n",
       "      <td>6</td>\n",
       "      <td>202</td>\n",
       "      <td>Priceindex, seasonally adjusted</td>\n",
       "      <td>370</td>\n",
       "      <td>Number of sales, percentage change compared to...</td>\n",
       "      <td>False</td>\n",
       "    </tr>\n",
       "    <tr>\n",
       "      <th>3</th>\n",
       "      <td>Tid</td>\n",
       "      <td>72</td>\n",
       "      <td>2005K1</td>\n",
       "      <td>2005Q1</td>\n",
       "      <td>2022K4</td>\n",
       "      <td>2022Q4</td>\n",
       "      <td>True</td>\n",
       "    </tr>\n",
       "  </tbody>\n",
       "</table>\n",
       "</div>"
      ],
      "text/plain": [
       "  variable name  # values First value                First value label  \\\n",
       "0        REGION         6         000                      All Denmark   \n",
       "1       EJKAT20         3        0111                One-family houses   \n",
       "2           TAL         6         202  Priceindex, seasonally adjusted   \n",
       "3           Tid        72      2005K1                           2005Q1   \n",
       "\n",
       "  Last value                                   Last value label  Time variable  \n",
       "0        081                                 Region Nordjylland          False  \n",
       "1       2103                        Owner-occupied flats, total          False  \n",
       "2        370  Number of sales, percentage change compared to...          False  \n",
       "3     2022K4                                             2022Q4           True  "
      ]
     },
     "metadata": {},
     "output_type": "display_data"
    }
   ],
   "source": [
    "tabsum = data.tablesummary(language='en')\n",
    "display(tabsum)"
   ]
  },
  {
   "cell_type": "code",
   "execution_count": 36,
   "metadata": {},
   "outputs": [
    {
     "name": "stdout",
     "output_type": "stream",
     "text": [
      "REGION:\n"
     ]
    },
    {
     "data": {
      "text/html": [
       "<div>\n",
       "<style scoped>\n",
       "    .dataframe tbody tr th:only-of-type {\n",
       "        vertical-align: middle;\n",
       "    }\n",
       "\n",
       "    .dataframe tbody tr th {\n",
       "        vertical-align: top;\n",
       "    }\n",
       "\n",
       "    .dataframe thead th {\n",
       "        text-align: right;\n",
       "    }\n",
       "</style>\n",
       "<table border=\"1\" class=\"dataframe\">\n",
       "  <thead>\n",
       "    <tr style=\"text-align: right;\">\n",
       "      <th></th>\n",
       "      <th>id</th>\n",
       "      <th>text</th>\n",
       "    </tr>\n",
       "  </thead>\n",
       "  <tbody>\n",
       "    <tr>\n",
       "      <th>0</th>\n",
       "      <td>000</td>\n",
       "      <td>All Denmark</td>\n",
       "    </tr>\n",
       "    <tr>\n",
       "      <th>1</th>\n",
       "      <td>084</td>\n",
       "      <td>Region Hovedstaden</td>\n",
       "    </tr>\n",
       "    <tr>\n",
       "      <th>2</th>\n",
       "      <td>085</td>\n",
       "      <td>Region Sjælland</td>\n",
       "    </tr>\n",
       "    <tr>\n",
       "      <th>3</th>\n",
       "      <td>083</td>\n",
       "      <td>Region Syddanmark</td>\n",
       "    </tr>\n",
       "    <tr>\n",
       "      <th>4</th>\n",
       "      <td>082</td>\n",
       "      <td>Region Midtjylland</td>\n",
       "    </tr>\n",
       "    <tr>\n",
       "      <th>5</th>\n",
       "      <td>081</td>\n",
       "      <td>Region Nordjylland</td>\n",
       "    </tr>\n",
       "  </tbody>\n",
       "</table>\n",
       "</div>"
      ],
      "text/plain": [
       "    id                text\n",
       "0  000         All Denmark\n",
       "1  084  Region Hovedstaden\n",
       "2  085     Region Sjælland\n",
       "3  083   Region Syddanmark\n",
       "4  082  Region Midtjylland\n",
       "5  081  Region Nordjylland"
      ]
     },
     "metadata": {},
     "output_type": "display_data"
    },
    {
     "name": "stdout",
     "output_type": "stream",
     "text": [
      "EJKAT20:\n"
     ]
    },
    {
     "data": {
      "text/html": [
       "<div>\n",
       "<style scoped>\n",
       "    .dataframe tbody tr th:only-of-type {\n",
       "        vertical-align: middle;\n",
       "    }\n",
       "\n",
       "    .dataframe tbody tr th {\n",
       "        vertical-align: top;\n",
       "    }\n",
       "\n",
       "    .dataframe thead th {\n",
       "        text-align: right;\n",
       "    }\n",
       "</style>\n",
       "<table border=\"1\" class=\"dataframe\">\n",
       "  <thead>\n",
       "    <tr style=\"text-align: right;\">\n",
       "      <th></th>\n",
       "      <th>id</th>\n",
       "      <th>text</th>\n",
       "    </tr>\n",
       "  </thead>\n",
       "  <tbody>\n",
       "    <tr>\n",
       "      <th>0</th>\n",
       "      <td>0111</td>\n",
       "      <td>One-family houses</td>\n",
       "    </tr>\n",
       "    <tr>\n",
       "      <th>1</th>\n",
       "      <td>0801</td>\n",
       "      <td>Weekend cottages</td>\n",
       "    </tr>\n",
       "    <tr>\n",
       "      <th>2</th>\n",
       "      <td>2103</td>\n",
       "      <td>Owner-occupied flats, total</td>\n",
       "    </tr>\n",
       "  </tbody>\n",
       "</table>\n",
       "</div>"
      ],
      "text/plain": [
       "     id                         text\n",
       "0  0111            One-family houses\n",
       "1  0801             Weekend cottages\n",
       "2  2103  Owner-occupied flats, total"
      ]
     },
     "metadata": {},
     "output_type": "display_data"
    },
    {
     "name": "stdout",
     "output_type": "stream",
     "text": [
      "TAL:\n"
     ]
    },
    {
     "data": {
      "text/html": [
       "<div>\n",
       "<style scoped>\n",
       "    .dataframe tbody tr th:only-of-type {\n",
       "        vertical-align: middle;\n",
       "    }\n",
       "\n",
       "    .dataframe tbody tr th {\n",
       "        vertical-align: top;\n",
       "    }\n",
       "\n",
       "    .dataframe thead th {\n",
       "        text-align: right;\n",
       "    }\n",
       "</style>\n",
       "<table border=\"1\" class=\"dataframe\">\n",
       "  <thead>\n",
       "    <tr style=\"text-align: right;\">\n",
       "      <th></th>\n",
       "      <th>id</th>\n",
       "      <th>text</th>\n",
       "    </tr>\n",
       "  </thead>\n",
       "  <tbody>\n",
       "    <tr>\n",
       "      <th>0</th>\n",
       "      <td>202</td>\n",
       "      <td>Priceindex, seasonally adjusted</td>\n",
       "    </tr>\n",
       "    <tr>\n",
       "      <th>1</th>\n",
       "      <td>362</td>\n",
       "      <td>Priceindex, percentage change compared to prev...</td>\n",
       "    </tr>\n",
       "    <tr>\n",
       "      <th>2</th>\n",
       "      <td>364</td>\n",
       "      <td>Priceindex, percentage change compared to same...</td>\n",
       "    </tr>\n",
       "    <tr>\n",
       "      <th>3</th>\n",
       "      <td>204</td>\n",
       "      <td>Number of sales, seasonally adjusted</td>\n",
       "    </tr>\n",
       "    <tr>\n",
       "      <th>4</th>\n",
       "      <td>368</td>\n",
       "      <td>Number of sales, percentage change compared to...</td>\n",
       "    </tr>\n",
       "    <tr>\n",
       "      <th>5</th>\n",
       "      <td>370</td>\n",
       "      <td>Number of sales, percentage change compared to...</td>\n",
       "    </tr>\n",
       "  </tbody>\n",
       "</table>\n",
       "</div>"
      ],
      "text/plain": [
       "    id                                               text\n",
       "0  202                    Priceindex, seasonally adjusted\n",
       "1  362  Priceindex, percentage change compared to prev...\n",
       "2  364  Priceindex, percentage change compared to same...\n",
       "3  204               Number of sales, seasonally adjusted\n",
       "4  368  Number of sales, percentage change compared to...\n",
       "5  370  Number of sales, percentage change compared to..."
      ]
     },
     "metadata": {},
     "output_type": "display_data"
    },
    {
     "name": "stdout",
     "output_type": "stream",
     "text": [
      "Tid:\n"
     ]
    },
    {
     "data": {
      "text/html": [
       "<div>\n",
       "<style scoped>\n",
       "    .dataframe tbody tr th:only-of-type {\n",
       "        vertical-align: middle;\n",
       "    }\n",
       "\n",
       "    .dataframe tbody tr th {\n",
       "        vertical-align: top;\n",
       "    }\n",
       "\n",
       "    .dataframe thead th {\n",
       "        text-align: right;\n",
       "    }\n",
       "</style>\n",
       "<table border=\"1\" class=\"dataframe\">\n",
       "  <thead>\n",
       "    <tr style=\"text-align: right;\">\n",
       "      <th></th>\n",
       "      <th>id</th>\n",
       "      <th>text</th>\n",
       "    </tr>\n",
       "  </thead>\n",
       "  <tbody>\n",
       "    <tr>\n",
       "      <th>0</th>\n",
       "      <td>2005K1</td>\n",
       "      <td>2005Q1</td>\n",
       "    </tr>\n",
       "    <tr>\n",
       "      <th>1</th>\n",
       "      <td>2005K2</td>\n",
       "      <td>2005Q2</td>\n",
       "    </tr>\n",
       "    <tr>\n",
       "      <th>2</th>\n",
       "      <td>2005K3</td>\n",
       "      <td>2005Q3</td>\n",
       "    </tr>\n",
       "    <tr>\n",
       "      <th>3</th>\n",
       "      <td>2005K4</td>\n",
       "      <td>2005Q4</td>\n",
       "    </tr>\n",
       "    <tr>\n",
       "      <th>4</th>\n",
       "      <td>2006K1</td>\n",
       "      <td>2006Q1</td>\n",
       "    </tr>\n",
       "    <tr>\n",
       "      <th>...</th>\n",
       "      <td>...</td>\n",
       "      <td>...</td>\n",
       "    </tr>\n",
       "    <tr>\n",
       "      <th>67</th>\n",
       "      <td>2021K4</td>\n",
       "      <td>2021Q4</td>\n",
       "    </tr>\n",
       "    <tr>\n",
       "      <th>68</th>\n",
       "      <td>2022K1</td>\n",
       "      <td>2022Q1</td>\n",
       "    </tr>\n",
       "    <tr>\n",
       "      <th>69</th>\n",
       "      <td>2022K2</td>\n",
       "      <td>2022Q2</td>\n",
       "    </tr>\n",
       "    <tr>\n",
       "      <th>70</th>\n",
       "      <td>2022K3</td>\n",
       "      <td>2022Q3</td>\n",
       "    </tr>\n",
       "    <tr>\n",
       "      <th>71</th>\n",
       "      <td>2022K4</td>\n",
       "      <td>2022Q4</td>\n",
       "    </tr>\n",
       "  </tbody>\n",
       "</table>\n",
       "<p>72 rows × 2 columns</p>\n",
       "</div>"
      ],
      "text/plain": [
       "        id    text\n",
       "0   2005K1  2005Q1\n",
       "1   2005K2  2005Q2\n",
       "2   2005K3  2005Q3\n",
       "3   2005K4  2005Q4\n",
       "4   2006K1  2006Q1\n",
       "..     ...     ...\n",
       "67  2021K4  2021Q4\n",
       "68  2022K1  2022Q1\n",
       "69  2022K2  2022Q2\n",
       "70  2022K3  2022Q3\n",
       "71  2022K4  2022Q4\n",
       "\n",
       "[72 rows x 2 columns]"
      ]
     },
     "metadata": {},
     "output_type": "display_data"
    }
   ],
   "source": [
    "# The available values for a each variable: \n",
    "for variable in tabsum['variable name']:\n",
    "    print(variable+':')\n",
    "    display(data.variable_levels(variable, language='en'))"
   ]
  },
  {
   "attachments": {},
   "cell_type": "markdown",
   "metadata": {},
   "source": [
    "**Skriv at vi kan se at datasættet indeholder x, y z som vi ikke er interesserede i bla bla bla**"
   ]
  },
  {
   "cell_type": "code",
   "execution_count": 37,
   "metadata": {},
   "outputs": [
    {
     "data": {
      "text/plain": [
       "{'table': 'ej12',\n",
       " 'format': 'BULK',\n",
       " 'lang': 'en',\n",
       " 'variables': [{'code': 'REGION', 'values': ['*']},\n",
       "  {'code': 'EJKAT20', 'values': ['*']},\n",
       "  {'code': 'TAL', 'values': ['*']},\n",
       "  {'code': 'Tid', 'values': ['*']}]}"
      ]
     },
     "execution_count": 37,
     "metadata": {},
     "output_type": "execute_result"
    }
   ],
   "source": [
    "params = data._define_base_params(language='en')\n",
    "params"
   ]
  },
  {
   "cell_type": "code",
   "execution_count": 45,
   "metadata": {},
   "outputs": [],
   "source": [
    "params = {'table': 'ej12',\n",
    " 'format': 'BULK',\n",
    " 'lang': 'en',\n",
    " 'variables': [{'code': 'REGION', 'values': ['*']},\n",
    "  {'code': 'EJKAT20', 'values': ['*']},\n",
    "  {'code': 'TAL', 'values': ['202', '362']},\n",
    "  {'code': 'Tid', 'values': ['*']}]}"
   ]
  },
  {
   "cell_type": "code",
   "execution_count": 46,
   "metadata": {},
   "outputs": [
    {
     "data": {
      "text/html": [
       "<div>\n",
       "<style scoped>\n",
       "    .dataframe tbody tr th:only-of-type {\n",
       "        vertical-align: middle;\n",
       "    }\n",
       "\n",
       "    .dataframe tbody tr th {\n",
       "        vertical-align: top;\n",
       "    }\n",
       "\n",
       "    .dataframe thead th {\n",
       "        text-align: right;\n",
       "    }\n",
       "</style>\n",
       "<table border=\"1\" class=\"dataframe\">\n",
       "  <thead>\n",
       "    <tr style=\"text-align: right;\">\n",
       "      <th></th>\n",
       "      <th>REGION</th>\n",
       "      <th>EJKAT20</th>\n",
       "      <th>TAL</th>\n",
       "      <th>TID</th>\n",
       "      <th>INDHOLD</th>\n",
       "    </tr>\n",
       "  </thead>\n",
       "  <tbody>\n",
       "    <tr>\n",
       "      <th>1976</th>\n",
       "      <td>All Denmark</td>\n",
       "      <td>One-family houses</td>\n",
       "      <td>Priceindex, seasonally adjusted</td>\n",
       "      <td>2005Q1</td>\n",
       "      <td>75.9</td>\n",
       "    </tr>\n",
       "    <tr>\n",
       "      <th>1977</th>\n",
       "      <td>All Denmark</td>\n",
       "      <td>One-family houses</td>\n",
       "      <td>Priceindex, percentage change compared to prev...</td>\n",
       "      <td>2005Q1</td>\n",
       "      <td>..</td>\n",
       "    </tr>\n",
       "    <tr>\n",
       "      <th>1980</th>\n",
       "      <td>All Denmark</td>\n",
       "      <td>Owner-occupied flats, total</td>\n",
       "      <td>Priceindex, seasonally adjusted</td>\n",
       "      <td>2005Q1</td>\n",
       "      <td>73.2</td>\n",
       "    </tr>\n",
       "    <tr>\n",
       "      <th>1981</th>\n",
       "      <td>All Denmark</td>\n",
       "      <td>Owner-occupied flats, total</td>\n",
       "      <td>Priceindex, percentage change compared to prev...</td>\n",
       "      <td>2005Q1</td>\n",
       "      <td>..</td>\n",
       "    </tr>\n",
       "    <tr>\n",
       "      <th>1978</th>\n",
       "      <td>All Denmark</td>\n",
       "      <td>Weekend cottages</td>\n",
       "      <td>Priceindex, seasonally adjusted</td>\n",
       "      <td>2005Q1</td>\n",
       "      <td>78.6</td>\n",
       "    </tr>\n",
       "    <tr>\n",
       "      <th>1979</th>\n",
       "      <td>All Denmark</td>\n",
       "      <td>Weekend cottages</td>\n",
       "      <td>Priceindex, percentage change compared to prev...</td>\n",
       "      <td>2005Q1</td>\n",
       "      <td>..</td>\n",
       "    </tr>\n",
       "    <tr>\n",
       "      <th>2232</th>\n",
       "      <td>All Denmark</td>\n",
       "      <td>One-family houses</td>\n",
       "      <td>Priceindex, seasonally adjusted</td>\n",
       "      <td>2005Q2</td>\n",
       "      <td>79.3</td>\n",
       "    </tr>\n",
       "    <tr>\n",
       "      <th>2233</th>\n",
       "      <td>All Denmark</td>\n",
       "      <td>One-family houses</td>\n",
       "      <td>Priceindex, percentage change compared to prev...</td>\n",
       "      <td>2005Q2</td>\n",
       "      <td>4.5</td>\n",
       "    </tr>\n",
       "    <tr>\n",
       "      <th>2236</th>\n",
       "      <td>All Denmark</td>\n",
       "      <td>Owner-occupied flats, total</td>\n",
       "      <td>Priceindex, seasonally adjusted</td>\n",
       "      <td>2005Q2</td>\n",
       "      <td>78.1</td>\n",
       "    </tr>\n",
       "    <tr>\n",
       "      <th>2237</th>\n",
       "      <td>All Denmark</td>\n",
       "      <td>Owner-occupied flats, total</td>\n",
       "      <td>Priceindex, percentage change compared to prev...</td>\n",
       "      <td>2005Q2</td>\n",
       "      <td>6.7</td>\n",
       "    </tr>\n",
       "  </tbody>\n",
       "</table>\n",
       "</div>"
      ],
      "text/plain": [
       "           REGION                      EJKAT20  \\\n",
       "1976  All Denmark            One-family houses   \n",
       "1977  All Denmark            One-family houses   \n",
       "1980  All Denmark  Owner-occupied flats, total   \n",
       "1981  All Denmark  Owner-occupied flats, total   \n",
       "1978  All Denmark             Weekend cottages   \n",
       "1979  All Denmark             Weekend cottages   \n",
       "2232  All Denmark            One-family houses   \n",
       "2233  All Denmark            One-family houses   \n",
       "2236  All Denmark  Owner-occupied flats, total   \n",
       "2237  All Denmark  Owner-occupied flats, total   \n",
       "\n",
       "                                                    TAL     TID INDHOLD  \n",
       "1976                    Priceindex, seasonally adjusted  2005Q1    75.9  \n",
       "1977  Priceindex, percentage change compared to prev...  2005Q1      ..  \n",
       "1980                    Priceindex, seasonally adjusted  2005Q1    73.2  \n",
       "1981  Priceindex, percentage change compared to prev...  2005Q1      ..  \n",
       "1978                    Priceindex, seasonally adjusted  2005Q1    78.6  \n",
       "1979  Priceindex, percentage change compared to prev...  2005Q1      ..  \n",
       "2232                    Priceindex, seasonally adjusted  2005Q2    79.3  \n",
       "2233  Priceindex, percentage change compared to prev...  2005Q2     4.5  \n",
       "2236                    Priceindex, seasonally adjusted  2005Q2    78.1  \n",
       "2237  Priceindex, percentage change compared to prev...  2005Q2     6.7  "
      ]
     },
     "execution_count": 46,
     "metadata": {},
     "output_type": "execute_result"
    }
   ],
   "source": [
    "sales_api = data.get_data(params=params)\n",
    "sales_api.sort_values(by=['REGION', 'TID', 'EJKAT20'], inplace=True)\n",
    "sales_api.head(10)"
   ]
  },
  {
   "cell_type": "markdown",
   "metadata": {},
   "source": [
    "In order to be able to **explore the raw data**, you may provide **static** and **interactive plots** to show important developments "
   ]
  },
  {
   "cell_type": "markdown",
   "metadata": {},
   "source": [
    "**Interactive plot** :"
   ]
  },
  {
   "cell_type": "code",
   "execution_count": 27,
   "metadata": {},
   "outputs": [
    {
     "data": {
      "application/vnd.jupyter.widget-view+json": {
       "model_id": "9465964ded3745fba94f6312d630df35",
       "version_major": 2,
       "version_minor": 0
      },
      "text/plain": [
       "interactive(children=(Output(),), _dom_classes=('widget-interact',))"
      ]
     },
     "metadata": {},
     "output_type": "display_data"
    }
   ],
   "source": [
    "def plot_func():\n",
    "    # Function that operates on data set\n",
    "    pass\n",
    "\n",
    "widgets.interact(plot_func, \n",
    "    # Let the widget interact with data through plot_func()    \n",
    "); \n"
   ]
  },
  {
   "cell_type": "markdown",
   "metadata": {},
   "source": [
    "Explain what you see when moving elements of the interactive plot around. "
   ]
  },
  {
   "cell_type": "markdown",
   "metadata": {},
   "source": [
    "# Merge data sets"
   ]
  },
  {
   "cell_type": "markdown",
   "metadata": {},
   "source": [
    "# Analysis"
   ]
  },
  {
   "cell_type": "markdown",
   "metadata": {},
   "source": [
    "To get a quick overview of the data, we show some **summary statistics** on a meaningful aggregation. "
   ]
  },
  {
   "cell_type": "markdown",
   "metadata": {},
   "source": [
    "MAKE FURTHER ANALYSIS. EXPLAIN THE CODE BRIEFLY AND SUMMARIZE THE RESULTS."
   ]
  },
  {
   "cell_type": "markdown",
   "metadata": {},
   "source": [
    "# Conclusion"
   ]
  },
  {
   "cell_type": "markdown",
   "metadata": {},
   "source": [
    "ADD CONCISE CONLUSION."
   ]
  }
 ],
 "metadata": {
  "kernelspec": {
   "display_name": "base",
   "language": "python",
   "name": "python3"
  },
  "language_info": {
   "codemirror_mode": {
    "name": "ipython",
    "version": 3
   },
   "file_extension": ".py",
   "mimetype": "text/x-python",
   "name": "python",
   "nbconvert_exporter": "python",
   "pygments_lexer": "ipython3",
   "version": "3.9.13"
  },
  "toc-autonumbering": true,
  "vscode": {
   "interpreter": {
    "hash": "47ef90cdf3004d3f859f1fb202523c65c07ba7c22eefd261b181f4744e2d0403"
   }
  }
 },
 "nbformat": 4,
 "nbformat_minor": 4
}
