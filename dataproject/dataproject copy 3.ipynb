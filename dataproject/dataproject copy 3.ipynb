{
 "cells": [
  {
   "cell_type": "markdown",
   "metadata": {},
   "source": [
    "# YOUR PROJECT TITLE"
   ]
  },
  {
   "attachments": {},
   "cell_type": "markdown",
   "metadata": {},
   "source": [
    "> **Note the following:** \n",
    "> 1. This is *not* meant to be an example of an actual **data analysis project**, just an example of how to structure such a project.\n",
    "> 1. Remember the general advice on structuring and commenting your code\n",
    "> 1. The `dataproject.py` file includes a function which can be used multiple times in this notebook."
   ]
  },
  {
   "cell_type": "markdown",
   "metadata": {},
   "source": [
    "Imports and set magics:"
   ]
  },
  {
   "cell_type": "code",
   "execution_count": null,
   "metadata": {},
   "outputs": [],
   "source": [
    "# importing the used packages \n",
    "import pandas as pd \n",
    "import numpy as np \n",
    "import datetime \n",
    "\n",
    "# importing package to create plots and setting basic settings\n",
    "import matplotlib.pyplot as plt\n",
    "plt.rcParams.update({\"axes.grid\":True,\"grid.color\":\"black\",\"grid.alpha\":\"0.25\",\"grid.linestyle\":\"-\"})\n",
    "plt.rcParams.update({'font.size': 10})\n",
    "import ipywidgets as widgets\n",
    "\n",
    "# importing the API from DST used to gather data\n",
    "from dstapi import DstApi \n",
    "\n",
    "# autoreload modules when code is run\n",
    "%load_ext autoreload\n",
    "%autoreload 2\n",
    "\n",
    "# user written modules\n",
    "import dataproject\n",
    "\n"
   ]
  },
  {
   "cell_type": "markdown",
   "metadata": {},
   "source": [
    "# Read and clean data"
   ]
  },
  {
   "attachments": {},
   "cell_type": "markdown",
   "metadata": {},
   "source": [
    "1. Data is imported using the API from Danmarks statistik"
   ]
  },
  {
   "cell_type": "code",
   "execution_count": null,
   "metadata": {},
   "outputs": [],
   "source": [
    "data = DstApi('EJ55') #EJ55 is data on the pricing of houses\n",
    "unemp = DstApi('AULK01') #AULK01 is data on the number of unemployed "
   ]
  },
  {
   "cell_type": "markdown",
   "metadata": {},
   "source": [
    "## Explore each data set"
   ]
  },
  {
   "attachments": {},
   "cell_type": "markdown",
   "metadata": {},
   "source": [
    "1. The availble values for each variable is plotted in order to select relevant variables. "
   ]
  },
  {
   "cell_type": "code",
   "execution_count": null,
   "metadata": {},
   "outputs": [],
   "source": [
    "#An overview over the availble data. \n",
    "tabsum = data.tablesummary(language='en')\n",
    "display(tabsum)\n",
    "\n",
    "# The available values for a each variable:\n",
    "for variable in tabsum['variable name']:\n",
    "    print(variable+':')\n",
    "    display(data.variable_levels(variable, language='en'))"
   ]
  },
  {
   "attachments": {},
   "cell_type": "markdown",
   "metadata": {},
   "source": [
    "We are only interested in some of "
   ]
  },
  {
   "attachments": {},
   "cell_type": "markdown",
   "metadata": {},
   "source": [
    "1. A param dictionary is defined in order to detail the data we want\n",
    "    - Initially it includes all data"
   ]
  },
  {
   "cell_type": "code",
   "execution_count": null,
   "metadata": {},
   "outputs": [],
   "source": [
    "params = data._define_base_params(language='en')\n",
    "params"
   ]
  },
  {
   "attachments": {},
   "cell_type": "markdown",
   "metadata": {},
   "source": [
    "1. We select the data we want on prices of housing. We only want data for \"All Denmark\" in indexed values, and percentage change compared to previous quarter."
   ]
  },
  {
   "cell_type": "code",
   "execution_count": null,
   "metadata": {},
   "outputs": [],
   "source": [
    "params = {'table': 'ej55',\n",
    " 'format': 'BULK',\n",
    " 'lang': 'en',\n",
    " 'variables': [{'code': 'OMRÅDE', 'values': ['01', '02', '03', '04', '05', '06', '07', '08', '09', '10', '11']},\n",
    "  {'code': 'EJENDOMSKATE', 'values': ['0111']},\n",
    "  {'code': 'TAL', 'values': ['100']}, # with the key 'code' we choose the desired variable and with the key 'values' we choose what subset of the dataset for the given variable we want to include\n",
    "  {'code': 'Tid', 'values': ['*']}]} # ['*'] includes all the available data\n"
   ]
  },
  {
   "attachments": {},
   "cell_type": "markdown",
   "metadata": {},
   "source": [
    "1. Data is sorted and the index is reset. \n",
    "2. Coloumns are renamed."
   ]
  },
  {
   "cell_type": "code",
   "execution_count": null,
   "metadata": {},
   "outputs": [],
   "source": [
    "sales_api = data.get_data(params=params) # retrieving the desired part of the dataset from DST\n",
    "sales_api.sort_values(by=['OMRÅDE', 'TID', 'EJENDOMSKATE'], inplace=True) # sorting the values\n",
    "sales_api.reset_index(inplace = True, drop = True) # resetting the index, so it fits the new dataset\n",
    "sales_api.rename(columns = {'OMRÅDE':'PROVINCE', 'EJENDOMSKATE':'CATEGORY', 'TAL':'UNIT', 'TID':'TIME', 'INDHOLD':'SALES_INDEX'}, inplace=True) # renaming columns"
   ]
  },
  {
   "attachments": {},
   "cell_type": "markdown",
   "metadata": {},
   "source": [
    "1. Missing values are replaced with NaN."
   ]
  },
  {
   "cell_type": "code",
   "execution_count": null,
   "metadata": {},
   "outputs": [],
   "source": [
    "sales_api = sales_api.replace('..', np.nan) # replacing all the missing data (denoted with '..' by DST) with NaN-values"
   ]
  },
  {
   "attachments": {},
   "cell_type": "markdown",
   "metadata": {},
   "source": [
    "1. Values types are replaced. "
   ]
  },
  {
   "cell_type": "code",
   "execution_count": null,
   "metadata": {},
   "outputs": [],
   "source": [
    "sales_api.info() "
   ]
  },
  {
   "attachments": {},
   "cell_type": "markdown",
   "metadata": {},
   "source": [
    "1. The value variable is changed from an object to a float type variable. "
   ]
  },
  {
   "cell_type": "code",
   "execution_count": null,
   "metadata": {},
   "outputs": [],
   "source": [
    "sales_api.SALES_INDEX = sales_api.SALES_INDEX .astype('float')\n",
    "sales_api.info()"
   ]
  },
  {
   "cell_type": "markdown",
   "metadata": {},
   "source": [
    "In order to be able to **explore the raw data**, you may provide **static** and **interactive plots** to show important developments "
   ]
  },
  {
   "cell_type": "markdown",
   "metadata": {},
   "source": [
    "**Interactive plot** :"
   ]
  },
  {
   "attachments": {},
   "cell_type": "markdown",
   "metadata": {},
   "source": [
    "1. We make an interactive plot of the prices on housing over time"
   ]
  },
  {
   "cell_type": "code",
   "execution_count": null,
   "metadata": {},
   "outputs": [],
   "source": [
    "def plot_value(df, province): \n",
    "    I = (df['PROVINCE'] == province) # creating the plot for the variable 'PROVINCE' allowing us to choose the desired province in the plot later on \n",
    "    ax=df.loc[I,:].plot(x='TIME', y='SALES_INDEX', legend=False) # choosing the x- and y-variables for the plot\n",
    "\n",
    "widgets.interact(plot_value, \n",
    "    df = widgets.fixed(sales_api),\n",
    "    province = widgets.Dropdown(description='Province', #creating drop-down widget that allows us to choose the desired province\n",
    "                                    options=sales_api.PROVINCE.unique(), \n",
    "                                    value='Province Byen København'), # initial province will be 'Byen København'\n",
    ")\n"
   ]
  },
  {
   "attachments": {},
   "cell_type": "markdown",
   "metadata": {},
   "source": [
    "In the plot above, we see that all price indexes have **strictly increased** since 1992. We note that the indexes are not comparable across regions, as each region is indexed so the value of the prices is normalized to 100 in 2006. So, even if prices in Byen København are, say, 30 percent higher than prices in Fyn in 2006, both indexes will have the value of index 100.\n",
    "\n",
    "However, from the graphical representation we can compare the relative increase in prices *within* a given province over time, and we see that the most dominant increases in prices since 2006 have been in the provinces 'Byen København', 'Københavns Omegn' and 'Bornholm'. In the recent quarters, of these three provinces, Bornholm have experienced the relatively largest decrease in prices again.\n",
    "\n"
   ]
  },
  {
   "attachments": {},
   "cell_type": "markdown",
   "metadata": {},
   "source": [
    "# Including a dataset on unemployment sorted by regions"
   ]
  },
  {
   "attachments": {},
   "cell_type": "markdown",
   "metadata": {},
   "source": [
    "1. The data have been imported with the DST API in cell 7 above. Below we, once again, clean and structure the dataset following the same basic method as with the dataset on housing prices."
   ]
  },
  {
   "cell_type": "code",
   "execution_count": null,
   "metadata": {},
   "outputs": [],
   "source": [
    "#An overview over the available data. \n",
    "tabsum_unemp = unemp.tablesummary(language='en')\n",
    "display(tabsum)\n",
    "\n",
    "# The available values for a each variable:\n",
    "for variable in tabsum_unemp['variable name']:\n",
    "    print(variable+':')\n",
    "    display(unemp.variable_levels(variable, language='en'))"
   ]
  },
  {
   "cell_type": "code",
   "execution_count": null,
   "metadata": {},
   "outputs": [],
   "source": [
    "params_unemp = unemp._define_base_params(language='en')\n",
    "params_unemp"
   ]
  },
  {
   "cell_type": "code",
   "execution_count": null,
   "metadata": {},
   "outputs": [],
   "source": []
  },
  {
   "cell_type": "code",
   "execution_count": null,
   "metadata": {},
   "outputs": [],
   "source": [
    "params_unemp = {'table': 'aulk01',\n",
    " 'format': 'BULK',\n",
    " 'lang': 'en',\n",
    " 'variables': [{'code': 'OMRÅDE', 'values': ['01', '02', '03', '04', '05', '06', '07', '08', '09', '10', '11']} # choosing same provinces as before,\n",
    "  {'code': 'YDELSESTYPE', 'values': ['TOT']}, # choosing the total number of unemployed for each variable\n",
    "  {'code': 'AKASSE', 'values': ['TOT']},\n",
    "  {'code': 'ALDER', 'values': ['TOT']},\n",
    "  {'code': 'KØN', 'values': ['TOT']},\n",
    "  {'code': 'Tid', 'values': ['*']}]} # choosing the entire timespan of the dataset\n"
   ]
  },
  {
   "cell_type": "code",
   "execution_count": null,
   "metadata": {},
   "outputs": [],
   "source": [
    "unemp_api = unemp.get_data(params=params_unemp) # retrieving the dataset from DST with the specifications from 'params_unemp'\n",
    "unemp_api.sort_values(by=['OMRÅDE', 'TID'], inplace=True) #sorting values\n",
    "unemp_api = unemp_api.drop(columns = ['YDELSESTYPE', 'AKASSE', 'ALDER', 'KØN']) #cleaning dataset by dropping columns\n",
    "unemp_api.reset_index(inplace = True, drop = True) # resetting index\n",
    "unemp_api.rename(columns = {'OMRÅDE':'PROVINCE','TID':'TIME', 'INDHOLD':'GROSS UNEMPLOYMENT'}, inplace=True) # renaming columns\n",
    "unemp_api.head(5)"
   ]
  },
  {
   "cell_type": "code",
   "execution_count": null,
   "metadata": {},
   "outputs": [],
   "source": [
    "sales_with_unemp = pd.merge(sales_api, unemp_api, on = ['PROVINCE', 'TIME'], how = 'inner') # Performing an inner merge of the two dataset (keeping only data for which there are observations for both variables in the dataset)\n",
    "sales_with_unemp.sample(10)"
   ]
  },
  {
   "attachments": {},
   "cell_type": "markdown",
   "metadata": {},
   "source": [
    "**Figure**"
   ]
  },
  {
   "cell_type": "code",
   "execution_count": null,
   "metadata": {},
   "outputs": [],
   "source": [
    "print(sales_with_unemp.columns)\n"
   ]
  },
  {
   "cell_type": "code",
   "execution_count": null,
   "metadata": {},
   "outputs": [],
   "source": [
    "def plot_value(df, province): \n",
    "    I = (df['PROVINCE'] == province)\n",
    "    ax=df.loc[I,:].plot(x='GROSS UNEMPLOYMENT', y='SALES_INDEX', legend=False)\n",
    "\n",
    "widgets.interact(plot_value, \n",
    "    df = widgets.fixed(sales_with_unemp),\n",
    "    province = widgets.Dropdown(description='Province', \n",
    "                                    options=sales_with_unemp.PROVINCE.unique(), \n",
    "                                    value='Province Byen København'),\n",
    ")"
   ]
  },
  {
   "cell_type": "code",
   "execution_count": null,
   "metadata": {},
   "outputs": [],
   "source": [
    "import pandas as pd\n",
    "import matplotlib.pyplot as plt\n",
    "import ipywidgets as widgets\n",
    "\n",
    "def plot_value(df, province): \n",
    "    I = (df['PROVINCE'] == province)\n",
    "    ax = df.loc[I,:].plot(kind='scatter', x='GROSS UNEMPLOYMENT', y='SALES_INDEX', legend=False)\n",
    "    ax.set_xlabel('GROSS UNEMPLOYMENT')\n",
    "    ax.set_ylabel('SALES_INDEX')\n",
    "    ax.set_title('Correlation between Sales Index and Gross Unemployment for {}'.format(province))\n",
    "\n",
    "widgets.interact(plot_value, \n",
    "    df = widgets.fixed(sales_with_unemp),\n",
    "    province = widgets.Dropdown(description='Province', \n",
    "                                    options=sales_with_unemp.PROVINCE.unique(), \n",
    "                                    value='Province Byen København'),\n",
    ")\n"
   ]
  },
  {
   "cell_type": "code",
   "execution_count": null,
   "metadata": {},
   "outputs": [],
   "source": [
    "# Import binsreg\n",
    "import binsreg\n",
    "\n",
    "def binscatter(df,province):\n",
    "    I =df[df['PROVINCE'] == province]\n",
    "    binsreg.binsreg('SALES_INDEX', 'GROSS UNEMPLOYMENT', data=I, \n",
    "                    nbins=10, #specify 10 bins \n",
    "                    polyreg=1) #create linear fitted line)\n",
    "    plt.xlabel('GROSS UNEMPLOYMENT')\n",
    "    plt.ylabel('SALES_INDEX')\n",
    "    # Specify x and y-titles\n",
    "\n",
    "\n",
    "widgets.interact(binscatter, \n",
    "    df = widgets.fixed(sales_with_unemp),\n",
    "    province = widgets.Dropdown(description='Province', \n",
    "                                    options=sales_with_unemp.PROVINCE.unique(), \n",
    "                                    value='Province Byen København'),\n",
    ")\n"
   ]
  },
  {
   "attachments": {},
   "cell_type": "markdown",
   "metadata": {},
   "source": [
    "LAV FIGUR MED UNEMP OG BOLIPRISER FOR HVER LANDSDEL"
   ]
  },
  {
   "cell_type": "markdown",
   "metadata": {},
   "source": [
    "MAKE FURTHER ANALYSIS. EXPLAIN THE CODE BRIEFLY AND SUMMARIZE THE RESULTS."
   ]
  },
  {
   "cell_type": "markdown",
   "metadata": {},
   "source": [
    "# Conclusion"
   ]
  },
  {
   "cell_type": "markdown",
   "metadata": {},
   "source": [
    "ADD CONCISE CONLUSION."
   ]
  }
 ],
 "metadata": {
  "kernelspec": {
   "display_name": "base",
   "language": "python",
   "name": "python3"
  },
  "language_info": {
   "codemirror_mode": {
    "name": "ipython",
    "version": 3
   },
   "file_extension": ".py",
   "mimetype": "text/x-python",
   "name": "python",
   "nbconvert_exporter": "python",
   "pygments_lexer": "ipython3",
   "version": "3.9.13"
  },
  "toc-autonumbering": true,
  "vscode": {
   "interpreter": {
    "hash": "47ef90cdf3004d3f859f1fb202523c65c07ba7c22eefd261b181f4744e2d0403"
   }
  }
 },
 "nbformat": 4,
 "nbformat_minor": 4
}
